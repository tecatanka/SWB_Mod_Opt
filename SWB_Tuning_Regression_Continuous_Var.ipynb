{
  "cells": [
    {
      "cell_type": "markdown",
      "metadata": {
        "id": "view-in-github",
        "colab_type": "text"
      },
      "source": [
        "<a href=\"https://colab.research.google.com/github/tecatanka/SWB_Mod_Opt/blob/main/SWB_Tuning_Regression_Continuous_Var.ipynb\" target=\"_parent\"><img src=\"https://colab.research.google.com/assets/colab-badge.svg\" alt=\"Open In Colab\"/></a>"
      ]
    },
    {
      "cell_type": "code",
      "execution_count": 6,
      "id": "d91e2259-ba9e-426a-bfef-53799bf3117b",
      "metadata": {
        "tags": [],
        "colab": {
          "base_uri": "https://localhost:8080/"
        },
        "id": "d91e2259-ba9e-426a-bfef-53799bf3117b",
        "outputId": "ae68db50-4229-4988-cba5-d50149219469"
      },
      "outputs": [
        {
          "output_type": "stream",
          "name": "stdout",
          "text": [
            "Tensor flow version:  2.12.0\n"
          ]
        }
      ],
      "source": [
        "# Import packages\n",
        "#from __future__ import absolute_import, division, print_function\n",
        "#import pathlib\n",
        "#!pip install -q -U keras-tuner  # pip installation of keras tuner\n",
        "\n",
        "#Google colab\n",
        "from google.colab import files\n",
        "\n",
        "# Importing modules for data processing and plotting\n",
        "import pandas as pd\n",
        "import seaborn as sns\n",
        "import numpy as np\n",
        "\n",
        "import matplotlib.pyplot as plt\n",
        "from matplotlib import colors\n",
        "from matplotlib.ticker import PercentFormatter\n",
        "\n",
        "#Statistical modules\n",
        "from scipy import stats\n",
        "import pylab\n",
        "from sklearn.metrics import mean_squared_error\n",
        "\n",
        "# Importing modules for neural net creation\n",
        "from sklearn.model_selection import train_test_split\n",
        "\n",
        "import tensorflow as tf\n",
        "from tensorflow import keras\n",
        "from tensorflow.keras import layers\n",
        "\n",
        "print(\"Tensor flow version: \", tf.__version__)"
      ]
    },
    {
      "cell_type": "markdown",
      "id": "2a73dead-ab75-4523-944d-10542d427c54",
      "metadata": {
        "id": "2a73dead-ab75-4523-944d-10542d427c54"
      },
      "source": [
        "# Regression example using a Neural Net\n",
        "\n",
        "You are working as an analyst for the biology department of a large academic institution which offers a four-year undergraduate degree program. The academic leaders of the department are interested in understanding how student performance in the final-year examination of the degree program relates to performance in the prior three years.\n",
        "\n",
        "To help with this, you have been provided with data for 975 individuals graduating in the past three years, and you have been asked to create a model to explain each individual’s final examination score based on their examination scores for the first three years of their program. The Year 1 examination scores are awarded on a scale of 0–100, Years 2 and 3 on a scale of 0–200, and the Final year is awarded on a scale of 0–300.\n",
        "\n",
        "We will load the ugtests.csv data set into our session\n",
        "\n",
        "Source: https://peopleanalytics-regression-book.org/linear-reg-ols.html\n"
      ]
    },
    {
      "cell_type": "code",
      "source": [
        "uploaded = files.upload()"
      ],
      "metadata": {
        "colab": {
          "base_uri": "https://localhost:8080/",
          "height": 73
        },
        "id": "PFPAG4r6vwIY",
        "outputId": "0d9790ba-d00f-47a2-ca9f-fe3233f5a0fa"
      },
      "id": "PFPAG4r6vwIY",
      "execution_count": 7,
      "outputs": [
        {
          "output_type": "display_data",
          "data": {
            "text/plain": [
              "<IPython.core.display.HTML object>"
            ],
            "text/html": [
              "\n",
              "     <input type=\"file\" id=\"files-beb989c6-c833-4411-87f8-4aba7c525b71\" name=\"files[]\" multiple disabled\n",
              "        style=\"border:none\" />\n",
              "     <output id=\"result-beb989c6-c833-4411-87f8-4aba7c525b71\">\n",
              "      Upload widget is only available when the cell has been executed in the\n",
              "      current browser session. Please rerun this cell to enable.\n",
              "      </output>\n",
              "      <script>// Copyright 2017 Google LLC\n",
              "//\n",
              "// Licensed under the Apache License, Version 2.0 (the \"License\");\n",
              "// you may not use this file except in compliance with the License.\n",
              "// You may obtain a copy of the License at\n",
              "//\n",
              "//      http://www.apache.org/licenses/LICENSE-2.0\n",
              "//\n",
              "// Unless required by applicable law or agreed to in writing, software\n",
              "// distributed under the License is distributed on an \"AS IS\" BASIS,\n",
              "// WITHOUT WARRANTIES OR CONDITIONS OF ANY KIND, either express or implied.\n",
              "// See the License for the specific language governing permissions and\n",
              "// limitations under the License.\n",
              "\n",
              "/**\n",
              " * @fileoverview Helpers for google.colab Python module.\n",
              " */\n",
              "(function(scope) {\n",
              "function span(text, styleAttributes = {}) {\n",
              "  const element = document.createElement('span');\n",
              "  element.textContent = text;\n",
              "  for (const key of Object.keys(styleAttributes)) {\n",
              "    element.style[key] = styleAttributes[key];\n",
              "  }\n",
              "  return element;\n",
              "}\n",
              "\n",
              "// Max number of bytes which will be uploaded at a time.\n",
              "const MAX_PAYLOAD_SIZE = 100 * 1024;\n",
              "\n",
              "function _uploadFiles(inputId, outputId) {\n",
              "  const steps = uploadFilesStep(inputId, outputId);\n",
              "  const outputElement = document.getElementById(outputId);\n",
              "  // Cache steps on the outputElement to make it available for the next call\n",
              "  // to uploadFilesContinue from Python.\n",
              "  outputElement.steps = steps;\n",
              "\n",
              "  return _uploadFilesContinue(outputId);\n",
              "}\n",
              "\n",
              "// This is roughly an async generator (not supported in the browser yet),\n",
              "// where there are multiple asynchronous steps and the Python side is going\n",
              "// to poll for completion of each step.\n",
              "// This uses a Promise to block the python side on completion of each step,\n",
              "// then passes the result of the previous step as the input to the next step.\n",
              "function _uploadFilesContinue(outputId) {\n",
              "  const outputElement = document.getElementById(outputId);\n",
              "  const steps = outputElement.steps;\n",
              "\n",
              "  const next = steps.next(outputElement.lastPromiseValue);\n",
              "  return Promise.resolve(next.value.promise).then((value) => {\n",
              "    // Cache the last promise value to make it available to the next\n",
              "    // step of the generator.\n",
              "    outputElement.lastPromiseValue = value;\n",
              "    return next.value.response;\n",
              "  });\n",
              "}\n",
              "\n",
              "/**\n",
              " * Generator function which is called between each async step of the upload\n",
              " * process.\n",
              " * @param {string} inputId Element ID of the input file picker element.\n",
              " * @param {string} outputId Element ID of the output display.\n",
              " * @return {!Iterable<!Object>} Iterable of next steps.\n",
              " */\n",
              "function* uploadFilesStep(inputId, outputId) {\n",
              "  const inputElement = document.getElementById(inputId);\n",
              "  inputElement.disabled = false;\n",
              "\n",
              "  const outputElement = document.getElementById(outputId);\n",
              "  outputElement.innerHTML = '';\n",
              "\n",
              "  const pickedPromise = new Promise((resolve) => {\n",
              "    inputElement.addEventListener('change', (e) => {\n",
              "      resolve(e.target.files);\n",
              "    });\n",
              "  });\n",
              "\n",
              "  const cancel = document.createElement('button');\n",
              "  inputElement.parentElement.appendChild(cancel);\n",
              "  cancel.textContent = 'Cancel upload';\n",
              "  const cancelPromise = new Promise((resolve) => {\n",
              "    cancel.onclick = () => {\n",
              "      resolve(null);\n",
              "    };\n",
              "  });\n",
              "\n",
              "  // Wait for the user to pick the files.\n",
              "  const files = yield {\n",
              "    promise: Promise.race([pickedPromise, cancelPromise]),\n",
              "    response: {\n",
              "      action: 'starting',\n",
              "    }\n",
              "  };\n",
              "\n",
              "  cancel.remove();\n",
              "\n",
              "  // Disable the input element since further picks are not allowed.\n",
              "  inputElement.disabled = true;\n",
              "\n",
              "  if (!files) {\n",
              "    return {\n",
              "      response: {\n",
              "        action: 'complete',\n",
              "      }\n",
              "    };\n",
              "  }\n",
              "\n",
              "  for (const file of files) {\n",
              "    const li = document.createElement('li');\n",
              "    li.append(span(file.name, {fontWeight: 'bold'}));\n",
              "    li.append(span(\n",
              "        `(${file.type || 'n/a'}) - ${file.size} bytes, ` +\n",
              "        `last modified: ${\n",
              "            file.lastModifiedDate ? file.lastModifiedDate.toLocaleDateString() :\n",
              "                                    'n/a'} - `));\n",
              "    const percent = span('0% done');\n",
              "    li.appendChild(percent);\n",
              "\n",
              "    outputElement.appendChild(li);\n",
              "\n",
              "    const fileDataPromise = new Promise((resolve) => {\n",
              "      const reader = new FileReader();\n",
              "      reader.onload = (e) => {\n",
              "        resolve(e.target.result);\n",
              "      };\n",
              "      reader.readAsArrayBuffer(file);\n",
              "    });\n",
              "    // Wait for the data to be ready.\n",
              "    let fileData = yield {\n",
              "      promise: fileDataPromise,\n",
              "      response: {\n",
              "        action: 'continue',\n",
              "      }\n",
              "    };\n",
              "\n",
              "    // Use a chunked sending to avoid message size limits. See b/62115660.\n",
              "    let position = 0;\n",
              "    do {\n",
              "      const length = Math.min(fileData.byteLength - position, MAX_PAYLOAD_SIZE);\n",
              "      const chunk = new Uint8Array(fileData, position, length);\n",
              "      position += length;\n",
              "\n",
              "      const base64 = btoa(String.fromCharCode.apply(null, chunk));\n",
              "      yield {\n",
              "        response: {\n",
              "          action: 'append',\n",
              "          file: file.name,\n",
              "          data: base64,\n",
              "        },\n",
              "      };\n",
              "\n",
              "      let percentDone = fileData.byteLength === 0 ?\n",
              "          100 :\n",
              "          Math.round((position / fileData.byteLength) * 100);\n",
              "      percent.textContent = `${percentDone}% done`;\n",
              "\n",
              "    } while (position < fileData.byteLength);\n",
              "  }\n",
              "\n",
              "  // All done.\n",
              "  yield {\n",
              "    response: {\n",
              "      action: 'complete',\n",
              "    }\n",
              "  };\n",
              "}\n",
              "\n",
              "scope.google = scope.google || {};\n",
              "scope.google.colab = scope.google.colab || {};\n",
              "scope.google.colab._files = {\n",
              "  _uploadFiles,\n",
              "  _uploadFilesContinue,\n",
              "};\n",
              "})(self);\n",
              "</script> "
            ]
          },
          "metadata": {}
        },
        {
          "output_type": "stream",
          "name": "stdout",
          "text": [
            "Saving ugtests.csv to ugtests.csv\n"
          ]
        }
      ]
    },
    {
      "cell_type": "code",
      "execution_count": 9,
      "id": "d60d4444-6a20-4e44-8593-9c94fb8c8de2",
      "metadata": {
        "tags": [],
        "id": "d60d4444-6a20-4e44-8593-9c94fb8c8de2"
      },
      "outputs": [],
      "source": [
        "# Data acquisition\n",
        "\n",
        "\n",
        "\n",
        "raw_dataset = pd.read_csv(\"ugtests.csv\")"
      ]
    },
    {
      "cell_type": "code",
      "execution_count": 10,
      "id": "cc628967-15fa-41d0-af71-f46703016a0e",
      "metadata": {
        "tags": [],
        "colab": {
          "base_uri": "https://localhost:8080/",
          "height": 363
        },
        "id": "cc628967-15fa-41d0-af71-f46703016a0e",
        "outputId": "6ccc0fc1-0e52-4017-b6bb-cff55136ad58"
      },
      "outputs": [
        {
          "output_type": "execute_result",
          "data": {
            "text/plain": [
              "     Yr1  Yr2  Yr3  Final\n",
              "965   41   89   79    123\n",
              "966   50   75  159    154\n",
              "967   64  139   92    165\n",
              "968   46   55   47    150\n",
              "969   49  129  109    166\n",
              "970   78   68  166    176\n",
              "971   44   61  116    155\n",
              "972   80   97  121    148\n",
              "973   37   79  120    178\n",
              "974   58  135  125    172"
            ],
            "text/html": [
              "\n",
              "\n",
              "  <div id=\"df-53d3ea99-aea5-47af-8c88-8ae0a237a5c3\">\n",
              "    <div class=\"colab-df-container\">\n",
              "      <div>\n",
              "<style scoped>\n",
              "    .dataframe tbody tr th:only-of-type {\n",
              "        vertical-align: middle;\n",
              "    }\n",
              "\n",
              "    .dataframe tbody tr th {\n",
              "        vertical-align: top;\n",
              "    }\n",
              "\n",
              "    .dataframe thead th {\n",
              "        text-align: right;\n",
              "    }\n",
              "</style>\n",
              "<table border=\"1\" class=\"dataframe\">\n",
              "  <thead>\n",
              "    <tr style=\"text-align: right;\">\n",
              "      <th></th>\n",
              "      <th>Yr1</th>\n",
              "      <th>Yr2</th>\n",
              "      <th>Yr3</th>\n",
              "      <th>Final</th>\n",
              "    </tr>\n",
              "  </thead>\n",
              "  <tbody>\n",
              "    <tr>\n",
              "      <th>965</th>\n",
              "      <td>41</td>\n",
              "      <td>89</td>\n",
              "      <td>79</td>\n",
              "      <td>123</td>\n",
              "    </tr>\n",
              "    <tr>\n",
              "      <th>966</th>\n",
              "      <td>50</td>\n",
              "      <td>75</td>\n",
              "      <td>159</td>\n",
              "      <td>154</td>\n",
              "    </tr>\n",
              "    <tr>\n",
              "      <th>967</th>\n",
              "      <td>64</td>\n",
              "      <td>139</td>\n",
              "      <td>92</td>\n",
              "      <td>165</td>\n",
              "    </tr>\n",
              "    <tr>\n",
              "      <th>968</th>\n",
              "      <td>46</td>\n",
              "      <td>55</td>\n",
              "      <td>47</td>\n",
              "      <td>150</td>\n",
              "    </tr>\n",
              "    <tr>\n",
              "      <th>969</th>\n",
              "      <td>49</td>\n",
              "      <td>129</td>\n",
              "      <td>109</td>\n",
              "      <td>166</td>\n",
              "    </tr>\n",
              "    <tr>\n",
              "      <th>970</th>\n",
              "      <td>78</td>\n",
              "      <td>68</td>\n",
              "      <td>166</td>\n",
              "      <td>176</td>\n",
              "    </tr>\n",
              "    <tr>\n",
              "      <th>971</th>\n",
              "      <td>44</td>\n",
              "      <td>61</td>\n",
              "      <td>116</td>\n",
              "      <td>155</td>\n",
              "    </tr>\n",
              "    <tr>\n",
              "      <th>972</th>\n",
              "      <td>80</td>\n",
              "      <td>97</td>\n",
              "      <td>121</td>\n",
              "      <td>148</td>\n",
              "    </tr>\n",
              "    <tr>\n",
              "      <th>973</th>\n",
              "      <td>37</td>\n",
              "      <td>79</td>\n",
              "      <td>120</td>\n",
              "      <td>178</td>\n",
              "    </tr>\n",
              "    <tr>\n",
              "      <th>974</th>\n",
              "      <td>58</td>\n",
              "      <td>135</td>\n",
              "      <td>125</td>\n",
              "      <td>172</td>\n",
              "    </tr>\n",
              "  </tbody>\n",
              "</table>\n",
              "</div>\n",
              "      <button class=\"colab-df-convert\" onclick=\"convertToInteractive('df-53d3ea99-aea5-47af-8c88-8ae0a237a5c3')\"\n",
              "              title=\"Convert this dataframe to an interactive table.\"\n",
              "              style=\"display:none;\">\n",
              "\n",
              "  <svg xmlns=\"http://www.w3.org/2000/svg\" height=\"24px\"viewBox=\"0 0 24 24\"\n",
              "       width=\"24px\">\n",
              "    <path d=\"M0 0h24v24H0V0z\" fill=\"none\"/>\n",
              "    <path d=\"M18.56 5.44l.94 2.06.94-2.06 2.06-.94-2.06-.94-.94-2.06-.94 2.06-2.06.94zm-11 1L8.5 8.5l.94-2.06 2.06-.94-2.06-.94L8.5 2.5l-.94 2.06-2.06.94zm10 10l.94 2.06.94-2.06 2.06-.94-2.06-.94-.94-2.06-.94 2.06-2.06.94z\"/><path d=\"M17.41 7.96l-1.37-1.37c-.4-.4-.92-.59-1.43-.59-.52 0-1.04.2-1.43.59L10.3 9.45l-7.72 7.72c-.78.78-.78 2.05 0 2.83L4 21.41c.39.39.9.59 1.41.59.51 0 1.02-.2 1.41-.59l7.78-7.78 2.81-2.81c.8-.78.8-2.07 0-2.86zM5.41 20L4 18.59l7.72-7.72 1.47 1.35L5.41 20z\"/>\n",
              "  </svg>\n",
              "      </button>\n",
              "\n",
              "\n",
              "\n",
              "    <div id=\"df-1f93f0a1-fc1f-4a95-9e2e-c3e30d8584f0\">\n",
              "      <button class=\"colab-df-quickchart\" onclick=\"quickchart('df-1f93f0a1-fc1f-4a95-9e2e-c3e30d8584f0')\"\n",
              "              title=\"Suggest charts.\"\n",
              "              style=\"display:none;\">\n",
              "\n",
              "<svg xmlns=\"http://www.w3.org/2000/svg\" height=\"24px\"viewBox=\"0 0 24 24\"\n",
              "     width=\"24px\">\n",
              "    <g>\n",
              "        <path d=\"M19 3H5c-1.1 0-2 .9-2 2v14c0 1.1.9 2 2 2h14c1.1 0 2-.9 2-2V5c0-1.1-.9-2-2-2zM9 17H7v-7h2v7zm4 0h-2V7h2v10zm4 0h-2v-4h2v4z\"/>\n",
              "    </g>\n",
              "</svg>\n",
              "      </button>\n",
              "    </div>\n",
              "\n",
              "<style>\n",
              "  .colab-df-quickchart {\n",
              "    background-color: #E8F0FE;\n",
              "    border: none;\n",
              "    border-radius: 50%;\n",
              "    cursor: pointer;\n",
              "    display: none;\n",
              "    fill: #1967D2;\n",
              "    height: 32px;\n",
              "    padding: 0 0 0 0;\n",
              "    width: 32px;\n",
              "  }\n",
              "\n",
              "  .colab-df-quickchart:hover {\n",
              "    background-color: #E2EBFA;\n",
              "    box-shadow: 0px 1px 2px rgba(60, 64, 67, 0.3), 0px 1px 3px 1px rgba(60, 64, 67, 0.15);\n",
              "    fill: #174EA6;\n",
              "  }\n",
              "\n",
              "  [theme=dark] .colab-df-quickchart {\n",
              "    background-color: #3B4455;\n",
              "    fill: #D2E3FC;\n",
              "  }\n",
              "\n",
              "  [theme=dark] .colab-df-quickchart:hover {\n",
              "    background-color: #434B5C;\n",
              "    box-shadow: 0px 1px 3px 1px rgba(0, 0, 0, 0.15);\n",
              "    filter: drop-shadow(0px 1px 2px rgba(0, 0, 0, 0.3));\n",
              "    fill: #FFFFFF;\n",
              "  }\n",
              "</style>\n",
              "\n",
              "    <script>\n",
              "      async function quickchart(key) {\n",
              "        const containerElement = document.querySelector('#' + key);\n",
              "        const charts = await google.colab.kernel.invokeFunction(\n",
              "            'suggestCharts', [key], {});\n",
              "      }\n",
              "    </script>\n",
              "\n",
              "      <script>\n",
              "\n",
              "function displayQuickchartButton(domScope) {\n",
              "  let quickchartButtonEl =\n",
              "    domScope.querySelector('#df-1f93f0a1-fc1f-4a95-9e2e-c3e30d8584f0 button.colab-df-quickchart');\n",
              "  quickchartButtonEl.style.display =\n",
              "    google.colab.kernel.accessAllowed ? 'block' : 'none';\n",
              "}\n",
              "\n",
              "        displayQuickchartButton(document);\n",
              "      </script>\n",
              "      <style>\n",
              "    .colab-df-container {\n",
              "      display:flex;\n",
              "      flex-wrap:wrap;\n",
              "      gap: 12px;\n",
              "    }\n",
              "\n",
              "    .colab-df-convert {\n",
              "      background-color: #E8F0FE;\n",
              "      border: none;\n",
              "      border-radius: 50%;\n",
              "      cursor: pointer;\n",
              "      display: none;\n",
              "      fill: #1967D2;\n",
              "      height: 32px;\n",
              "      padding: 0 0 0 0;\n",
              "      width: 32px;\n",
              "    }\n",
              "\n",
              "    .colab-df-convert:hover {\n",
              "      background-color: #E2EBFA;\n",
              "      box-shadow: 0px 1px 2px rgba(60, 64, 67, 0.3), 0px 1px 3px 1px rgba(60, 64, 67, 0.15);\n",
              "      fill: #174EA6;\n",
              "    }\n",
              "\n",
              "    [theme=dark] .colab-df-convert {\n",
              "      background-color: #3B4455;\n",
              "      fill: #D2E3FC;\n",
              "    }\n",
              "\n",
              "    [theme=dark] .colab-df-convert:hover {\n",
              "      background-color: #434B5C;\n",
              "      box-shadow: 0px 1px 3px 1px rgba(0, 0, 0, 0.15);\n",
              "      filter: drop-shadow(0px 1px 2px rgba(0, 0, 0, 0.3));\n",
              "      fill: #FFFFFF;\n",
              "    }\n",
              "  </style>\n",
              "\n",
              "      <script>\n",
              "        const buttonEl =\n",
              "          document.querySelector('#df-53d3ea99-aea5-47af-8c88-8ae0a237a5c3 button.colab-df-convert');\n",
              "        buttonEl.style.display =\n",
              "          google.colab.kernel.accessAllowed ? 'block' : 'none';\n",
              "\n",
              "        async function convertToInteractive(key) {\n",
              "          const element = document.querySelector('#df-53d3ea99-aea5-47af-8c88-8ae0a237a5c3');\n",
              "          const dataTable =\n",
              "            await google.colab.kernel.invokeFunction('convertToInteractive',\n",
              "                                                     [key], {});\n",
              "          if (!dataTable) return;\n",
              "\n",
              "          const docLinkHtml = 'Like what you see? Visit the ' +\n",
              "            '<a target=\"_blank\" href=https://colab.research.google.com/notebooks/data_table.ipynb>data table notebook</a>'\n",
              "            + ' to learn more about interactive tables.';\n",
              "          element.innerHTML = '';\n",
              "          dataTable['output_type'] = 'display_data';\n",
              "          await google.colab.output.renderOutput(dataTable, element);\n",
              "          const docLink = document.createElement('div');\n",
              "          docLink.innerHTML = docLinkHtml;\n",
              "          element.appendChild(docLink);\n",
              "        }\n",
              "      </script>\n",
              "    </div>\n",
              "  </div>\n"
            ]
          },
          "metadata": {},
          "execution_count": 10
        }
      ],
      "source": [
        "# Create data object to work:\n",
        "\n",
        "dataset = raw_dataset.copy()\n",
        "dataset.tail(10) # looking last rows (Note: Python starts indexing with zero 0->974 then 975 data points)"
      ]
    },
    {
      "cell_type": "markdown",
      "id": "844257af-ff6e-4aaa-bdd8-75f73fe8ad88",
      "metadata": {
        "tags": [],
        "id": "844257af-ff6e-4aaa-bdd8-75f73fe8ad88"
      },
      "source": [
        "# Brief EDA"
      ]
    },
    {
      "cell_type": "code",
      "execution_count": 11,
      "id": "d6dd107a-61e2-4373-8bee-3ea386a70a1a",
      "metadata": {
        "tags": [],
        "colab": {
          "base_uri": "https://localhost:8080/"
        },
        "id": "d6dd107a-61e2-4373-8bee-3ea386a70a1a",
        "outputId": "9793079e-203b-4f59-e5db-6f7ba551c7e0"
      },
      "outputs": [
        {
          "output_type": "execute_result",
          "data": {
            "text/plain": [
              "975"
            ]
          },
          "metadata": {},
          "execution_count": 11
        }
      ],
      "source": [
        "# Number of rows in data set\n",
        "num_rows=len(dataset)\n",
        "num_rows"
      ]
    },
    {
      "cell_type": "code",
      "execution_count": 13,
      "id": "2d2c5042-81e1-44e6-a872-53422c91112a",
      "metadata": {
        "tags": [],
        "colab": {
          "base_uri": "https://localhost:8080/"
        },
        "id": "2d2c5042-81e1-44e6-a872-53422c91112a",
        "outputId": "5d03fad9-348b-4aa8-de45-e04e387e2c2a"
      },
      "outputs": [
        {
          "output_type": "execute_result",
          "data": {
            "text/plain": [
              "4"
            ]
          },
          "metadata": {},
          "execution_count": 13
        }
      ],
      "source": [
        "# Number of columns\n",
        "num_cols=len(dataset.columns)\n",
        "num_cols"
      ]
    },
    {
      "cell_type": "code",
      "execution_count": 14,
      "id": "e5a1c4c4-ea28-489e-b6dc-4e55eeabc555",
      "metadata": {
        "tags": [],
        "colab": {
          "base_uri": "https://localhost:8080/"
        },
        "id": "e5a1c4c4-ea28-489e-b6dc-4e55eeabc555",
        "outputId": "48e03e0e-78f8-4cc2-a087-cf9e703d3f26"
      },
      "outputs": [
        {
          "output_type": "execute_result",
          "data": {
            "text/plain": [
              "Yr1      int64\n",
              "Yr2      int64\n",
              "Yr3      int64\n",
              "Final    int64\n",
              "dtype: object"
            ]
          },
          "metadata": {},
          "execution_count": 14
        }
      ],
      "source": [
        "# Types of columns\n",
        "types_cols=dataset.dtypes\n",
        "types_cols"
      ]
    },
    {
      "cell_type": "code",
      "execution_count": 15,
      "id": "6b613df4-120b-4009-856b-2117fcfc64a8",
      "metadata": {
        "tags": [],
        "colab": {
          "base_uri": "https://localhost:8080/"
        },
        "id": "6b613df4-120b-4009-856b-2117fcfc64a8",
        "outputId": "13802a0a-f0a2-4b06-e449-cc33ff62549e"
      },
      "outputs": [
        {
          "output_type": "execute_result",
          "data": {
            "text/plain": [
              "Yr1      0\n",
              "Yr2      0\n",
              "Yr3      0\n",
              "Final    0\n",
              "dtype: int64"
            ]
          },
          "metadata": {},
          "execution_count": 15
        }
      ],
      "source": [
        "# Clean data\n",
        "dataset.isna().sum() #add cells that have no data (NA)\n"
      ]
    },
    {
      "cell_type": "code",
      "execution_count": 16,
      "id": "2d9f5781-6b85-45ed-aa6b-c9adca8a430c",
      "metadata": {
        "tags": [],
        "colab": {
          "base_uri": "https://localhost:8080/",
          "height": 175
        },
        "id": "2d9f5781-6b85-45ed-aa6b-c9adca8a430c",
        "outputId": "d48cdc52-97b4-4a1e-ece4-06e28861ea0a"
      },
      "outputs": [
        {
          "output_type": "execute_result",
          "data": {
            "text/plain": [
              "       count        mean        std  min    25%    50%    75%    max\n",
              "Yr1    975.0   52.145641  14.924083  3.0   42.0   53.0   62.0   99.0\n",
              "Yr2    975.0   92.398974  30.038473  6.0   73.0   94.0  112.0  188.0\n",
              "Yr3    975.0  105.121026  33.507052  8.0   81.0  105.0  130.0  198.0\n",
              "Final  975.0  148.962051  44.339663  8.0  118.0  147.0  175.0  295.0"
            ],
            "text/html": [
              "\n",
              "\n",
              "  <div id=\"df-1d603bfd-e696-46f0-bb56-807bdd7c65fc\">\n",
              "    <div class=\"colab-df-container\">\n",
              "      <div>\n",
              "<style scoped>\n",
              "    .dataframe tbody tr th:only-of-type {\n",
              "        vertical-align: middle;\n",
              "    }\n",
              "\n",
              "    .dataframe tbody tr th {\n",
              "        vertical-align: top;\n",
              "    }\n",
              "\n",
              "    .dataframe thead th {\n",
              "        text-align: right;\n",
              "    }\n",
              "</style>\n",
              "<table border=\"1\" class=\"dataframe\">\n",
              "  <thead>\n",
              "    <tr style=\"text-align: right;\">\n",
              "      <th></th>\n",
              "      <th>count</th>\n",
              "      <th>mean</th>\n",
              "      <th>std</th>\n",
              "      <th>min</th>\n",
              "      <th>25%</th>\n",
              "      <th>50%</th>\n",
              "      <th>75%</th>\n",
              "      <th>max</th>\n",
              "    </tr>\n",
              "  </thead>\n",
              "  <tbody>\n",
              "    <tr>\n",
              "      <th>Yr1</th>\n",
              "      <td>975.0</td>\n",
              "      <td>52.145641</td>\n",
              "      <td>14.924083</td>\n",
              "      <td>3.0</td>\n",
              "      <td>42.0</td>\n",
              "      <td>53.0</td>\n",
              "      <td>62.0</td>\n",
              "      <td>99.0</td>\n",
              "    </tr>\n",
              "    <tr>\n",
              "      <th>Yr2</th>\n",
              "      <td>975.0</td>\n",
              "      <td>92.398974</td>\n",
              "      <td>30.038473</td>\n",
              "      <td>6.0</td>\n",
              "      <td>73.0</td>\n",
              "      <td>94.0</td>\n",
              "      <td>112.0</td>\n",
              "      <td>188.0</td>\n",
              "    </tr>\n",
              "    <tr>\n",
              "      <th>Yr3</th>\n",
              "      <td>975.0</td>\n",
              "      <td>105.121026</td>\n",
              "      <td>33.507052</td>\n",
              "      <td>8.0</td>\n",
              "      <td>81.0</td>\n",
              "      <td>105.0</td>\n",
              "      <td>130.0</td>\n",
              "      <td>198.0</td>\n",
              "    </tr>\n",
              "    <tr>\n",
              "      <th>Final</th>\n",
              "      <td>975.0</td>\n",
              "      <td>148.962051</td>\n",
              "      <td>44.339663</td>\n",
              "      <td>8.0</td>\n",
              "      <td>118.0</td>\n",
              "      <td>147.0</td>\n",
              "      <td>175.0</td>\n",
              "      <td>295.0</td>\n",
              "    </tr>\n",
              "  </tbody>\n",
              "</table>\n",
              "</div>\n",
              "      <button class=\"colab-df-convert\" onclick=\"convertToInteractive('df-1d603bfd-e696-46f0-bb56-807bdd7c65fc')\"\n",
              "              title=\"Convert this dataframe to an interactive table.\"\n",
              "              style=\"display:none;\">\n",
              "\n",
              "  <svg xmlns=\"http://www.w3.org/2000/svg\" height=\"24px\"viewBox=\"0 0 24 24\"\n",
              "       width=\"24px\">\n",
              "    <path d=\"M0 0h24v24H0V0z\" fill=\"none\"/>\n",
              "    <path d=\"M18.56 5.44l.94 2.06.94-2.06 2.06-.94-2.06-.94-.94-2.06-.94 2.06-2.06.94zm-11 1L8.5 8.5l.94-2.06 2.06-.94-2.06-.94L8.5 2.5l-.94 2.06-2.06.94zm10 10l.94 2.06.94-2.06 2.06-.94-2.06-.94-.94-2.06-.94 2.06-2.06.94z\"/><path d=\"M17.41 7.96l-1.37-1.37c-.4-.4-.92-.59-1.43-.59-.52 0-1.04.2-1.43.59L10.3 9.45l-7.72 7.72c-.78.78-.78 2.05 0 2.83L4 21.41c.39.39.9.59 1.41.59.51 0 1.02-.2 1.41-.59l7.78-7.78 2.81-2.81c.8-.78.8-2.07 0-2.86zM5.41 20L4 18.59l7.72-7.72 1.47 1.35L5.41 20z\"/>\n",
              "  </svg>\n",
              "      </button>\n",
              "\n",
              "\n",
              "\n",
              "    <div id=\"df-525605d0-3272-4811-a9dd-a38868969020\">\n",
              "      <button class=\"colab-df-quickchart\" onclick=\"quickchart('df-525605d0-3272-4811-a9dd-a38868969020')\"\n",
              "              title=\"Suggest charts.\"\n",
              "              style=\"display:none;\">\n",
              "\n",
              "<svg xmlns=\"http://www.w3.org/2000/svg\" height=\"24px\"viewBox=\"0 0 24 24\"\n",
              "     width=\"24px\">\n",
              "    <g>\n",
              "        <path d=\"M19 3H5c-1.1 0-2 .9-2 2v14c0 1.1.9 2 2 2h14c1.1 0 2-.9 2-2V5c0-1.1-.9-2-2-2zM9 17H7v-7h2v7zm4 0h-2V7h2v10zm4 0h-2v-4h2v4z\"/>\n",
              "    </g>\n",
              "</svg>\n",
              "      </button>\n",
              "    </div>\n",
              "\n",
              "<style>\n",
              "  .colab-df-quickchart {\n",
              "    background-color: #E8F0FE;\n",
              "    border: none;\n",
              "    border-radius: 50%;\n",
              "    cursor: pointer;\n",
              "    display: none;\n",
              "    fill: #1967D2;\n",
              "    height: 32px;\n",
              "    padding: 0 0 0 0;\n",
              "    width: 32px;\n",
              "  }\n",
              "\n",
              "  .colab-df-quickchart:hover {\n",
              "    background-color: #E2EBFA;\n",
              "    box-shadow: 0px 1px 2px rgba(60, 64, 67, 0.3), 0px 1px 3px 1px rgba(60, 64, 67, 0.15);\n",
              "    fill: #174EA6;\n",
              "  }\n",
              "\n",
              "  [theme=dark] .colab-df-quickchart {\n",
              "    background-color: #3B4455;\n",
              "    fill: #D2E3FC;\n",
              "  }\n",
              "\n",
              "  [theme=dark] .colab-df-quickchart:hover {\n",
              "    background-color: #434B5C;\n",
              "    box-shadow: 0px 1px 3px 1px rgba(0, 0, 0, 0.15);\n",
              "    filter: drop-shadow(0px 1px 2px rgba(0, 0, 0, 0.3));\n",
              "    fill: #FFFFFF;\n",
              "  }\n",
              "</style>\n",
              "\n",
              "    <script>\n",
              "      async function quickchart(key) {\n",
              "        const containerElement = document.querySelector('#' + key);\n",
              "        const charts = await google.colab.kernel.invokeFunction(\n",
              "            'suggestCharts', [key], {});\n",
              "      }\n",
              "    </script>\n",
              "\n",
              "      <script>\n",
              "\n",
              "function displayQuickchartButton(domScope) {\n",
              "  let quickchartButtonEl =\n",
              "    domScope.querySelector('#df-525605d0-3272-4811-a9dd-a38868969020 button.colab-df-quickchart');\n",
              "  quickchartButtonEl.style.display =\n",
              "    google.colab.kernel.accessAllowed ? 'block' : 'none';\n",
              "}\n",
              "\n",
              "        displayQuickchartButton(document);\n",
              "      </script>\n",
              "      <style>\n",
              "    .colab-df-container {\n",
              "      display:flex;\n",
              "      flex-wrap:wrap;\n",
              "      gap: 12px;\n",
              "    }\n",
              "\n",
              "    .colab-df-convert {\n",
              "      background-color: #E8F0FE;\n",
              "      border: none;\n",
              "      border-radius: 50%;\n",
              "      cursor: pointer;\n",
              "      display: none;\n",
              "      fill: #1967D2;\n",
              "      height: 32px;\n",
              "      padding: 0 0 0 0;\n",
              "      width: 32px;\n",
              "    }\n",
              "\n",
              "    .colab-df-convert:hover {\n",
              "      background-color: #E2EBFA;\n",
              "      box-shadow: 0px 1px 2px rgba(60, 64, 67, 0.3), 0px 1px 3px 1px rgba(60, 64, 67, 0.15);\n",
              "      fill: #174EA6;\n",
              "    }\n",
              "\n",
              "    [theme=dark] .colab-df-convert {\n",
              "      background-color: #3B4455;\n",
              "      fill: #D2E3FC;\n",
              "    }\n",
              "\n",
              "    [theme=dark] .colab-df-convert:hover {\n",
              "      background-color: #434B5C;\n",
              "      box-shadow: 0px 1px 3px 1px rgba(0, 0, 0, 0.15);\n",
              "      filter: drop-shadow(0px 1px 2px rgba(0, 0, 0, 0.3));\n",
              "      fill: #FFFFFF;\n",
              "    }\n",
              "  </style>\n",
              "\n",
              "      <script>\n",
              "        const buttonEl =\n",
              "          document.querySelector('#df-1d603bfd-e696-46f0-bb56-807bdd7c65fc button.colab-df-convert');\n",
              "        buttonEl.style.display =\n",
              "          google.colab.kernel.accessAllowed ? 'block' : 'none';\n",
              "\n",
              "        async function convertToInteractive(key) {\n",
              "          const element = document.querySelector('#df-1d603bfd-e696-46f0-bb56-807bdd7c65fc');\n",
              "          const dataTable =\n",
              "            await google.colab.kernel.invokeFunction('convertToInteractive',\n",
              "                                                     [key], {});\n",
              "          if (!dataTable) return;\n",
              "\n",
              "          const docLinkHtml = 'Like what you see? Visit the ' +\n",
              "            '<a target=\"_blank\" href=https://colab.research.google.com/notebooks/data_table.ipynb>data table notebook</a>'\n",
              "            + ' to learn more about interactive tables.';\n",
              "          element.innerHTML = '';\n",
              "          dataTable['output_type'] = 'display_data';\n",
              "          await google.colab.output.renderOutput(dataTable, element);\n",
              "          const docLink = document.createElement('div');\n",
              "          docLink.innerHTML = docLinkHtml;\n",
              "          element.appendChild(docLink);\n",
              "        }\n",
              "      </script>\n",
              "    </div>\n",
              "  </div>\n"
            ]
          },
          "metadata": {},
          "execution_count": 16
        }
      ],
      "source": [
        "dataset.describe().transpose()"
      ]
    },
    {
      "cell_type": "code",
      "execution_count": 17,
      "id": "76fd1c26-008e-4672-9ad9-8a42bde1639c",
      "metadata": {
        "tags": [],
        "colab": {
          "base_uri": "https://localhost:8080/",
          "height": 206
        },
        "id": "76fd1c26-008e-4672-9ad9-8a42bde1639c",
        "outputId": "ccc4ea9b-19ab-4b4f-e876-813902a42c5b"
      },
      "outputs": [
        {
          "output_type": "execute_result",
          "data": {
            "text/plain": [
              "   Yr1  Yr2  Yr3\n",
              "0   27   50   52\n",
              "1   70  104  126\n",
              "2   27   36  148\n",
              "3   26   75  115\n",
              "4   46   77   75"
            ],
            "text/html": [
              "\n",
              "\n",
              "  <div id=\"df-97af37e9-860e-4e6f-b5cb-ec768e4786e4\">\n",
              "    <div class=\"colab-df-container\">\n",
              "      <div>\n",
              "<style scoped>\n",
              "    .dataframe tbody tr th:only-of-type {\n",
              "        vertical-align: middle;\n",
              "    }\n",
              "\n",
              "    .dataframe tbody tr th {\n",
              "        vertical-align: top;\n",
              "    }\n",
              "\n",
              "    .dataframe thead th {\n",
              "        text-align: right;\n",
              "    }\n",
              "</style>\n",
              "<table border=\"1\" class=\"dataframe\">\n",
              "  <thead>\n",
              "    <tr style=\"text-align: right;\">\n",
              "      <th></th>\n",
              "      <th>Yr1</th>\n",
              "      <th>Yr2</th>\n",
              "      <th>Yr3</th>\n",
              "    </tr>\n",
              "  </thead>\n",
              "  <tbody>\n",
              "    <tr>\n",
              "      <th>0</th>\n",
              "      <td>27</td>\n",
              "      <td>50</td>\n",
              "      <td>52</td>\n",
              "    </tr>\n",
              "    <tr>\n",
              "      <th>1</th>\n",
              "      <td>70</td>\n",
              "      <td>104</td>\n",
              "      <td>126</td>\n",
              "    </tr>\n",
              "    <tr>\n",
              "      <th>2</th>\n",
              "      <td>27</td>\n",
              "      <td>36</td>\n",
              "      <td>148</td>\n",
              "    </tr>\n",
              "    <tr>\n",
              "      <th>3</th>\n",
              "      <td>26</td>\n",
              "      <td>75</td>\n",
              "      <td>115</td>\n",
              "    </tr>\n",
              "    <tr>\n",
              "      <th>4</th>\n",
              "      <td>46</td>\n",
              "      <td>77</td>\n",
              "      <td>75</td>\n",
              "    </tr>\n",
              "  </tbody>\n",
              "</table>\n",
              "</div>\n",
              "      <button class=\"colab-df-convert\" onclick=\"convertToInteractive('df-97af37e9-860e-4e6f-b5cb-ec768e4786e4')\"\n",
              "              title=\"Convert this dataframe to an interactive table.\"\n",
              "              style=\"display:none;\">\n",
              "\n",
              "  <svg xmlns=\"http://www.w3.org/2000/svg\" height=\"24px\"viewBox=\"0 0 24 24\"\n",
              "       width=\"24px\">\n",
              "    <path d=\"M0 0h24v24H0V0z\" fill=\"none\"/>\n",
              "    <path d=\"M18.56 5.44l.94 2.06.94-2.06 2.06-.94-2.06-.94-.94-2.06-.94 2.06-2.06.94zm-11 1L8.5 8.5l.94-2.06 2.06-.94-2.06-.94L8.5 2.5l-.94 2.06-2.06.94zm10 10l.94 2.06.94-2.06 2.06-.94-2.06-.94-.94-2.06-.94 2.06-2.06.94z\"/><path d=\"M17.41 7.96l-1.37-1.37c-.4-.4-.92-.59-1.43-.59-.52 0-1.04.2-1.43.59L10.3 9.45l-7.72 7.72c-.78.78-.78 2.05 0 2.83L4 21.41c.39.39.9.59 1.41.59.51 0 1.02-.2 1.41-.59l7.78-7.78 2.81-2.81c.8-.78.8-2.07 0-2.86zM5.41 20L4 18.59l7.72-7.72 1.47 1.35L5.41 20z\"/>\n",
              "  </svg>\n",
              "      </button>\n",
              "\n",
              "\n",
              "\n",
              "    <div id=\"df-1c68b44f-6d42-441f-ae05-f20a111506e2\">\n",
              "      <button class=\"colab-df-quickchart\" onclick=\"quickchart('df-1c68b44f-6d42-441f-ae05-f20a111506e2')\"\n",
              "              title=\"Suggest charts.\"\n",
              "              style=\"display:none;\">\n",
              "\n",
              "<svg xmlns=\"http://www.w3.org/2000/svg\" height=\"24px\"viewBox=\"0 0 24 24\"\n",
              "     width=\"24px\">\n",
              "    <g>\n",
              "        <path d=\"M19 3H5c-1.1 0-2 .9-2 2v14c0 1.1.9 2 2 2h14c1.1 0 2-.9 2-2V5c0-1.1-.9-2-2-2zM9 17H7v-7h2v7zm4 0h-2V7h2v10zm4 0h-2v-4h2v4z\"/>\n",
              "    </g>\n",
              "</svg>\n",
              "      </button>\n",
              "    </div>\n",
              "\n",
              "<style>\n",
              "  .colab-df-quickchart {\n",
              "    background-color: #E8F0FE;\n",
              "    border: none;\n",
              "    border-radius: 50%;\n",
              "    cursor: pointer;\n",
              "    display: none;\n",
              "    fill: #1967D2;\n",
              "    height: 32px;\n",
              "    padding: 0 0 0 0;\n",
              "    width: 32px;\n",
              "  }\n",
              "\n",
              "  .colab-df-quickchart:hover {\n",
              "    background-color: #E2EBFA;\n",
              "    box-shadow: 0px 1px 2px rgba(60, 64, 67, 0.3), 0px 1px 3px 1px rgba(60, 64, 67, 0.15);\n",
              "    fill: #174EA6;\n",
              "  }\n",
              "\n",
              "  [theme=dark] .colab-df-quickchart {\n",
              "    background-color: #3B4455;\n",
              "    fill: #D2E3FC;\n",
              "  }\n",
              "\n",
              "  [theme=dark] .colab-df-quickchart:hover {\n",
              "    background-color: #434B5C;\n",
              "    box-shadow: 0px 1px 3px 1px rgba(0, 0, 0, 0.15);\n",
              "    filter: drop-shadow(0px 1px 2px rgba(0, 0, 0, 0.3));\n",
              "    fill: #FFFFFF;\n",
              "  }\n",
              "</style>\n",
              "\n",
              "    <script>\n",
              "      async function quickchart(key) {\n",
              "        const containerElement = document.querySelector('#' + key);\n",
              "        const charts = await google.colab.kernel.invokeFunction(\n",
              "            'suggestCharts', [key], {});\n",
              "      }\n",
              "    </script>\n",
              "\n",
              "      <script>\n",
              "\n",
              "function displayQuickchartButton(domScope) {\n",
              "  let quickchartButtonEl =\n",
              "    domScope.querySelector('#df-1c68b44f-6d42-441f-ae05-f20a111506e2 button.colab-df-quickchart');\n",
              "  quickchartButtonEl.style.display =\n",
              "    google.colab.kernel.accessAllowed ? 'block' : 'none';\n",
              "}\n",
              "\n",
              "        displayQuickchartButton(document);\n",
              "      </script>\n",
              "      <style>\n",
              "    .colab-df-container {\n",
              "      display:flex;\n",
              "      flex-wrap:wrap;\n",
              "      gap: 12px;\n",
              "    }\n",
              "\n",
              "    .colab-df-convert {\n",
              "      background-color: #E8F0FE;\n",
              "      border: none;\n",
              "      border-radius: 50%;\n",
              "      cursor: pointer;\n",
              "      display: none;\n",
              "      fill: #1967D2;\n",
              "      height: 32px;\n",
              "      padding: 0 0 0 0;\n",
              "      width: 32px;\n",
              "    }\n",
              "\n",
              "    .colab-df-convert:hover {\n",
              "      background-color: #E2EBFA;\n",
              "      box-shadow: 0px 1px 2px rgba(60, 64, 67, 0.3), 0px 1px 3px 1px rgba(60, 64, 67, 0.15);\n",
              "      fill: #174EA6;\n",
              "    }\n",
              "\n",
              "    [theme=dark] .colab-df-convert {\n",
              "      background-color: #3B4455;\n",
              "      fill: #D2E3FC;\n",
              "    }\n",
              "\n",
              "    [theme=dark] .colab-df-convert:hover {\n",
              "      background-color: #434B5C;\n",
              "      box-shadow: 0px 1px 3px 1px rgba(0, 0, 0, 0.15);\n",
              "      filter: drop-shadow(0px 1px 2px rgba(0, 0, 0, 0.3));\n",
              "      fill: #FFFFFF;\n",
              "    }\n",
              "  </style>\n",
              "\n",
              "      <script>\n",
              "        const buttonEl =\n",
              "          document.querySelector('#df-97af37e9-860e-4e6f-b5cb-ec768e4786e4 button.colab-df-convert');\n",
              "        buttonEl.style.display =\n",
              "          google.colab.kernel.accessAllowed ? 'block' : 'none';\n",
              "\n",
              "        async function convertToInteractive(key) {\n",
              "          const element = document.querySelector('#df-97af37e9-860e-4e6f-b5cb-ec768e4786e4');\n",
              "          const dataTable =\n",
              "            await google.colab.kernel.invokeFunction('convertToInteractive',\n",
              "                                                     [key], {});\n",
              "          if (!dataTable) return;\n",
              "\n",
              "          const docLinkHtml = 'Like what you see? Visit the ' +\n",
              "            '<a target=\"_blank\" href=https://colab.research.google.com/notebooks/data_table.ipynb>data table notebook</a>'\n",
              "            + ' to learn more about interactive tables.';\n",
              "          element.innerHTML = '';\n",
              "          dataTable['output_type'] = 'display_data';\n",
              "          await google.colab.output.renderOutput(dataTable, element);\n",
              "          const docLink = document.createElement('div');\n",
              "          docLink.innerHTML = docLinkHtml;\n",
              "          element.appendChild(docLink);\n",
              "        }\n",
              "      </script>\n",
              "    </div>\n",
              "  </div>\n"
            ]
          },
          "metadata": {},
          "execution_count": 17
        }
      ],
      "source": [
        "# Create training and test sets\n",
        "\n",
        "y=dataset.Final\n",
        "x=dataset.drop('Final', axis=1)\n",
        "x.head()"
      ]
    },
    {
      "cell_type": "code",
      "execution_count": 18,
      "id": "c380c443-c046-482b-a92a-ca2f0f9b621c",
      "metadata": {
        "tags": [],
        "colab": {
          "base_uri": "https://localhost:8080/"
        },
        "id": "c380c443-c046-482b-a92a-ca2f0f9b621c",
        "outputId": "9b81a8ca-c5e1-405e-e54e-098eefc38f87"
      },
      "outputs": [
        {
          "output_type": "execute_result",
          "data": {
            "text/plain": [
              "0     93\n",
              "1    207\n",
              "2    175\n",
              "3    125\n",
              "4    114\n",
              "Name: Final, dtype: int64"
            ]
          },
          "metadata": {},
          "execution_count": 18
        }
      ],
      "source": [
        "y.head()"
      ]
    },
    {
      "cell_type": "code",
      "execution_count": 21,
      "id": "abe38a8f-2e04-4ae4-bb4d-75a21835be91",
      "metadata": {
        "tags": [],
        "colab": {
          "base_uri": "https://localhost:8080/",
          "height": 430
        },
        "id": "abe38a8f-2e04-4ae4-bb4d-75a21835be91",
        "outputId": "ca7d7a43-472b-4f16-f513-cd7018467f63"
      },
      "outputs": [
        {
          "output_type": "display_data",
          "data": {
            "text/plain": [
              "<Figure size 640x480 with 1 Axes>"
            ],
            "image/png": "[encoded data removed]"
          },
          "metadata": {}
        }
      ],
      "source": [
        "#Histogram of the response variable\n",
        "plt.hist(y)\n",
        "plt.show()"
      ]
    },
    {
      "cell_type": "code",
      "execution_count": 22,
      "id": "c257a8e3-06fe-43e4-8585-e5d42114cf2e",
      "metadata": {
        "tags": [],
        "colab": {
          "base_uri": "https://localhost:8080/"
        },
        "id": "c257a8e3-06fe-43e4-8585-e5d42114cf2e",
        "outputId": "5e081b49-53f5-40d8-e9f3-63b6ec820eee"
      },
      "outputs": [
        {
          "output_type": "execute_result",
          "data": {
            "text/plain": [
              "2.1467907677298072e-05"
            ]
          },
          "metadata": {},
          "execution_count": 22
        }
      ],
      "source": [
        "# Normality test\n",
        "norm=stats.normaltest(y)\n",
        "norm.pvalue"
      ]
    },
    {
      "cell_type": "code",
      "execution_count": 23,
      "id": "d0514351-c014-491b-8f42-d99afd9b22ac",
      "metadata": {
        "tags": [],
        "colab": {
          "base_uri": "https://localhost:8080/",
          "height": 472
        },
        "id": "d0514351-c014-491b-8f42-d99afd9b22ac",
        "outputId": "221a6eca-0336-468b-e918-6613dfb74670"
      },
      "outputs": [
        {
          "output_type": "display_data",
          "data": {
            "text/plain": [
              "<Figure size 640x480 with 1 Axes>"
            ],
            "image/png": "[encoded data removed]"
          },
          "metadata": {}
        }
      ],
      "source": [
        "# Q-Q Plot\n",
        "stats.probplot(y, dist=\"norm\", plot=pylab)\n",
        "pylab.show()"
      ]
    },
    {
      "cell_type": "code",
      "execution_count": 24,
      "id": "db4e708b-49ef-4f7f-bb3d-0ad1a155f1dc",
      "metadata": {
        "tags": [],
        "id": "db4e708b-49ef-4f7f-bb3d-0ad1a155f1dc"
      },
      "outputs": [],
      "source": [
        "# Split train and test sets\n",
        "train_features, test_features, train_label, test_label=train_test_split(x,y,test_size=0.2, random_state=42)\n"
      ]
    },
    {
      "cell_type": "code",
      "execution_count": 25,
      "id": "33dcc925-2683-44c4-821f-6d973d348466",
      "metadata": {
        "tags": [],
        "colab": {
          "base_uri": "https://localhost:8080/"
        },
        "id": "33dcc925-2683-44c4-821f-6d973d348466",
        "outputId": "a5cce929-2045-441d-e9eb-35059813e90d"
      },
      "outputs": [
        {
          "output_type": "execute_result",
          "data": {
            "text/plain": [
              "780"
            ]
          },
          "metadata": {},
          "execution_count": 25
        }
      ],
      "source": [
        "#number of rows train set\n",
        "train_rows=len(train_features)\n",
        "train_rows"
      ]
    },
    {
      "cell_type": "code",
      "execution_count": 26,
      "id": "f870bec3-5789-4207-b060-b0f3fdb0579b",
      "metadata": {
        "tags": [],
        "colab": {
          "base_uri": "https://localhost:8080/"
        },
        "id": "f870bec3-5789-4207-b060-b0f3fdb0579b",
        "outputId": "f127fd2b-a415-405f-9561-4c136cbed269"
      },
      "outputs": [
        {
          "output_type": "execute_result",
          "data": {
            "text/plain": [
              "195"
            ]
          },
          "metadata": {},
          "execution_count": 26
        }
      ],
      "source": [
        "#number of rows test set\n",
        "test_rows=len(test_features)\n",
        "test_rows"
      ]
    },
    {
      "cell_type": "code",
      "execution_count": 27,
      "id": "2c7a5280-f694-4291-849e-31aa366d3d36",
      "metadata": {
        "tags": [],
        "colab": {
          "base_uri": "https://localhost:8080/"
        },
        "id": "2c7a5280-f694-4291-849e-31aa366d3d36",
        "outputId": "bc3bd9c3-7cde-4602-d397-65f2b44876ae"
      },
      "outputs": [
        {
          "output_type": "execute_result",
          "data": {
            "text/plain": [
              "780"
            ]
          },
          "metadata": {},
          "execution_count": 27
        }
      ],
      "source": [
        "#number of rows train set\n",
        "y_train_rows=len(train_label)\n",
        "y_train_rows"
      ]
    },
    {
      "cell_type": "code",
      "execution_count": 28,
      "id": "63e9c4e9-fbab-4cba-8361-12bc10805aca",
      "metadata": {
        "tags": [],
        "colab": {
          "base_uri": "https://localhost:8080/"
        },
        "id": "63e9c4e9-fbab-4cba-8361-12bc10805aca",
        "outputId": "c80692b3-ae46-4ff2-fbcb-0df0e628e549"
      },
      "outputs": [
        {
          "output_type": "execute_result",
          "data": {
            "text/plain": [
              "195"
            ]
          },
          "metadata": {},
          "execution_count": 28
        }
      ],
      "source": [
        "#number of rows train set\n",
        "y_test_rows=len(test_label)\n",
        "y_test_rows"
      ]
    },
    {
      "cell_type": "code",
      "execution_count": 29,
      "id": "f73a6fb6-9426-4f01-a550-f749140ec0bd",
      "metadata": {
        "tags": [],
        "colab": {
          "base_uri": "https://localhost:8080/",
          "height": 143
        },
        "id": "f73a6fb6-9426-4f01-a550-f749140ec0bd",
        "outputId": "e43481f3-732b-4c24-8a49-26d941825893"
      },
      "outputs": [
        {
          "output_type": "execute_result",
          "data": {
            "text/plain": [
              "           mean        std\n",
              "Yr1   52.105128  14.938100\n",
              "Yr2   93.406410  29.814578\n",
              "Yr3  104.551282  33.292514"
            ],
            "text/html": [
              "\n",
              "\n",
              "  <div id=\"df-d574bd01-697a-4841-8559-20c17f333545\">\n",
              "    <div class=\"colab-df-container\">\n",
              "      <div>\n",
              "<style scoped>\n",
              "    .dataframe tbody tr th:only-of-type {\n",
              "        vertical-align: middle;\n",
              "    }\n",
              "\n",
              "    .dataframe tbody tr th {\n",
              "        vertical-align: top;\n",
              "    }\n",
              "\n",
              "    .dataframe thead th {\n",
              "        text-align: right;\n",
              "    }\n",
              "</style>\n",
              "<table border=\"1\" class=\"dataframe\">\n",
              "  <thead>\n",
              "    <tr style=\"text-align: right;\">\n",
              "      <th></th>\n",
              "      <th>mean</th>\n",
              "      <th>std</th>\n",
              "    </tr>\n",
              "  </thead>\n",
              "  <tbody>\n",
              "    <tr>\n",
              "      <th>Yr1</th>\n",
              "      <td>52.105128</td>\n",
              "      <td>14.938100</td>\n",
              "    </tr>\n",
              "    <tr>\n",
              "      <th>Yr2</th>\n",
              "      <td>93.406410</td>\n",
              "      <td>29.814578</td>\n",
              "    </tr>\n",
              "    <tr>\n",
              "      <th>Yr3</th>\n",
              "      <td>104.551282</td>\n",
              "      <td>33.292514</td>\n",
              "    </tr>\n",
              "  </tbody>\n",
              "</table>\n",
              "</div>\n",
              "      <button class=\"colab-df-convert\" onclick=\"convertToInteractive('df-d574bd01-697a-4841-8559-20c17f333545')\"\n",
              "              title=\"Convert this dataframe to an interactive table.\"\n",
              "              style=\"display:none;\">\n",
              "\n",
              "  <svg xmlns=\"http://www.w3.org/2000/svg\" height=\"24px\"viewBox=\"0 0 24 24\"\n",
              "       width=\"24px\">\n",
              "    <path d=\"M0 0h24v24H0V0z\" fill=\"none\"/>\n",
              "    <path d=\"M18.56 5.44l.94 2.06.94-2.06 2.06-.94-2.06-.94-.94-2.06-.94 2.06-2.06.94zm-11 1L8.5 8.5l.94-2.06 2.06-.94-2.06-.94L8.5 2.5l-.94 2.06-2.06.94zm10 10l.94 2.06.94-2.06 2.06-.94-2.06-.94-.94-2.06-.94 2.06-2.06.94z\"/><path d=\"M17.41 7.96l-1.37-1.37c-.4-.4-.92-.59-1.43-.59-.52 0-1.04.2-1.43.59L10.3 9.45l-7.72 7.72c-.78.78-.78 2.05 0 2.83L4 21.41c.39.39.9.59 1.41.59.51 0 1.02-.2 1.41-.59l7.78-7.78 2.81-2.81c.8-.78.8-2.07 0-2.86zM5.41 20L4 18.59l7.72-7.72 1.47 1.35L5.41 20z\"/>\n",
              "  </svg>\n",
              "      </button>\n",
              "\n",
              "\n",
              "\n",
              "    <div id=\"df-e3fe791a-ea1f-4db9-a962-104728c36f3c\">\n",
              "      <button class=\"colab-df-quickchart\" onclick=\"quickchart('df-e3fe791a-ea1f-4db9-a962-104728c36f3c')\"\n",
              "              title=\"Suggest charts.\"\n",
              "              style=\"display:none;\">\n",
              "\n",
              "<svg xmlns=\"http://www.w3.org/2000/svg\" height=\"24px\"viewBox=\"0 0 24 24\"\n",
              "     width=\"24px\">\n",
              "    <g>\n",
              "        <path d=\"M19 3H5c-1.1 0-2 .9-2 2v14c0 1.1.9 2 2 2h14c1.1 0 2-.9 2-2V5c0-1.1-.9-2-2-2zM9 17H7v-7h2v7zm4 0h-2V7h2v10zm4 0h-2v-4h2v4z\"/>\n",
              "    </g>\n",
              "</svg>\n",
              "      </button>\n",
              "    </div>\n",
              "\n",
              "<style>\n",
              "  .colab-df-quickchart {\n",
              "    background-color: #E8F0FE;\n",
              "    border: none;\n",
              "    border-radius: 50%;\n",
              "    cursor: pointer;\n",
              "    display: none;\n",
              "    fill: #1967D2;\n",
              "    height: 32px;\n",
              "    padding: 0 0 0 0;\n",
              "    width: 32px;\n",
              "  }\n",
              "\n",
              "  .colab-df-quickchart:hover {\n",
              "    background-color: #E2EBFA;\n",
              "    box-shadow: 0px 1px 2px rgba(60, 64, 67, 0.3), 0px 1px 3px 1px rgba(60, 64, 67, 0.15);\n",
              "    fill: #174EA6;\n",
              "  }\n",
              "\n",
              "  [theme=dark] .colab-df-quickchart {\n",
              "    background-color: #3B4455;\n",
              "    fill: #D2E3FC;\n",
              "  }\n",
              "\n",
              "  [theme=dark] .colab-df-quickchart:hover {\n",
              "    background-color: #434B5C;\n",
              "    box-shadow: 0px 1px 3px 1px rgba(0, 0, 0, 0.15);\n",
              "    filter: drop-shadow(0px 1px 2px rgba(0, 0, 0, 0.3));\n",
              "    fill: #FFFFFF;\n",
              "  }\n",
              "</style>\n",
              "\n",
              "    <script>\n",
              "      async function quickchart(key) {\n",
              "        const containerElement = document.querySelector('#' + key);\n",
              "        const charts = await google.colab.kernel.invokeFunction(\n",
              "            'suggestCharts', [key], {});\n",
              "      }\n",
              "    </script>\n",
              "\n",
              "      <script>\n",
              "\n",
              "function displayQuickchartButton(domScope) {\n",
              "  let quickchartButtonEl =\n",
              "    domScope.querySelector('#df-e3fe791a-ea1f-4db9-a962-104728c36f3c button.colab-df-quickchart');\n",
              "  quickchartButtonEl.style.display =\n",
              "    google.colab.kernel.accessAllowed ? 'block' : 'none';\n",
              "}\n",
              "\n",
              "        displayQuickchartButton(document);\n",
              "      </script>\n",
              "      <style>\n",
              "    .colab-df-container {\n",
              "      display:flex;\n",
              "      flex-wrap:wrap;\n",
              "      gap: 12px;\n",
              "    }\n",
              "\n",
              "    .colab-df-convert {\n",
              "      background-color: #E8F0FE;\n",
              "      border: none;\n",
              "      border-radius: 50%;\n",
              "      cursor: pointer;\n",
              "      display: none;\n",
              "      fill: #1967D2;\n",
              "      height: 32px;\n",
              "      padding: 0 0 0 0;\n",
              "      width: 32px;\n",
              "    }\n",
              "\n",
              "    .colab-df-convert:hover {\n",
              "      background-color: #E2EBFA;\n",
              "      box-shadow: 0px 1px 2px rgba(60, 64, 67, 0.3), 0px 1px 3px 1px rgba(60, 64, 67, 0.15);\n",
              "      fill: #174EA6;\n",
              "    }\n",
              "\n",
              "    [theme=dark] .colab-df-convert {\n",
              "      background-color: #3B4455;\n",
              "      fill: #D2E3FC;\n",
              "    }\n",
              "\n",
              "    [theme=dark] .colab-df-convert:hover {\n",
              "      background-color: #434B5C;\n",
              "      box-shadow: 0px 1px 3px 1px rgba(0, 0, 0, 0.15);\n",
              "      filter: drop-shadow(0px 1px 2px rgba(0, 0, 0, 0.3));\n",
              "      fill: #FFFFFF;\n",
              "    }\n",
              "  </style>\n",
              "\n",
              "      <script>\n",
              "        const buttonEl =\n",
              "          document.querySelector('#df-d574bd01-697a-4841-8559-20c17f333545 button.colab-df-convert');\n",
              "        buttonEl.style.display =\n",
              "          google.colab.kernel.accessAllowed ? 'block' : 'none';\n",
              "\n",
              "        async function convertToInteractive(key) {\n",
              "          const element = document.querySelector('#df-d574bd01-697a-4841-8559-20c17f333545');\n",
              "          const dataTable =\n",
              "            await google.colab.kernel.invokeFunction('convertToInteractive',\n",
              "                                                     [key], {});\n",
              "          if (!dataTable) return;\n",
              "\n",
              "          const docLinkHtml = 'Like what you see? Visit the ' +\n",
              "            '<a target=\"_blank\" href=https://colab.research.google.com/notebooks/data_table.ipynb>data table notebook</a>'\n",
              "            + ' to learn more about interactive tables.';\n",
              "          element.innerHTML = '';\n",
              "          dataTable['output_type'] = 'display_data';\n",
              "          await google.colab.output.renderOutput(dataTable, element);\n",
              "          const docLink = document.createElement('div');\n",
              "          docLink.innerHTML = docLinkHtml;\n",
              "          element.appendChild(docLink);\n",
              "        }\n",
              "      </script>\n",
              "    </div>\n",
              "  </div>\n"
            ]
          },
          "metadata": {},
          "execution_count": 29
        }
      ],
      "source": [
        "# Ranges of values in feature columns\n",
        "train_features.describe().transpose()[['mean', 'std']]"
      ]
    },
    {
      "cell_type": "code",
      "execution_count": 30,
      "id": "d1d728fe-288c-469d-b8ec-1bfe51197996",
      "metadata": {
        "tags": [],
        "colab": {
          "base_uri": "https://localhost:8080/"
        },
        "id": "d1d728fe-288c-469d-b8ec-1bfe51197996",
        "outputId": "9da714f7-71b2-4841-b6bc-741d011a4c81"
      },
      "outputs": [
        {
          "output_type": "stream",
          "name": "stdout",
          "text": [
            "[[ 52.105125  93.40641  104.551285]]\n"
          ]
        }
      ],
      "source": [
        "# Normalize variables via normalization layer in Keras:\n",
        "\n",
        "#Create normalization layer\n",
        "normalizer = tf.keras.layers.Normalization(axis=-1)\n",
        "\n",
        "#Fit state of preprocessing layer to the data\n",
        "normalizer.adapt(np.array(train_features))\n",
        "\n",
        "print(normalizer.mean.numpy())"
      ]
    },
    {
      "cell_type": "code",
      "execution_count": 31,
      "id": "2a03e916-b131-4bc1-82d7-73bdbe48aab7",
      "metadata": {
        "tags": [],
        "colab": {
          "base_uri": "https://localhost:8080/"
        },
        "id": "2a03e916-b131-4bc1-82d7-73bdbe48aab7",
        "outputId": "b19aa266-81ea-4769-9f83-141929c25f82"
      },
      "outputs": [
        {
          "output_type": "stream",
          "name": "stdout",
          "text": [
            "First example: [[ 49 129 109]]\n",
            "\n",
            "Normalized: [[-0.21  1.19  0.13]]\n"
          ]
        }
      ],
      "source": [
        "# Example normalizing the first row of features\n",
        "first = np.array(train_features[:1])\n",
        "\n",
        "with np.printoptions(precision=2, suppress=True):\n",
        "  print('First example:', first)\n",
        "  print()\n",
        "  print('Normalized:', normalizer(first).numpy())\n"
      ]
    },
    {
      "cell_type": "code",
      "execution_count": 32,
      "id": "b4014818-44e0-47f9-9498-c7ef540159c8",
      "metadata": {
        "tags": [],
        "colab": {
          "base_uri": "https://localhost:8080/",
          "height": 81
        },
        "id": "b4014818-44e0-47f9-9498-c7ef540159c8",
        "outputId": "40d452bf-6350-46ef-f163-131d30f891a9"
      },
      "outputs": [
        {
          "output_type": "execute_result",
          "data": {
            "text/plain": [
              "     Yr1  Yr2  Yr3\n",
              "969   49  129  109"
            ],
            "text/html": [
              "\n",
              "\n",
              "  <div id=\"df-d62dc183-47e2-4015-bad5-f29ee38f094a\">\n",
              "    <div class=\"colab-df-container\">\n",
              "      <div>\n",
              "<style scoped>\n",
              "    .dataframe tbody tr th:only-of-type {\n",
              "        vertical-align: middle;\n",
              "    }\n",
              "\n",
              "    .dataframe tbody tr th {\n",
              "        vertical-align: top;\n",
              "    }\n",
              "\n",
              "    .dataframe thead th {\n",
              "        text-align: right;\n",
              "    }\n",
              "</style>\n",
              "<table border=\"1\" class=\"dataframe\">\n",
              "  <thead>\n",
              "    <tr style=\"text-align: right;\">\n",
              "      <th></th>\n",
              "      <th>Yr1</th>\n",
              "      <th>Yr2</th>\n",
              "      <th>Yr3</th>\n",
              "    </tr>\n",
              "  </thead>\n",
              "  <tbody>\n",
              "    <tr>\n",
              "      <th>969</th>\n",
              "      <td>49</td>\n",
              "      <td>129</td>\n",
              "      <td>109</td>\n",
              "    </tr>\n",
              "  </tbody>\n",
              "</table>\n",
              "</div>\n",
              "      <button class=\"colab-df-convert\" onclick=\"convertToInteractive('df-d62dc183-47e2-4015-bad5-f29ee38f094a')\"\n",
              "              title=\"Convert this dataframe to an interactive table.\"\n",
              "              style=\"display:none;\">\n",
              "\n",
              "  <svg xmlns=\"http://www.w3.org/2000/svg\" height=\"24px\"viewBox=\"0 0 24 24\"\n",
              "       width=\"24px\">\n",
              "    <path d=\"M0 0h24v24H0V0z\" fill=\"none\"/>\n",
              "    <path d=\"M18.56 5.44l.94 2.06.94-2.06 2.06-.94-2.06-.94-.94-2.06-.94 2.06-2.06.94zm-11 1L8.5 8.5l.94-2.06 2.06-.94-2.06-.94L8.5 2.5l-.94 2.06-2.06.94zm10 10l.94 2.06.94-2.06 2.06-.94-2.06-.94-.94-2.06-.94 2.06-2.06.94z\"/><path d=\"M17.41 7.96l-1.37-1.37c-.4-.4-.92-.59-1.43-.59-.52 0-1.04.2-1.43.59L10.3 9.45l-7.72 7.72c-.78.78-.78 2.05 0 2.83L4 21.41c.39.39.9.59 1.41.59.51 0 1.02-.2 1.41-.59l7.78-7.78 2.81-2.81c.8-.78.8-2.07 0-2.86zM5.41 20L4 18.59l7.72-7.72 1.47 1.35L5.41 20z\"/>\n",
              "  </svg>\n",
              "      </button>\n",
              "\n",
              "\n",
              "\n",
              "    <div id=\"df-7a1dbc8f-45e3-4d97-abc8-747176bbc050\">\n",
              "      <button class=\"colab-df-quickchart\" onclick=\"quickchart('df-7a1dbc8f-45e3-4d97-abc8-747176bbc050')\"\n",
              "              title=\"Suggest charts.\"\n",
              "              style=\"display:none;\">\n",
              "\n",
              "<svg xmlns=\"http://www.w3.org/2000/svg\" height=\"24px\"viewBox=\"0 0 24 24\"\n",
              "     width=\"24px\">\n",
              "    <g>\n",
              "        <path d=\"M19 3H5c-1.1 0-2 .9-2 2v14c0 1.1.9 2 2 2h14c1.1 0 2-.9 2-2V5c0-1.1-.9-2-2-2zM9 17H7v-7h2v7zm4 0h-2V7h2v10zm4 0h-2v-4h2v4z\"/>\n",
              "    </g>\n",
              "</svg>\n",
              "      </button>\n",
              "    </div>\n",
              "\n",
              "<style>\n",
              "  .colab-df-quickchart {\n",
              "    background-color: #E8F0FE;\n",
              "    border: none;\n",
              "    border-radius: 50%;\n",
              "    cursor: pointer;\n",
              "    display: none;\n",
              "    fill: #1967D2;\n",
              "    height: 32px;\n",
              "    padding: 0 0 0 0;\n",
              "    width: 32px;\n",
              "  }\n",
              "\n",
              "  .colab-df-quickchart:hover {\n",
              "    background-color: #E2EBFA;\n",
              "    box-shadow: 0px 1px 2px rgba(60, 64, 67, 0.3), 0px 1px 3px 1px rgba(60, 64, 67, 0.15);\n",
              "    fill: #174EA6;\n",
              "  }\n",
              "\n",
              "  [theme=dark] .colab-df-quickchart {\n",
              "    background-color: #3B4455;\n",
              "    fill: #D2E3FC;\n",
              "  }\n",
              "\n",
              "  [theme=dark] .colab-df-quickchart:hover {\n",
              "    background-color: #434B5C;\n",
              "    box-shadow: 0px 1px 3px 1px rgba(0, 0, 0, 0.15);\n",
              "    filter: drop-shadow(0px 1px 2px rgba(0, 0, 0, 0.3));\n",
              "    fill: #FFFFFF;\n",
              "  }\n",
              "</style>\n",
              "\n",
              "    <script>\n",
              "      async function quickchart(key) {\n",
              "        const containerElement = document.querySelector('#' + key);\n",
              "        const charts = await google.colab.kernel.invokeFunction(\n",
              "            'suggestCharts', [key], {});\n",
              "      }\n",
              "    </script>\n",
              "\n",
              "      <script>\n",
              "\n",
              "function displayQuickchartButton(domScope) {\n",
              "  let quickchartButtonEl =\n",
              "    domScope.querySelector('#df-7a1dbc8f-45e3-4d97-abc8-747176bbc050 button.colab-df-quickchart');\n",
              "  quickchartButtonEl.style.display =\n",
              "    google.colab.kernel.accessAllowed ? 'block' : 'none';\n",
              "}\n",
              "\n",
              "        displayQuickchartButton(document);\n",
              "      </script>\n",
              "      <style>\n",
              "    .colab-df-container {\n",
              "      display:flex;\n",
              "      flex-wrap:wrap;\n",
              "      gap: 12px;\n",
              "    }\n",
              "\n",
              "    .colab-df-convert {\n",
              "      background-color: #E8F0FE;\n",
              "      border: none;\n",
              "      border-radius: 50%;\n",
              "      cursor: pointer;\n",
              "      display: none;\n",
              "      fill: #1967D2;\n",
              "      height: 32px;\n",
              "      padding: 0 0 0 0;\n",
              "      width: 32px;\n",
              "    }\n",
              "\n",
              "    .colab-df-convert:hover {\n",
              "      background-color: #E2EBFA;\n",
              "      box-shadow: 0px 1px 2px rgba(60, 64, 67, 0.3), 0px 1px 3px 1px rgba(60, 64, 67, 0.15);\n",
              "      fill: #174EA6;\n",
              "    }\n",
              "\n",
              "    [theme=dark] .colab-df-convert {\n",
              "      background-color: #3B4455;\n",
              "      fill: #D2E3FC;\n",
              "    }\n",
              "\n",
              "    [theme=dark] .colab-df-convert:hover {\n",
              "      background-color: #434B5C;\n",
              "      box-shadow: 0px 1px 3px 1px rgba(0, 0, 0, 0.15);\n",
              "      filter: drop-shadow(0px 1px 2px rgba(0, 0, 0, 0.3));\n",
              "      fill: #FFFFFF;\n",
              "    }\n",
              "  </style>\n",
              "\n",
              "      <script>\n",
              "        const buttonEl =\n",
              "          document.querySelector('#df-d62dc183-47e2-4015-bad5-f29ee38f094a button.colab-df-convert');\n",
              "        buttonEl.style.display =\n",
              "          google.colab.kernel.accessAllowed ? 'block' : 'none';\n",
              "\n",
              "        async function convertToInteractive(key) {\n",
              "          const element = document.querySelector('#df-d62dc183-47e2-4015-bad5-f29ee38f094a');\n",
              "          const dataTable =\n",
              "            await google.colab.kernel.invokeFunction('convertToInteractive',\n",
              "                                                     [key], {});\n",
              "          if (!dataTable) return;\n",
              "\n",
              "          const docLinkHtml = 'Like what you see? Visit the ' +\n",
              "            '<a target=\"_blank\" href=https://colab.research.google.com/notebooks/data_table.ipynb>data table notebook</a>'\n",
              "            + ' to learn more about interactive tables.';\n",
              "          element.innerHTML = '';\n",
              "          dataTable['output_type'] = 'display_data';\n",
              "          await google.colab.output.renderOutput(dataTable, element);\n",
              "          const docLink = document.createElement('div');\n",
              "          docLink.innerHTML = docLinkHtml;\n",
              "          element.appendChild(docLink);\n",
              "        }\n",
              "      </script>\n",
              "    </div>\n",
              "  </div>\n"
            ]
          },
          "metadata": {},
          "execution_count": 32
        }
      ],
      "source": [
        "train_features.head(1)"
      ]
    },
    {
      "cell_type": "markdown",
      "id": "dec9604a-4987-488a-b05f-e2518379c97b",
      "metadata": {
        "tags": [],
        "id": "dec9604a-4987-488a-b05f-e2518379c97b"
      },
      "source": [
        "# Linear model (simplistic)"
      ]
    },
    {
      "cell_type": "code",
      "execution_count": 33,
      "id": "dc84bff1-84bd-41c5-a829-f12a513d4cb5",
      "metadata": {
        "tags": [],
        "id": "dc84bff1-84bd-41c5-a829-f12a513d4cb5"
      },
      "outputs": [],
      "source": [
        "# Linear regression with multiple inputs (X's)\n",
        "# y=mx+b and m is a matrix, b is a vector\n",
        "\n",
        "#Creating a two-step sequential model with first layer being normalizer\n",
        "linear_model = tf.keras.Sequential([\n",
        "    normalizer,\n",
        "    layers.Dense(units=1)\n",
        "])\n"
      ]
    },
    {
      "cell_type": "code",
      "execution_count": 34,
      "id": "90e1ad03-14cd-42ed-bdc3-69eae2d77b22",
      "metadata": {
        "tags": [],
        "id": "90e1ad03-14cd-42ed-bdc3-69eae2d77b22"
      },
      "outputs": [],
      "source": [
        "# Configure model with Keras\n",
        "linear_model.compile(\n",
        "    optimizer=tf.keras.optimizers.Adam(learning_rate=0.1),\n",
        "    loss='mean_squared_error')"
      ]
    },
    {
      "cell_type": "code",
      "execution_count": 35,
      "id": "4e18685b-5a3f-46ce-9669-a50d8fbbf1e7",
      "metadata": {
        "tags": [],
        "colab": {
          "base_uri": "https://localhost:8080/"
        },
        "id": "4e18685b-5a3f-46ce-9669-a50d8fbbf1e7",
        "outputId": "b2b1f098-5e6c-43d7-dddf-630ec41d765c"
      },
      "outputs": [
        {
          "output_type": "stream",
          "name": "stdout",
          "text": [
            "CPU times: user 9.6 s, sys: 936 ms, total: 10.5 s\n",
            "Wall time: 20.9 s\n"
          ]
        }
      ],
      "source": [
        "%%time\n",
        "# Model fit for 100 epochs  (Epoch=complete pass of the training dataset through the algorithm)\n",
        "\n",
        "history = linear_model.fit(\n",
        "    train_features,\n",
        "    train_label,\n",
        "    epochs=100,\n",
        "    # Suppress logging.\n",
        "    verbose=0,\n",
        "    # Calculate validation results on 20% of the training data.\n",
        "    validation_split = 0.2)\n",
        "\n"
      ]
    },
    {
      "cell_type": "code",
      "execution_count": 36,
      "id": "2acc9b16-5f0f-4c8d-838a-8bf589465c6f",
      "metadata": {
        "tags": [],
        "id": "2acc9b16-5f0f-4c8d-838a-8bf589465c6f"
      },
      "outputs": [],
      "source": [
        "def plot_loss(history):\n",
        "  plt.plot(history.history['loss'], label='loss')\n",
        "  plt.plot(history.history['val_loss'], label='val_loss')\n",
        "  #plt.ylim([0, 1])\n",
        "  plt.xlabel('Epoch')\n",
        "  plt.ylabel('MSE')\n",
        "  plt.legend()\n",
        "  plt.grid(True)\n"
      ]
    },
    {
      "cell_type": "code",
      "execution_count": 37,
      "id": "92acec29-4c1d-4172-ab82-575c76e8c1e3",
      "metadata": {
        "tags": [],
        "colab": {
          "base_uri": "https://localhost:8080/",
          "height": 449
        },
        "id": "92acec29-4c1d-4172-ab82-575c76e8c1e3",
        "outputId": "a914f93f-e952-4229-948f-6e6e9b3371c7"
      },
      "outputs": [
        {
          "output_type": "display_data",
          "data": {
            "text/plain": [
              "<Figure size 640x480 with 1 Axes>"
            ],
            "image/png": "[encoded data removed]"
          },
          "metadata": {}
        }
      ],
      "source": [
        "plot_loss(history)\n"
      ]
    },
    {
      "cell_type": "code",
      "execution_count": 38,
      "id": "c8dcf15f-9847-45ba-8981-4efeba9c3459",
      "metadata": {
        "tags": [],
        "id": "c8dcf15f-9847-45ba-8981-4efeba9c3459"
      },
      "outputs": [],
      "source": [
        "# Collect result for test set\n",
        "test_results={}\n",
        "test_results['linear_model'] = linear_model.evaluate(\n",
        "    test_features, test_label, verbose=0)\n"
      ]
    },
    {
      "cell_type": "code",
      "execution_count": 39,
      "id": "a33ec699-5c53-43eb-b939-c9eb1e946fd9",
      "metadata": {
        "tags": [],
        "colab": {
          "base_uri": "https://localhost:8080/",
          "height": 472
        },
        "id": "a33ec699-5c53-43eb-b939-c9eb1e946fd9",
        "outputId": "264fc4a7-01b4-4016-fef4-74c8df1319d3"
      },
      "outputs": [
        {
          "output_type": "stream",
          "name": "stdout",
          "text": [
            "7/7 [==============================] - 0s 2ms/step\n"
          ]
        },
        {
          "output_type": "display_data",
          "data": {
            "text/plain": [
              "<Figure size 640x480 with 1 Axes>"
            ],
            "image/png": "[encoded data removed]"
          },
          "metadata": {}
        }
      ],
      "source": [
        "Linear_model_predictions = linear_model.predict(test_features).flatten()\n",
        "\n",
        "a = plt.axes(aspect='equal')\n",
        "plt.scatter(test_label, Linear_model_predictions)\n",
        "plt.xlabel('True Values')\n",
        "plt.ylabel('Predictions')\n",
        "lims = [0, 300]\n",
        "plt.xlim(lims)\n",
        "plt.ylim(lims)\n",
        "_ = plt.plot(lims, lims)\n"
      ]
    },
    {
      "cell_type": "markdown",
      "id": "91fd8572-6695-4670-bba9-e3802c613b56",
      "metadata": {
        "id": "91fd8572-6695-4670-bba9-e3802c613b56"
      },
      "source": [
        "## Performance Simple model"
      ]
    },
    {
      "cell_type": "code",
      "execution_count": 40,
      "id": "0abc6c24-539e-48d6-9610-edf563d85f66",
      "metadata": {
        "tags": [],
        "colab": {
          "base_uri": "https://localhost:8080/"
        },
        "id": "0abc6c24-539e-48d6-9610-edf563d85f66",
        "outputId": "f4947f5c-16e1-4f32-dbd5-5ed29fa4d3ed"
      },
      "outputs": [
        {
          "output_type": "execute_result",
          "data": {
            "text/plain": [
              "1273.4455742140267"
            ]
          },
          "metadata": {},
          "execution_count": 40
        }
      ],
      "source": [
        "MSE_Linear_model=mean_squared_error(Linear_model_predictions, test_label)\n",
        "MSE_Linear_model"
      ]
    },
    {
      "cell_type": "markdown",
      "id": "ac4d84af-1220-41b7-97b7-545bdabf4815",
      "metadata": {
        "id": "ac4d84af-1220-41b7-97b7-545bdabf4815"
      },
      "source": [
        "# Regression using a DNN\n",
        "\n",
        "Repeating the previous process using MULTIPLE LAYERS. The model's performance slightly improves on the validation dataset: mse\n"
      ]
    },
    {
      "cell_type": "code",
      "execution_count": 41,
      "id": "1556b636-bbc1-40a6-ba2d-3bf657f08ff1",
      "metadata": {
        "tags": [],
        "id": "1556b636-bbc1-40a6-ba2d-3bf657f08ff1"
      },
      "outputs": [],
      "source": [
        "# Creating build and compile function with 2 inner layers\n",
        "def build_and_compile_model(norm):\n",
        "  model = keras.Sequential([\n",
        "      norm,\n",
        "      layers.Dense(64, activation='relu'),\n",
        "      layers.Dense(64, activation='relu'),\n",
        "      layers.Dense(1)\n",
        "  ])\n",
        "\n",
        "  model.compile(loss='mean_squared_error',\n",
        "                optimizer=tf.keras.optimizers.Adam(0.001))\n",
        "  return model\n"
      ]
    },
    {
      "cell_type": "code",
      "execution_count": 42,
      "id": "904c3937-2624-4469-b7e6-57f1d4ba3974",
      "metadata": {
        "tags": [],
        "colab": {
          "base_uri": "https://localhost:8080/"
        },
        "id": "904c3937-2624-4469-b7e6-57f1d4ba3974",
        "outputId": "f8ae1793-6f09-4fe2-dd20-b57c75b45849"
      },
      "outputs": [
        {
          "output_type": "stream",
          "name": "stdout",
          "text": [
            "Model: \"sequential_1\"\n",
            "_________________________________________________________________\n",
            " Layer (type)                Output Shape              Param #   \n",
            "=================================================================\n",
            " normalization (Normalizatio  (None, 3)                7         \n",
            " n)                                                              \n",
            "                                                                 \n",
            " dense_1 (Dense)             (None, 64)                256       \n",
            "                                                                 \n",
            " dense_2 (Dense)             (None, 64)                4160      \n",
            "                                                                 \n",
            " dense_3 (Dense)             (None, 1)                 65        \n",
            "                                                                 \n",
            "=================================================================\n",
            "Total params: 4,488\n",
            "Trainable params: 4,481\n",
            "Non-trainable params: 7\n",
            "_________________________________________________________________\n"
          ]
        }
      ],
      "source": [
        "# Regression using a DNN\n",
        "dnn_model = build_and_compile_model(normalizer)\n",
        "dnn_model.summary()"
      ]
    },
    {
      "cell_type": "code",
      "execution_count": 43,
      "id": "6db283d7-330a-4376-a6e6-65f5a245949b",
      "metadata": {
        "tags": [],
        "colab": {
          "base_uri": "https://localhost:8080/"
        },
        "id": "6db283d7-330a-4376-a6e6-65f5a245949b",
        "outputId": "e5776ec1-defe-4c30-a350-aa81ccd1e88b"
      },
      "outputs": [
        {
          "output_type": "stream",
          "name": "stdout",
          "text": [
            "CPU times: user 10.2 s, sys: 678 ms, total: 10.9 s\n",
            "Wall time: 11 s\n"
          ]
        }
      ],
      "source": [
        "%%time\n",
        "# Train the model\n",
        "\n",
        "history = dnn_model.fit(\n",
        "    train_features,\n",
        "    train_label,\n",
        "    validation_split=0.2,\n",
        "    verbose=0, epochs=100)\n"
      ]
    },
    {
      "cell_type": "code",
      "execution_count": 44,
      "id": "96b126f3-c376-4c68-bee9-3dffb575d34a",
      "metadata": {
        "tags": [],
        "colab": {
          "base_uri": "https://localhost:8080/",
          "height": 449
        },
        "id": "96b126f3-c376-4c68-bee9-3dffb575d34a",
        "outputId": "0d90eada-160d-40f0-8a5f-3aef73804dfb"
      },
      "outputs": [
        {
          "output_type": "display_data",
          "data": {
            "text/plain": [
              "<Figure size 640x480 with 1 Axes>"
            ],
            "image/png": "[encoded data removed]"
          },
          "metadata": {}
        }
      ],
      "source": [
        "plot_loss(history)\n"
      ]
    },
    {
      "cell_type": "code",
      "execution_count": 45,
      "id": "f788974d-a015-452b-a398-a6d38ba43419",
      "metadata": {
        "tags": [],
        "colab": {
          "base_uri": "https://localhost:8080/",
          "height": 472
        },
        "id": "f788974d-a015-452b-a398-a6d38ba43419",
        "outputId": "431a0188-4274-4255-c38d-3195ae2346de"
      },
      "outputs": [
        {
          "output_type": "stream",
          "name": "stdout",
          "text": [
            "7/7 [==============================] - 0s 3ms/step\n"
          ]
        },
        {
          "output_type": "display_data",
          "data": {
            "text/plain": [
              "<Figure size 640x480 with 1 Axes>"
            ],
            "image/png": "[encoded data removed]"
          },
          "metadata": {}
        }
      ],
      "source": [
        "dnn_predictions = dnn_model.predict(test_features).flatten()\n",
        "\n",
        "a = plt.axes(aspect='equal')\n",
        "plt.scatter(test_label, dnn_predictions)\n",
        "plt.xlabel('True Values')\n",
        "plt.ylabel('Predictions')\n",
        "lims = [0, 300]\n",
        "plt.xlim(lims)\n",
        "plt.ylim(lims)\n",
        "_ = plt.plot(lims, lims)\n",
        "\n"
      ]
    },
    {
      "cell_type": "markdown",
      "id": "634cbf3c-2417-426a-bd3a-00a1cec953b8",
      "metadata": {
        "tags": [],
        "id": "634cbf3c-2417-426a-bd3a-00a1cec953b8"
      },
      "source": [
        "## Performance DNN Model"
      ]
    },
    {
      "cell_type": "code",
      "execution_count": 46,
      "id": "500e5406-a3e6-4296-baf1-41f67bf8e045",
      "metadata": {
        "tags": [],
        "colab": {
          "base_uri": "https://localhost:8080/"
        },
        "id": "500e5406-a3e6-4296-baf1-41f67bf8e045",
        "outputId": "428eb91c-d765-44a4-9ed7-58c683cdfe85"
      },
      "outputs": [
        {
          "output_type": "execute_result",
          "data": {
            "text/plain": [
              "997.5729102902276"
            ]
          },
          "metadata": {},
          "execution_count": 46
        }
      ],
      "source": [
        "MSE_DNN=mean_squared_error(dnn_predictions, test_label)\n",
        "MSE_DNN"
      ]
    },
    {
      "cell_type": "code",
      "execution_count": 47,
      "id": "57f9c715-74bf-41e1-bdeb-1120f3398624",
      "metadata": {
        "tags": [],
        "colab": {
          "base_uri": "https://localhost:8080/",
          "height": 449
        },
        "id": "57f9c715-74bf-41e1-bdeb-1120f3398624",
        "outputId": "3d6813ef-43d5-446d-cb0a-3cff85b607f0"
      },
      "outputs": [
        {
          "output_type": "display_data",
          "data": {
            "text/plain": [
              "<Figure size 640x480 with 1 Axes>"
            ],
            "image/png": "[encoded data removed]"
          },
          "metadata": {}
        }
      ],
      "source": [
        "# Error distribution\n",
        "error = dnn_predictions - test_label\n",
        "plt.hist(error, bins=30)\n",
        "plt.xlabel('Prediction Error')\n",
        "_ = plt.ylabel('Count')\n"
      ]
    },
    {
      "cell_type": "code",
      "execution_count": 48,
      "id": "b926b85b-f99d-4cce-8f61-1cd8a81e1da4",
      "metadata": {
        "tags": [],
        "colab": {
          "base_uri": "https://localhost:8080/",
          "height": 472
        },
        "id": "b926b85b-f99d-4cce-8f61-1cd8a81e1da4",
        "outputId": "c4b6cee9-c9fc-40b7-ce5b-de1ac0254eff"
      },
      "outputs": [
        {
          "output_type": "display_data",
          "data": {
            "text/plain": [
              "<Figure size 640x480 with 1 Axes>"
            ],
            "image/png": "[encoded data removed]"
          },
          "metadata": {}
        }
      ],
      "source": [
        "# Q-Q Plot\n",
        "stats.probplot(error, dist=\"norm\", plot=pylab)\n",
        "pylab.show()"
      ]
    },
    {
      "cell_type": "markdown",
      "id": "fe7f2312-0c2d-4457-a39f-9fcd19c5d25c",
      "metadata": {
        "id": "fe7f2312-0c2d-4457-a39f-9fcd19c5d25c"
      },
      "source": [
        "# Hyperparameter Optimization"
      ]
    },
    {
      "cell_type": "markdown",
      "id": "ade7dec6-7ba3-4e14-a2b6-b2b3826a7898",
      "metadata": {
        "id": "ade7dec6-7ba3-4e14-a2b6-b2b3826a7898"
      },
      "source": [
        "Keras Tuner is a library that helps you pick the optimal set of hyperparameters for your model. The process of selecting the right set of hyperparameters for your machine learning (ML) application is called hyperparameter tuning or hypertuning.\n",
        "\n",
        "Hyperparameters are the variables that govern the training process and the topology of the ML model. These variables remain constant over the training process and directly impact the performance of your ML program. Hyperparameters are of two types:\n",
        "\n",
        "1. Model hyperparameters which influence model selection such as the number and width of hidden layers\n",
        "2. Algorithm hyperparameters which influence the speed and quality of the learning algorithm such as the learning rate for Stochastic Gradient Descent (SGD) and the number of nearest neighbors for a k Nearest Neighbors (KNN) classifier\n"
      ]
    },
    {
      "cell_type": "code",
      "execution_count": 54,
      "id": "71a0b829-163f-446c-bcaf-d906d88885a0",
      "metadata": {
        "tags": [],
        "colab": {
          "base_uri": "https://localhost:8080/"
        },
        "id": "71a0b829-163f-446c-bcaf-d906d88885a0",
        "outputId": "42ab5e87-eba1-4692-f5c8-fe450807a22c"
      },
      "outputs": [
        {
          "output_type": "stream",
          "name": "stdout",
          "text": [
            "Collecting keras-tuner\n",
            "  Downloading keras_tuner-1.3.5-py3-none-any.whl (176 kB)\n",
            "\u001b[2K     \u001b[90m━━━━━━━━━━━━━━━━━━━━━━━━━━━━━━━━━━━━━━━\u001b[0m \u001b[32m176.1/176.1 kB\u001b[0m \u001b[31m3.7 MB/s\u001b[0m eta \u001b[36m0:00:00\u001b[0m\n",
            "\u001b[?25hRequirement already satisfied: packaging in /usr/local/lib/python3.10/dist-packages (from keras-tuner) (23.1)\n",
            "Requirement already satisfied: requests in /usr/local/lib/python3.10/dist-packages (from keras-tuner) (2.27.1)\n",
            "Collecting kt-legacy (from keras-tuner)\n",
            "  Downloading kt_legacy-1.0.5-py3-none-any.whl (9.6 kB)\n",
            "Requirement already satisfied: urllib3<1.27,>=1.21.1 in /usr/local/lib/python3.10/dist-packages (from requests->keras-tuner) (1.26.16)\n",
            "Requirement already satisfied: certifi>=2017.4.17 in /usr/local/lib/python3.10/dist-packages (from requests->keras-tuner) (2023.7.22)\n",
            "Requirement already satisfied: charset-normalizer~=2.0.0 in /usr/local/lib/python3.10/dist-packages (from requests->keras-tuner) (2.0.12)\n",
            "Requirement already satisfied: idna<4,>=2.5 in /usr/local/lib/python3.10/dist-packages (from requests->keras-tuner) (3.4)\n",
            "Installing collected packages: kt-legacy, keras-tuner\n",
            "Successfully installed keras-tuner-1.3.5 kt-legacy-1.0.5\n"
          ]
        }
      ],
      "source": [
        "!pip install keras-tuner --upgrade\n",
        "\n",
        "import keras_tuner as kt\n",
        "from numpy.random import seed"
      ]
    },
    {
      "cell_type": "code",
      "execution_count": 56,
      "id": "ad9820a0-423f-4762-9bc8-f2347ae8874d",
      "metadata": {
        "tags": [],
        "id": "ad9820a0-423f-4762-9bc8-f2347ae8874d"
      },
      "outputs": [],
      "source": [
        "#Function that return Keras model (changing only the value of the learning rate and nodes per layer)\n",
        "\n",
        "def build_hp_model(hp):\n",
        "    model = keras.Sequential([normalizer])\n",
        "    model.add(keras.layers.Dense(\n",
        "        hp.Choice('units',[8,16,32,64, 128]), activation='relu'))\n",
        "    model.add(keras.layers.Dense(\n",
        "        hp.Choice('units',[8,16,32,64, 128]), activation='relu'))\n",
        "    model.add(keras.layers.Dense(1))\n",
        "    hp_learning_rate=hp.Choice('learning_rate', values=[0.0001, 0.0005, 0.001, 0.003, 0.005, 0.01, 0.02, 0.05, 0.1])\n",
        "    model.compile(loss='mse', metrics=['mse'],\n",
        "                  optimizer=tf.keras.optimizers.Adam(hp_learning_rate))\n",
        "    return model"
      ]
    },
    {
      "cell_type": "markdown",
      "id": "2fee610a-af99-4c80-ab35-bba517b06e58",
      "metadata": {
        "id": "2fee610a-af99-4c80-ab35-bba517b06e58"
      },
      "source": [
        "## Random Search Tuner"
      ]
    },
    {
      "cell_type": "code",
      "execution_count": 57,
      "id": "aeaee1d8-d33d-4402-9a49-3d595063e238",
      "metadata": {
        "tags": [],
        "id": "aeaee1d8-d33d-4402-9a49-3d595063e238"
      },
      "outputs": [],
      "source": [
        "# Random search set up\n",
        "\n",
        "tuner_rs=kt.RandomSearch(\n",
        "    build_hp_model,\n",
        "    objective='val_loss',\n",
        "    seed=42,\n",
        "    max_trials=10,\n",
        "    overwrite=True)\n",
        "    #project_name=\"SWB_one\"\n",
        "    #directory='random_search')\n",
        "\n"
      ]
    },
    {
      "cell_type": "code",
      "execution_count": 58,
      "id": "cf261997-b61d-4f81-8722-3dbc8b08fa6c",
      "metadata": {
        "tags": [],
        "colab": {
          "base_uri": "https://localhost:8080/"
        },
        "id": "cf261997-b61d-4f81-8722-3dbc8b08fa6c",
        "outputId": "5806dfe9-46fa-4d31-e21e-d39186f397a4"
      },
      "outputs": [
        {
          "output_type": "stream",
          "name": "stdout",
          "text": [
            "Search space summary\n",
            "Default search space size: 2\n",
            "units (Choice)\n",
            "{'default': 8, 'conditions': [], 'values': [8, 16, 32, 64, 128], 'ordered': True}\n",
            "learning_rate (Choice)\n",
            "{'default': 0.0001, 'conditions': [], 'values': [0.0001, 0.0005, 0.001, 0.003, 0.005, 0.01, 0.02, 0.05, 0.1], 'ordered': True}\n"
          ]
        }
      ],
      "source": [
        "tuner_rs.search_space_summary()"
      ]
    },
    {
      "cell_type": "code",
      "execution_count": 59,
      "id": "d1c9db7d-7040-4d4d-a08d-28b65d8ee13d",
      "metadata": {
        "tags": [],
        "colab": {
          "base_uri": "https://localhost:8080/"
        },
        "id": "d1c9db7d-7040-4d4d-a08d-28b65d8ee13d",
        "outputId": "fadf13df-15c8-412d-ae71-93eb8f3fd8f0"
      },
      "outputs": [
        {
          "output_type": "stream",
          "name": "stdout",
          "text": [
            "Trial 10 Complete [00h 00m 21s]\n",
            "val_loss: 23260.41015625\n",
            "\n",
            "Best val_loss So Far: 737.26171875\n",
            "Total elapsed time: 00h 03m 39s\n",
            "CPU times: user 2min 28s, sys: 9.32 s, total: 2min 38s\n",
            "Wall time: 3min 38s\n"
          ]
        }
      ],
      "source": [
        "%%time\n",
        "# Run Random search\n",
        "\n",
        "tuner_rs.search(train_features, train_label, epochs=100, validation_split=0.2, verbose=2, use_multiprocessing=True)"
      ]
    },
    {
      "cell_type": "code",
      "execution_count": 60,
      "id": "21e46f68-896d-41a3-ae47-1fee1e13b028",
      "metadata": {
        "tags": [],
        "colab": {
          "base_uri": "https://localhost:8080/"
        },
        "id": "21e46f68-896d-41a3-ae47-1fee1e13b028",
        "outputId": "a8bc6c82-0918-4467-a78d-654a371c95aa"
      },
      "outputs": [
        {
          "output_type": "stream",
          "name": "stdout",
          "text": [
            "Model: \"sequential_1\"\n",
            "_________________________________________________________________\n",
            " Layer (type)                Output Shape              Param #   \n",
            "=================================================================\n",
            " normalization (Normalizatio  (None, 3)                7         \n",
            " n)                                                              \n",
            "                                                                 \n",
            " dense_3 (Dense)             (None, 16)                64        \n",
            "                                                                 \n",
            " dense_4 (Dense)             (None, 16)                272       \n",
            "                                                                 \n",
            " dense_5 (Dense)             (None, 1)                 17        \n",
            "                                                                 \n",
            "=================================================================\n",
            "Total params: 360\n",
            "Trainable params: 353\n",
            "Non-trainable params: 7\n",
            "_________________________________________________________________\n"
          ]
        }
      ],
      "source": [
        "#Save best hyperparameters\n",
        "best_rs=tuner_rs.get_best_hyperparameters()[0]\n",
        "# Build model with best parameters\n",
        "hrs_model = tuner_rs.hypermodel.build(best_rs)\n",
        "hrs_model.summary()"
      ]
    },
    {
      "cell_type": "code",
      "execution_count": 61,
      "id": "e36697c7-7ea8-4d7c-881b-52ce99592da6",
      "metadata": {
        "tags": [],
        "colab": {
          "base_uri": "https://localhost:8080/"
        },
        "id": "e36697c7-7ea8-4d7c-881b-52ce99592da6",
        "outputId": "dac5a6c5-0da5-4b0e-dde8-13bf0fee3873"
      },
      "outputs": [
        {
          "output_type": "execute_result",
          "data": {
            "text/plain": [
              "{'units': 16, 'learning_rate': 0.005}"
            ]
          },
          "metadata": {},
          "execution_count": 61
        }
      ],
      "source": [
        "best_rs.values"
      ]
    },
    {
      "cell_type": "code",
      "execution_count": 62,
      "id": "e354a314-42ed-45e5-bb5c-1ada2596484c",
      "metadata": {
        "tags": [],
        "colab": {
          "base_uri": "https://localhost:8080/",
          "height": 484
        },
        "id": "e354a314-42ed-45e5-bb5c-1ada2596484c",
        "outputId": "d3406da3-8b65-4c5a-f05f-8eb51ee29946"
      },
      "outputs": [
        {
          "output_type": "stream",
          "name": "stdout",
          "text": [
            "CPU times: user 10.7 s, sys: 673 ms, total: 11.3 s\n",
            "Wall time: 11 s\n"
          ]
        },
        {
          "output_type": "display_data",
          "data": {
            "text/plain": [
              "<Figure size 640x480 with 1 Axes>"
            ],
            "image/png": "[encoded data removed]"
          },
          "metadata": {}
        }
      ],
      "source": [
        "%%time\n",
        "\n",
        "plot_loss(hrs_model.fit(train_features, train_label, epochs=100, validation_split=0.2, verbose=0, use_multiprocessing=True))"
      ]
    },
    {
      "cell_type": "code",
      "execution_count": 63,
      "id": "93e83f0a-28e9-42a6-86ad-cfa1435b470d",
      "metadata": {
        "tags": [],
        "colab": {
          "base_uri": "https://localhost:8080/",
          "height": 472
        },
        "id": "93e83f0a-28e9-42a6-86ad-cfa1435b470d",
        "outputId": "923fccc0-c050-4c60-900c-90a514cca8f8"
      },
      "outputs": [
        {
          "output_type": "stream",
          "name": "stdout",
          "text": [
            "7/7 [==============================] - 0s 2ms/step\n"
          ]
        },
        {
          "output_type": "display_data",
          "data": {
            "text/plain": [
              "<Figure size 640x480 with 1 Axes>"
            ],
            "image/png": "[encoded data removed]"
          },
          "metadata": {}
        }
      ],
      "source": [
        "hrs_predictions = hrs_model.predict(test_features).flatten()\n",
        "\n",
        "hrs = plt.axes(aspect='equal')\n",
        "plt.scatter(test_label, hrs_predictions)\n",
        "plt.xlabel('True Values')\n",
        "plt.ylabel('Predictions')\n",
        "lims = [0, 300]\n",
        "plt.xlim(lims)\n",
        "plt.ylim(lims)\n",
        "_ = plt.plot(lims, lims)"
      ]
    },
    {
      "cell_type": "markdown",
      "id": "c04b8599-b99c-4df8-8925-2aa53fa2dbf9",
      "metadata": {
        "tags": [],
        "id": "c04b8599-b99c-4df8-8925-2aa53fa2dbf9"
      },
      "source": [
        "### Performance Random Search"
      ]
    },
    {
      "cell_type": "code",
      "execution_count": 64,
      "id": "3dc4fe51-116e-401d-bb5b-72a72b9da8a8",
      "metadata": {
        "tags": [],
        "colab": {
          "base_uri": "https://localhost:8080/"
        },
        "id": "3dc4fe51-116e-401d-bb5b-72a72b9da8a8",
        "outputId": "7debfca2-9055-4bd7-d869-fb0acbe952a9"
      },
      "outputs": [
        {
          "output_type": "execute_result",
          "data": {
            "text/plain": [
              "999.2831376449865"
            ]
          },
          "metadata": {},
          "execution_count": 64
        }
      ],
      "source": [
        "MSE_RS=mean_squared_error(hrs_predictions, test_label)\n",
        "MSE_RS"
      ]
    },
    {
      "cell_type": "markdown",
      "id": "26fd378b-62a0-45b1-9d33-c1a55da60b87",
      "metadata": {
        "tags": [],
        "id": "26fd378b-62a0-45b1-9d33-c1a55da60b87"
      },
      "source": [
        "## Hyperband tuning"
      ]
    },
    {
      "cell_type": "code",
      "execution_count": 65,
      "id": "3543e2f0-96c0-4044-b108-9cb9cf860b09",
      "metadata": {
        "tags": [],
        "id": "3543e2f0-96c0-4044-b108-9cb9cf860b09"
      },
      "outputs": [],
      "source": [
        "tuner_hBand = kt.Hyperband(\n",
        "    build_hp_model,\n",
        "    objective='val_loss',\n",
        "    max_epochs=10,\n",
        "    hyperband_iterations=2,\n",
        "    overwrite=True)"
      ]
    },
    {
      "cell_type": "code",
      "execution_count": 66,
      "id": "aa14c524-f9f4-48bc-bcdd-5eb7bfd4bf25",
      "metadata": {
        "tags": [],
        "colab": {
          "base_uri": "https://localhost:8080/"
        },
        "id": "aa14c524-f9f4-48bc-bcdd-5eb7bfd4bf25",
        "outputId": "5e329d02-2285-4a2b-accc-422415a5f9e1"
      },
      "outputs": [
        {
          "output_type": "stream",
          "name": "stdout",
          "text": [
            "Search space summary\n",
            "Default search space size: 2\n",
            "units (Choice)\n",
            "{'default': 8, 'conditions': [], 'values': [8, 16, 32, 64, 128], 'ordered': True}\n",
            "learning_rate (Choice)\n",
            "{'default': 0.0001, 'conditions': [], 'values': [0.0001, 0.0005, 0.001, 0.003, 0.005, 0.01, 0.02, 0.05, 0.1], 'ordered': True}\n"
          ]
        }
      ],
      "source": [
        "tuner_hBand.search_space_summary()"
      ]
    },
    {
      "cell_type": "code",
      "execution_count": 67,
      "id": "77eafd0d-366e-448c-930e-6b968f2756bc",
      "metadata": {
        "colab": {
          "base_uri": "https://localhost:8080/"
        },
        "id": "77eafd0d-366e-448c-930e-6b968f2756bc",
        "outputId": "9408b686-27a2-471e-c016-dbcbe8a5018b"
      },
      "outputs": [
        {
          "output_type": "stream",
          "name": "stdout",
          "text": [
            "Trial 59 Complete [00h 00m 04s]\n",
            "val_loss: 24790.576171875\n",
            "\n",
            "Best val_loss So Far: 723.1700439453125\n",
            "Total elapsed time: 00h 02m 29s\n",
            "CPU times: user 2min 17s, sys: 3.65 s, total: 2min 21s\n",
            "Wall time: 2min 28s\n"
          ]
        }
      ],
      "source": [
        "%%time\n",
        "#Perform Tuning with Hyperband\n",
        "stop_early = tf.keras.callbacks.EarlyStopping(monitor='val_loss', patience=30)\n",
        "tuner_hBand.search(train_features, train_label, epochs=100, validation_split=0.2, verbose=2,\n",
        "                  callbacks=[stop_early],  use_multiprocessing=True)"
      ]
    },
    {
      "cell_type": "code",
      "execution_count": 68,
      "id": "3fbb47e9-7366-4011-8ba4-87a95f58cd22",
      "metadata": {
        "id": "3fbb47e9-7366-4011-8ba4-87a95f58cd22"
      },
      "outputs": [],
      "source": [
        "#Save best hyperparameters\n",
        "best_hBand=tuner_hBand.get_best_hyperparameters()[0]"
      ]
    },
    {
      "cell_type": "code",
      "execution_count": 69,
      "id": "b71694e1-79b8-48ea-b300-4e6d1b203238",
      "metadata": {
        "tags": [],
        "colab": {
          "base_uri": "https://localhost:8080/"
        },
        "id": "b71694e1-79b8-48ea-b300-4e6d1b203238",
        "outputId": "3d584819-c3f8-476e-c247-4fbe5e0192b8"
      },
      "outputs": [
        {
          "output_type": "execute_result",
          "data": {
            "text/plain": [
              "{'units': 128,\n",
              " 'learning_rate': 0.05,\n",
              " 'tuner/epochs': 10,\n",
              " 'tuner/initial_epoch': 0,\n",
              " 'tuner/bracket': 0,\n",
              " 'tuner/round': 0}"
            ]
          },
          "metadata": {},
          "execution_count": 69
        }
      ],
      "source": [
        "best_hBand.values"
      ]
    },
    {
      "cell_type": "code",
      "execution_count": 70,
      "id": "8a23eae5-8166-43db-83d7-335bc571994d",
      "metadata": {
        "colab": {
          "base_uri": "https://localhost:8080/",
          "height": 761
        },
        "id": "8a23eae5-8166-43db-83d7-335bc571994d",
        "outputId": "a7aeeac3-3431-46e8-e0e0-d23091738ed6"
      },
      "outputs": [
        {
          "output_type": "stream",
          "name": "stdout",
          "text": [
            "Model: \"sequential_1\"\n",
            "_________________________________________________________________\n",
            " Layer (type)                Output Shape              Param #   \n",
            "=================================================================\n",
            " normalization (Normalizatio  (None, 3)                7         \n",
            " n)                                                              \n",
            "                                                                 \n",
            " dense_3 (Dense)             (None, 128)               512       \n",
            "                                                                 \n",
            " dense_4 (Dense)             (None, 128)               16512     \n",
            "                                                                 \n",
            " dense_5 (Dense)             (None, 1)                 129       \n",
            "                                                                 \n",
            "=================================================================\n",
            "Total params: 17,160\n",
            "Trainable params: 17,153\n",
            "Non-trainable params: 7\n",
            "_________________________________________________________________\n"
          ]
        },
        {
          "output_type": "display_data",
          "data": {
            "text/plain": [
              "<Figure size 640x480 with 1 Axes>"
            ],
            "image/png": "[encoded data removed]"
          },
          "metadata": {}
        }
      ],
      "source": [
        "# Build model with best parameters\n",
        "hBand_model = tuner_hBand.hypermodel.build(best_hBand)\n",
        "hBand_model.summary()\n",
        "plot_loss(hBand_model.fit(train_features, train_label, epochs=100, validation_split=0.2, verbose=0,  use_multiprocessing=True))"
      ]
    },
    {
      "cell_type": "code",
      "execution_count": 71,
      "id": "78e50a21-9417-4175-bdbb-028220212d6f",
      "metadata": {
        "colab": {
          "base_uri": "https://localhost:8080/",
          "height": 472
        },
        "id": "78e50a21-9417-4175-bdbb-028220212d6f",
        "outputId": "406aaf98-3e41-4424-dea7-ce076a72a7d8"
      },
      "outputs": [
        {
          "output_type": "stream",
          "name": "stdout",
          "text": [
            "7/7 [==============================] - 0s 2ms/step\n"
          ]
        },
        {
          "output_type": "display_data",
          "data": {
            "text/plain": [
              "<Figure size 640x480 with 1 Axes>"
            ],
            "image/png": "[encoded data removed]"
          },
          "metadata": {}
        }
      ],
      "source": [
        "hBand_predictions = hBand_model.predict(test_features).flatten()\n",
        "\n",
        "hband = plt.axes(aspect='equal')\n",
        "plt.scatter(test_label, hBand_predictions)\n",
        "plt.xlabel('True Values')\n",
        "plt.ylabel('Predictions')\n",
        "lims = [0, 300]\n",
        "plt.xlim(lims)\n",
        "plt.ylim(lims)\n",
        "_ = plt.plot(lims, lims)"
      ]
    },
    {
      "cell_type": "markdown",
      "id": "a2d0669c-2d43-4740-9416-7e297e210b15",
      "metadata": {
        "id": "a2d0669c-2d43-4740-9416-7e297e210b15"
      },
      "source": [
        "### Performance Hyperband"
      ]
    },
    {
      "cell_type": "code",
      "execution_count": 72,
      "id": "0ac392a0-9063-4456-9937-72e522c3bd81",
      "metadata": {
        "tags": [],
        "colab": {
          "base_uri": "https://localhost:8080/"
        },
        "id": "0ac392a0-9063-4456-9937-72e522c3bd81",
        "outputId": "e8505f30-e39e-4707-a997-6c9db9b6d5c2"
      },
      "outputs": [
        {
          "output_type": "execute_result",
          "data": {
            "text/plain": [
              "1195.818653899891"
            ]
          },
          "metadata": {},
          "execution_count": 72
        }
      ],
      "source": [
        "MSE_HB=mean_squared_error(hBand_predictions, test_label)\n",
        "MSE_HB"
      ]
    },
    {
      "cell_type": "markdown",
      "id": "b847a3c3-25f5-45b0-b6df-ee0dc6fc0722",
      "metadata": {
        "tags": [],
        "id": "b847a3c3-25f5-45b0-b6df-ee0dc6fc0722"
      },
      "source": [
        "## Bayes Tuning"
      ]
    },
    {
      "cell_type": "code",
      "execution_count": 73,
      "id": "0bba49d3-e128-4d3e-8266-8b4e33a9e9bf",
      "metadata": {
        "id": "0bba49d3-e128-4d3e-8266-8b4e33a9e9bf"
      },
      "outputs": [],
      "source": [
        "tuner_Bayes = kt.BayesianOptimization(\n",
        "    hypermodel=build_hp_model,\n",
        "    objective='val_loss',\n",
        "    max_trials=10,\n",
        "    num_initial_points=None,\n",
        "    alpha=0.0001,\n",
        "    beta=2.6,\n",
        "    seed=42,\n",
        "    hyperparameters=None,\n",
        "    tune_new_entries=True,\n",
        "    allow_new_entries=True,\n",
        "    max_retries_per_trial=0,\n",
        "    max_consecutive_failed_trials=3,\n",
        "    overwrite=True\n",
        ")"
      ]
    },
    {
      "cell_type": "code",
      "execution_count": 74,
      "id": "2a85be41-d5ec-4beb-a1db-ea5aa5935226",
      "metadata": {
        "tags": [],
        "colab": {
          "base_uri": "https://localhost:8080/"
        },
        "id": "2a85be41-d5ec-4beb-a1db-ea5aa5935226",
        "outputId": "31eac8f1-9662-4aa7-8760-d3a3addec1ac"
      },
      "outputs": [
        {
          "output_type": "stream",
          "name": "stdout",
          "text": [
            "Search space summary\n",
            "Default search space size: 2\n",
            "units (Choice)\n",
            "{'default': 8, 'conditions': [], 'values': [8, 16, 32, 64, 128], 'ordered': True}\n",
            "learning_rate (Choice)\n",
            "{'default': 0.0001, 'conditions': [], 'values': [0.0001, 0.0005, 0.001, 0.003, 0.005, 0.01, 0.02, 0.05, 0.1], 'ordered': True}\n"
          ]
        }
      ],
      "source": [
        "tuner_Bayes.search_space_summary()"
      ]
    },
    {
      "cell_type": "code",
      "execution_count": 75,
      "id": "28064ce7-2260-47d3-ab3b-3cbea060c981",
      "metadata": {
        "tags": [],
        "colab": {
          "base_uri": "https://localhost:8080/"
        },
        "id": "28064ce7-2260-47d3-ab3b-3cbea060c981",
        "outputId": "a6f79a8d-e6b9-4767-a581-089a71f3c0a1"
      },
      "outputs": [
        {
          "output_type": "stream",
          "name": "stderr",
          "text": [
            "/usr/local/lib/python3.10/dist-packages/sklearn/gaussian_process/kernels.py:420: ConvergenceWarning: The optimal value found for dimension 0 of parameter length_scale is close to the specified lower bound 1e-05. Decreasing the bound and calling fit again may find a better value.\n",
            "  warnings.warn(\n"
          ]
        },
        {
          "output_type": "stream",
          "name": "stdout",
          "text": [
            "CPU times: user 2min 4s, sys: 7.68 s, total: 2min 11s\n",
            "Wall time: 2min 27s\n"
          ]
        }
      ],
      "source": [
        "%%time\n",
        "tuner_Bayes.search(train_features, train_label, epochs=100, validation_split=0.2, verbose=0,\n",
        "                  callbacks=[stop_early], use_multiprocessing=True)"
      ]
    },
    {
      "cell_type": "code",
      "execution_count": 76,
      "id": "e5a4ea3d-54ee-49a4-ace7-d8d68faa86a3",
      "metadata": {
        "colab": {
          "base_uri": "https://localhost:8080/"
        },
        "id": "e5a4ea3d-54ee-49a4-ace7-d8d68faa86a3",
        "outputId": "3fcb7583-30bf-4384-c092-9e8e59c1ab02"
      },
      "outputs": [
        {
          "output_type": "execute_result",
          "data": {
            "text/plain": [
              "{'units': 16, 'learning_rate': 0.1}"
            ]
          },
          "metadata": {},
          "execution_count": 76
        }
      ],
      "source": [
        "#Save best hyperparameters\n",
        "best_Bayes=tuner_Bayes.get_best_hyperparameters()[0]\n",
        "best_Bayes.values"
      ]
    },
    {
      "cell_type": "code",
      "execution_count": 77,
      "id": "224744ac-5626-4d32-9605-ab300107ad1b",
      "metadata": {
        "colab": {
          "base_uri": "https://localhost:8080/",
          "height": 761
        },
        "id": "224744ac-5626-4d32-9605-ab300107ad1b",
        "outputId": "d55ac397-b20b-4262-8506-059e60b0c68e"
      },
      "outputs": [
        {
          "output_type": "stream",
          "name": "stdout",
          "text": [
            "Model: \"sequential_1\"\n",
            "_________________________________________________________________\n",
            " Layer (type)                Output Shape              Param #   \n",
            "=================================================================\n",
            " normalization (Normalizatio  (None, 3)                7         \n",
            " n)                                                              \n",
            "                                                                 \n",
            " dense_3 (Dense)             (None, 16)                64        \n",
            "                                                                 \n",
            " dense_4 (Dense)             (None, 16)                272       \n",
            "                                                                 \n",
            " dense_5 (Dense)             (None, 1)                 17        \n",
            "                                                                 \n",
            "=================================================================\n",
            "Total params: 360\n",
            "Trainable params: 353\n",
            "Non-trainable params: 7\n",
            "_________________________________________________________________\n"
          ]
        },
        {
          "output_type": "display_data",
          "data": {
            "text/plain": [
              "<Figure size 640x480 with 1 Axes>"
            ],
            "image/png": "[encoded data removed]"
          },
          "metadata": {}
        }
      ],
      "source": [
        "# Build model with best parameters\n",
        "hBayes_model = tuner_Bayes.hypermodel.build(best_Bayes)\n",
        "hBayes_model.summary()\n",
        "plot_loss(hBayes_model.fit(train_features, train_label, epochs=100, validation_split=0.2, verbose=0, use_multiprocessing=True))"
      ]
    },
    {
      "cell_type": "code",
      "execution_count": 78,
      "id": "11887c05-f753-4bea-a45d-64ca1d8828a5",
      "metadata": {
        "tags": [],
        "colab": {
          "base_uri": "https://localhost:8080/",
          "height": 472
        },
        "id": "11887c05-f753-4bea-a45d-64ca1d8828a5",
        "outputId": "a6fa3997-0dc6-406a-e645-caadd0a8f33a"
      },
      "outputs": [
        {
          "output_type": "stream",
          "name": "stdout",
          "text": [
            "7/7 [==============================] - 0s 2ms/step\n"
          ]
        },
        {
          "output_type": "display_data",
          "data": {
            "text/plain": [
              "<Figure size 640x480 with 1 Axes>"
            ],
            "image/png": "[encoded data removed]"
          },
          "metadata": {}
        }
      ],
      "source": [
        "Bayes_predictions = hBayes_model.predict(test_features).flatten()\n",
        "\n",
        "bayes = plt.axes(aspect='equal')\n",
        "plt.scatter(test_label, Bayes_predictions)\n",
        "plt.xlabel('True Values')\n",
        "plt.ylabel('Predictions')\n",
        "lims = [0, 300]\n",
        "plt.xlim(lims)\n",
        "plt.ylim(lims)\n",
        "_ = plt.plot(lims, lims)\n"
      ]
    },
    {
      "cell_type": "markdown",
      "id": "5343adea-2623-4f5f-ae02-e96463352579",
      "metadata": {
        "tags": [],
        "id": "5343adea-2623-4f5f-ae02-e96463352579"
      },
      "source": [
        "### Performance Bayes tuning"
      ]
    },
    {
      "cell_type": "code",
      "execution_count": 79,
      "id": "a61504e9-b2f9-42c0-bef7-0cfe02de2309",
      "metadata": {
        "tags": [],
        "colab": {
          "base_uri": "https://localhost:8080/"
        },
        "id": "a61504e9-b2f9-42c0-bef7-0cfe02de2309",
        "outputId": "5292a8a7-d932-4c60-95cf-6ec345ffc0ad"
      },
      "outputs": [
        {
          "output_type": "execute_result",
          "data": {
            "text/plain": [
              "1003.4236784943666"
            ]
          },
          "metadata": {},
          "execution_count": 79
        }
      ],
      "source": [
        "MSE_Bayes=mean_squared_error(Bayes_predictions, test_label)\n",
        "MSE_Bayes"
      ]
    },
    {
      "cell_type": "markdown",
      "id": "8e21ca03-c0d9-4c0f-8fbb-964300cc2b0a",
      "metadata": {
        "id": "8e21ca03-c0d9-4c0f-8fbb-964300cc2b0a"
      },
      "source": [
        "## Grid Search"
      ]
    },
    {
      "cell_type": "code",
      "execution_count": 80,
      "id": "6a94fc47-884e-40a8-8be1-4c98a077dcd6",
      "metadata": {
        "tags": [],
        "id": "6a94fc47-884e-40a8-8be1-4c98a077dcd6"
      },
      "outputs": [],
      "source": [
        "tunerGrid=kt.GridSearch(\n",
        "    hypermodel=build_hp_model,\n",
        "    objective='val_loss',\n",
        "    max_trials=10,\n",
        "    seed=None,\n",
        "    hyperparameters=None,\n",
        "    tune_new_entries=True,\n",
        "    allow_new_entries=True,\n",
        "    max_retries_per_trial=0,\n",
        "    max_consecutive_failed_trials=3,\n",
        "    overwrite=True\n",
        ")\n"
      ]
    },
    {
      "cell_type": "code",
      "execution_count": 81,
      "id": "84664332-6f06-44e2-b92b-38919bd8d48f",
      "metadata": {
        "tags": [],
        "colab": {
          "base_uri": "https://localhost:8080/"
        },
        "id": "84664332-6f06-44e2-b92b-38919bd8d48f",
        "outputId": "8a948ef1-903c-4dc4-e5e1-54e5ee399623"
      },
      "outputs": [
        {
          "output_type": "stream",
          "name": "stdout",
          "text": [
            "Search space summary\n",
            "Default search space size: 2\n",
            "units (Choice)\n",
            "{'default': 8, 'conditions': [], 'values': [8, 16, 32, 64, 128], 'ordered': True}\n",
            "learning_rate (Choice)\n",
            "{'default': 0.0001, 'conditions': [], 'values': [0.0001, 0.0005, 0.001, 0.003, 0.005, 0.01, 0.02, 0.05, 0.1], 'ordered': True}\n"
          ]
        }
      ],
      "source": [
        "tunerGrid.search_space_summary()"
      ]
    },
    {
      "cell_type": "code",
      "execution_count": 82,
      "id": "8e9b8c3b-60d2-4705-ad2e-268cccbb8afe",
      "metadata": {
        "tags": [],
        "colab": {
          "base_uri": "https://localhost:8080/"
        },
        "id": "8e9b8c3b-60d2-4705-ad2e-268cccbb8afe",
        "outputId": "846a1243-0a6e-428c-c521-04369d6a34e2"
      },
      "outputs": [
        {
          "output_type": "stream",
          "name": "stdout",
          "text": [
            "Trial 10 Complete [00h 00m 31s]\n",
            "val_loss: 19968.93359375\n",
            "\n",
            "Best val_loss So Far: 717.834716796875\n",
            "Total elapsed time: 00h 02m 54s\n",
            "CPU times: user 2min 20s, sys: 9.02 s, total: 2min 29s\n",
            "Wall time: 2min 54s\n"
          ]
        }
      ],
      "source": [
        "%%time\n",
        "tunerGrid.search(train_features, train_label, epochs=100, validation_split=0.2, verbose=2,\n",
        "                  callbacks=[stop_early], use_multiprocessing=True)"
      ]
    },
    {
      "cell_type": "code",
      "execution_count": 83,
      "id": "2a863499-0bde-445b-8b69-8ff0cd2723fb",
      "metadata": {
        "tags": [],
        "colab": {
          "base_uri": "https://localhost:8080/"
        },
        "id": "2a863499-0bde-445b-8b69-8ff0cd2723fb",
        "outputId": "a7f60c4d-3a93-4c31-c6df-dfb15f9c1839"
      },
      "outputs": [
        {
          "output_type": "execute_result",
          "data": {
            "text/plain": [
              "{'units': 8, 'learning_rate': 0.01}"
            ]
          },
          "metadata": {},
          "execution_count": 83
        }
      ],
      "source": [
        "#Save best hyperparameters\n",
        "bestGrid=tunerGrid.get_best_hyperparameters()[0]\n",
        "bestGrid.values"
      ]
    },
    {
      "cell_type": "code",
      "execution_count": 84,
      "id": "defe1d43-6020-4e7e-81c4-c788b2a475e4",
      "metadata": {
        "tags": [],
        "colab": {
          "base_uri": "https://localhost:8080/",
          "height": 763
        },
        "id": "defe1d43-6020-4e7e-81c4-c788b2a475e4",
        "outputId": "1cb0241a-3f68-4d42-ce9c-78da01673d5c"
      },
      "outputs": [
        {
          "output_type": "stream",
          "name": "stdout",
          "text": [
            "Model: \"sequential_1\"\n",
            "_________________________________________________________________\n",
            " Layer (type)                Output Shape              Param #   \n",
            "=================================================================\n",
            " normalization (Normalizatio  (None, 3)                7         \n",
            " n)                                                              \n",
            "                                                                 \n",
            " dense_3 (Dense)             (None, 8)                 32        \n",
            "                                                                 \n",
            " dense_4 (Dense)             (None, 8)                 72        \n",
            "                                                                 \n",
            " dense_5 (Dense)             (None, 1)                 9         \n",
            "                                                                 \n",
            "=================================================================\n",
            "Total params: 120\n",
            "Trainable params: 113\n",
            "Non-trainable params: 7\n",
            "_________________________________________________________________\n"
          ]
        },
        {
          "output_type": "display_data",
          "data": {
            "text/plain": [
              "<Figure size 640x480 with 1 Axes>"
            ],
            "image/png": "[encoded data removed]"
          },
          "metadata": {}
        }
      ],
      "source": [
        "# Build model with best parameters\n",
        "hGrid_model = tunerGrid.hypermodel.build(bestGrid)\n",
        "hGrid_model.summary()\n",
        "plot_loss(hGrid_model.fit(train_features, train_label, epochs=100, validation_split=0.2, verbose=0, use_multiprocessing=True))"
      ]
    },
    {
      "cell_type": "code",
      "execution_count": 85,
      "id": "acec5523-473a-4da4-a5fd-475b9ebb4a41",
      "metadata": {
        "tags": [],
        "colab": {
          "base_uri": "https://localhost:8080/",
          "height": 472
        },
        "id": "acec5523-473a-4da4-a5fd-475b9ebb4a41",
        "outputId": "828d38fe-bbf1-4196-9eb7-f3952ea97a9d"
      },
      "outputs": [
        {
          "output_type": "stream",
          "name": "stdout",
          "text": [
            "7/7 [==============================] - 0s 2ms/step\n"
          ]
        },
        {
          "output_type": "display_data",
          "data": {
            "text/plain": [
              "<Figure size 640x480 with 1 Axes>"
            ],
            "image/png": "[encoded data removed]"
          },
          "metadata": {}
        }
      ],
      "source": [
        "grid_predictions = hGrid_model.predict(test_features).flatten()\n",
        "\n",
        "grid = plt.axes(aspect='equal')\n",
        "plt.scatter(test_label, grid_predictions)\n",
        "plt.xlabel('True Values')\n",
        "plt.ylabel('Predictions')\n",
        "lims = [0, 300]\n",
        "plt.xlim(lims)\n",
        "plt.ylim(lims)\n",
        "_ = plt.plot(lims, lims)\n"
      ]
    },
    {
      "cell_type": "markdown",
      "source": [
        "### Performance Grid Tuning"
      ],
      "metadata": {
        "id": "b1b7c02b-d1d9-41fc-b0e6-925a5c59f433"
      },
      "id": "b1b7c02b-d1d9-41fc-b0e6-925a5c59f433"
    },
    {
      "cell_type": "code",
      "execution_count": 87,
      "id": "5190e1dc-ef14-4cb2-9491-ac120676a02a",
      "metadata": {
        "tags": [],
        "colab": {
          "base_uri": "https://localhost:8080/"
        },
        "id": "5190e1dc-ef14-4cb2-9491-ac120676a02a",
        "outputId": "c7564476-c189-4f63-a84d-6cc521147052"
      },
      "outputs": [
        {
          "output_type": "execute_result",
          "data": {
            "text/plain": [
              "1016.2337820430364"
            ]
          },
          "metadata": {},
          "execution_count": 87
        }
      ],
      "source": [
        "MSE_Grid=mean_squared_error(grid_predictions, test_label)\n",
        "MSE_Grid"
      ]
    },
    {
      "cell_type": "markdown",
      "source": [
        "### Summary of Results"
      ],
      "metadata": {
        "id": "2aEvRcu62EJ9"
      },
      "id": "2aEvRcu62EJ9"
    },
    {
      "cell_type": "code",
      "execution_count": 89,
      "id": "25b39406-e980-426f-87fe-f5de0593adc0",
      "metadata": {
        "tags": [],
        "colab": {
          "base_uri": "https://localhost:8080/",
          "height": 238
        },
        "id": "25b39406-e980-426f-87fe-f5de0593adc0",
        "outputId": "292a06c1-8438-4c16-9385-90ef07db7eec"
      },
      "outputs": [
        {
          "output_type": "execute_result",
          "data": {
            "text/plain": [
              "          Method          MSE\n",
              "0         Simple  1273.445574\n",
              "1           NNet   997.572910\n",
              "2  Random Search   999.283138\n",
              "3      Hyperband  1195.818654\n",
              "4      Bayes Hyp  1003.423678\n",
              "5    Grid Search  1016.233782"
            ],
            "text/html": [
              "\n",
              "\n",
              "  <div id=\"df-d178b48c-96d8-4555-b589-e8deab787f97\">\n",
              "    <div class=\"colab-df-container\">\n",
              "      <div>\n",
              "<style scoped>\n",
              "    .dataframe tbody tr th:only-of-type {\n",
              "        vertical-align: middle;\n",
              "    }\n",
              "\n",
              "    .dataframe tbody tr th {\n",
              "        vertical-align: top;\n",
              "    }\n",
              "\n",
              "    .dataframe thead th {\n",
              "        text-align: right;\n",
              "    }\n",
              "</style>\n",
              "<table border=\"1\" class=\"dataframe\">\n",
              "  <thead>\n",
              "    <tr style=\"text-align: right;\">\n",
              "      <th></th>\n",
              "      <th>Method</th>\n",
              "      <th>MSE</th>\n",
              "    </tr>\n",
              "  </thead>\n",
              "  <tbody>\n",
              "    <tr>\n",
              "      <th>0</th>\n",
              "      <td>Simple</td>\n",
              "      <td>1273.445574</td>\n",
              "    </tr>\n",
              "    <tr>\n",
              "      <th>1</th>\n",
              "      <td>NNet</td>\n",
              "      <td>997.572910</td>\n",
              "    </tr>\n",
              "    <tr>\n",
              "      <th>2</th>\n",
              "      <td>Random Search</td>\n",
              "      <td>999.283138</td>\n",
              "    </tr>\n",
              "    <tr>\n",
              "      <th>3</th>\n",
              "      <td>Hyperband</td>\n",
              "      <td>1195.818654</td>\n",
              "    </tr>\n",
              "    <tr>\n",
              "      <th>4</th>\n",
              "      <td>Bayes Hyp</td>\n",
              "      <td>1003.423678</td>\n",
              "    </tr>\n",
              "    <tr>\n",
              "      <th>5</th>\n",
              "      <td>Grid Search</td>\n",
              "      <td>1016.233782</td>\n",
              "    </tr>\n",
              "  </tbody>\n",
              "</table>\n",
              "</div>\n",
              "      <button class=\"colab-df-convert\" onclick=\"convertToInteractive('df-d178b48c-96d8-4555-b589-e8deab787f97')\"\n",
              "              title=\"Convert this dataframe to an interactive table.\"\n",
              "              style=\"display:none;\">\n",
              "\n",
              "  <svg xmlns=\"http://www.w3.org/2000/svg\" height=\"24px\"viewBox=\"0 0 24 24\"\n",
              "       width=\"24px\">\n",
              "    <path d=\"M0 0h24v24H0V0z\" fill=\"none\"/>\n",
              "    <path d=\"M18.56 5.44l.94 2.06.94-2.06 2.06-.94-2.06-.94-.94-2.06-.94 2.06-2.06.94zm-11 1L8.5 8.5l.94-2.06 2.06-.94-2.06-.94L8.5 2.5l-.94 2.06-2.06.94zm10 10l.94 2.06.94-2.06 2.06-.94-2.06-.94-.94-2.06-.94 2.06-2.06.94z\"/><path d=\"M17.41 7.96l-1.37-1.37c-.4-.4-.92-.59-1.43-.59-.52 0-1.04.2-1.43.59L10.3 9.45l-7.72 7.72c-.78.78-.78 2.05 0 2.83L4 21.41c.39.39.9.59 1.41.59.51 0 1.02-.2 1.41-.59l7.78-7.78 2.81-2.81c.8-.78.8-2.07 0-2.86zM5.41 20L4 18.59l7.72-7.72 1.47 1.35L5.41 20z\"/>\n",
              "  </svg>\n",
              "      </button>\n",
              "\n",
              "\n",
              "\n",
              "    <div id=\"df-8b458063-9989-4db9-864f-23a529c00c64\">\n",
              "      <button class=\"colab-df-quickchart\" onclick=\"quickchart('df-8b458063-9989-4db9-864f-23a529c00c64')\"\n",
              "              title=\"Suggest charts.\"\n",
              "              style=\"display:none;\">\n",
              "\n",
              "<svg xmlns=\"http://www.w3.org/2000/svg\" height=\"24px\"viewBox=\"0 0 24 24\"\n",
              "     width=\"24px\">\n",
              "    <g>\n",
              "        <path d=\"M19 3H5c-1.1 0-2 .9-2 2v14c0 1.1.9 2 2 2h14c1.1 0 2-.9 2-2V5c0-1.1-.9-2-2-2zM9 17H7v-7h2v7zm4 0h-2V7h2v10zm4 0h-2v-4h2v4z\"/>\n",
              "    </g>\n",
              "</svg>\n",
              "      </button>\n",
              "    </div>\n",
              "\n",
              "<style>\n",
              "  .colab-df-quickchart {\n",
              "    background-color: #E8F0FE;\n",
              "    border: none;\n",
              "    border-radius: 50%;\n",
              "    cursor: pointer;\n",
              "    display: none;\n",
              "    fill: #1967D2;\n",
              "    height: 32px;\n",
              "    padding: 0 0 0 0;\n",
              "    width: 32px;\n",
              "  }\n",
              "\n",
              "  .colab-df-quickchart:hover {\n",
              "    background-color: #E2EBFA;\n",
              "    box-shadow: 0px 1px 2px rgba(60, 64, 67, 0.3), 0px 1px 3px 1px rgba(60, 64, 67, 0.15);\n",
              "    fill: #174EA6;\n",
              "  }\n",
              "\n",
              "  [theme=dark] .colab-df-quickchart {\n",
              "    background-color: #3B4455;\n",
              "    fill: #D2E3FC;\n",
              "  }\n",
              "\n",
              "  [theme=dark] .colab-df-quickchart:hover {\n",
              "    background-color: #434B5C;\n",
              "    box-shadow: 0px 1px 3px 1px rgba(0, 0, 0, 0.15);\n",
              "    filter: drop-shadow(0px 1px 2px rgba(0, 0, 0, 0.3));\n",
              "    fill: #FFFFFF;\n",
              "  }\n",
              "</style>\n",
              "\n",
              "    <script>\n",
              "      async function quickchart(key) {\n",
              "        const containerElement = document.querySelector('#' + key);\n",
              "        const charts = await google.colab.kernel.invokeFunction(\n",
              "            'suggestCharts', [key], {});\n",
              "      }\n",
              "    </script>\n",
              "\n",
              "      <script>\n",
              "\n",
              "function displayQuickchartButton(domScope) {\n",
              "  let quickchartButtonEl =\n",
              "    domScope.querySelector('#df-8b458063-9989-4db9-864f-23a529c00c64 button.colab-df-quickchart');\n",
              "  quickchartButtonEl.style.display =\n",
              "    google.colab.kernel.accessAllowed ? 'block' : 'none';\n",
              "}\n",
              "\n",
              "        displayQuickchartButton(document);\n",
              "      </script>\n",
              "      <style>\n",
              "    .colab-df-container {\n",
              "      display:flex;\n",
              "      flex-wrap:wrap;\n",
              "      gap: 12px;\n",
              "    }\n",
              "\n",
              "    .colab-df-convert {\n",
              "      background-color: #E8F0FE;\n",
              "      border: none;\n",
              "      border-radius: 50%;\n",
              "      cursor: pointer;\n",
              "      display: none;\n",
              "      fill: #1967D2;\n",
              "      height: 32px;\n",
              "      padding: 0 0 0 0;\n",
              "      width: 32px;\n",
              "    }\n",
              "\n",
              "    .colab-df-convert:hover {\n",
              "      background-color: #E2EBFA;\n",
              "      box-shadow: 0px 1px 2px rgba(60, 64, 67, 0.3), 0px 1px 3px 1px rgba(60, 64, 67, 0.15);\n",
              "      fill: #174EA6;\n",
              "    }\n",
              "\n",
              "    [theme=dark] .colab-df-convert {\n",
              "      background-color: #3B4455;\n",
              "      fill: #D2E3FC;\n",
              "    }\n",
              "\n",
              "    [theme=dark] .colab-df-convert:hover {\n",
              "      background-color: #434B5C;\n",
              "      box-shadow: 0px 1px 3px 1px rgba(0, 0, 0, 0.15);\n",
              "      filter: drop-shadow(0px 1px 2px rgba(0, 0, 0, 0.3));\n",
              "      fill: #FFFFFF;\n",
              "    }\n",
              "  </style>\n",
              "\n",
              "      <script>\n",
              "        const buttonEl =\n",
              "          document.querySelector('#df-d178b48c-96d8-4555-b589-e8deab787f97 button.colab-df-convert');\n",
              "        buttonEl.style.display =\n",
              "          google.colab.kernel.accessAllowed ? 'block' : 'none';\n",
              "\n",
              "        async function convertToInteractive(key) {\n",
              "          const element = document.querySelector('#df-d178b48c-96d8-4555-b589-e8deab787f97');\n",
              "          const dataTable =\n",
              "            await google.colab.kernel.invokeFunction('convertToInteractive',\n",
              "                                                     [key], {});\n",
              "          if (!dataTable) return;\n",
              "\n",
              "          const docLinkHtml = 'Like what you see? Visit the ' +\n",
              "            '<a target=\"_blank\" href=https://colab.research.google.com/notebooks/data_table.ipynb>data table notebook</a>'\n",
              "            + ' to learn more about interactive tables.';\n",
              "          element.innerHTML = '';\n",
              "          dataTable['output_type'] = 'display_data';\n",
              "          await google.colab.output.renderOutput(dataTable, element);\n",
              "          const docLink = document.createElement('div');\n",
              "          docLink.innerHTML = docLinkHtml;\n",
              "          element.appendChild(docLink);\n",
              "        }\n",
              "      </script>\n",
              "    </div>\n",
              "  </div>\n"
            ]
          },
          "metadata": {},
          "execution_count": 89
        }
      ],
      "source": [
        "Results=[['Simple', MSE_Linear_model], ['NNet', MSE_DNN], ['Random Search', MSE_RS],['Hyperband', MSE_HB],\n",
        "        ['Bayes Hyp', MSE_Bayes], ['Grid Search', MSE_Grid] ]\n",
        "Results=pd.DataFrame(Results, columns=['Method', 'MSE'])\n",
        "Results\n",
        ""
      ]
    },
    {
      "cell_type": "code",
      "execution_count": 88,
      "id": "0c617f60-ed3d-4364-abc0-7625efcf6ec3",
      "metadata": {
        "id": "0c617f60-ed3d-4364-abc0-7625efcf6ec3"
      },
      "outputs": [],
      "source": []
    }
  ],
  "metadata": {
    "kernelspec": {
      "display_name": "Python 3",
      "name": "python3"
    },
    "language_info": {
      "codemirror_mode": {
        "name": "ipython",
        "version": 3
      },
      "file_extension": ".py",
      "mimetype": "text/x-python",
      "name": "python",
      "nbconvert_exporter": "python",
      "pygments_lexer": "ipython3",
      "version": "3.10.12"
    },
    "colab": {
      "provenance": [],
      "gpuType": "T4",
      "include_colab_link": true
    },
    "accelerator": "GPU"
  },
  "nbformat": 4,
  "nbformat_minor": 5
}