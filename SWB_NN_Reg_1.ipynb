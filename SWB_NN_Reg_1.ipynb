{
  "cells": [
    {
      "cell_type": "markdown",
      "metadata": {
        "id": "view-in-github",
        "colab_type": "text"
      },
      "source": [
        "<a href=\"https://colab.research.google.com/github/tecatanka/SWB_Mod_Opt/blob/main/SWB_NN_Reg_1.ipynb\" target=\"_parent\"><img src=\"https://colab.research.google.com/assets/colab-badge.svg\" alt=\"Open In Colab\"/></a>"
      ]
    },
    {
      "cell_type": "code",
      "source": [
        "#!pip install tensorflow\n",
        "#!pip install seaborn\n",
        "#!pip install pandas\n",
        "#!pip install numpy\n",
        "#!pip install keras\n",
        "#!pip install keras_tuner"
      ],
      "metadata": {
        "id": "qEfv0BfK62HV"
      },
      "id": "qEfv0BfK62HV",
      "execution_count": 90,
      "outputs": []
    },
    {
      "cell_type": "code",
      "execution_count": 91,
      "id": "d91e2259-ba9e-426a-bfef-53799bf3117b",
      "metadata": {
        "colab": {
          "base_uri": "https://localhost:8080/"
        },
        "id": "d91e2259-ba9e-426a-bfef-53799bf3117b",
        "outputId": "5b5f2208-64b8-4169-e910-71835c720057"
      },
      "outputs": [
        {
          "output_type": "stream",
          "name": "stdout",
          "text": [
            "2.12.0\n"
          ]
        }
      ],
      "source": [
        "# Import packages\n",
        "#from __future__ import absolute_import, division, print_function\n",
        "#import pathlib\n",
        "\n",
        "import pandas as pd\n",
        "import seaborn as sns\n",
        "import numpy as np\n",
        "import matplotlib.pyplot as plt\n",
        "\n",
        "from sklearn.model_selection import train_test_split\n",
        "\n",
        "import tensorflow as tf\n",
        "from tensorflow import keras\n",
        "from tensorflow.keras import layers\n",
        "\n",
        "print(tf.__version__)"
      ]
    },
    {
      "cell_type": "code",
      "source": [
        "from google.colab import files\n",
        "uploaded=files.upload()"
      ],
      "metadata": {
        "colab": {
          "base_uri": "https://localhost:8080/",
          "height": 73
        },
        "id": "Tc46RXMY712S",
        "outputId": "cdfca956-4f67-47db-c10a-55b2f938d860"
      },
      "id": "Tc46RXMY712S",
      "execution_count": 93,
      "outputs": [
        {
          "output_type": "display_data",
          "data": {
            "text/plain": [
              "<IPython.core.display.HTML object>"
            ],
            "text/html": [
              "\n",
              "     <input type=\"file\" id=\"files-4af4b117-d285-450d-bf74-277025d1c650\" name=\"files[]\" multiple disabled\n",
              "        style=\"border:none\" />\n",
              "     <output id=\"result-4af4b117-d285-450d-bf74-277025d1c650\">\n",
              "      Upload widget is only available when the cell has been executed in the\n",
              "      current browser session. Please rerun this cell to enable.\n",
              "      </output>\n",
              "      <script>// Copyright 2017 Google LLC\n",
              "//\n",
              "// Licensed under the Apache License, Version 2.0 (the \"License\");\n",
              "// you may not use this file except in compliance with the License.\n",
              "// You may obtain a copy of the License at\n",
              "//\n",
              "//      http://www.apache.org/licenses/LICENSE-2.0\n",
              "//\n",
              "// Unless required by applicable law or agreed to in writing, software\n",
              "// distributed under the License is distributed on an \"AS IS\" BASIS,\n",
              "// WITHOUT WARRANTIES OR CONDITIONS OF ANY KIND, either express or implied.\n",
              "// See the License for the specific language governing permissions and\n",
              "// limitations under the License.\n",
              "\n",
              "/**\n",
              " * @fileoverview Helpers for google.colab Python module.\n",
              " */\n",
              "(function(scope) {\n",
              "function span(text, styleAttributes = {}) {\n",
              "  const element = document.createElement('span');\n",
              "  element.textContent = text;\n",
              "  for (const key of Object.keys(styleAttributes)) {\n",
              "    element.style[key] = styleAttributes[key];\n",
              "  }\n",
              "  return element;\n",
              "}\n",
              "\n",
              "// Max number of bytes which will be uploaded at a time.\n",
              "const MAX_PAYLOAD_SIZE = 100 * 1024;\n",
              "\n",
              "function _uploadFiles(inputId, outputId) {\n",
              "  const steps = uploadFilesStep(inputId, outputId);\n",
              "  const outputElement = document.getElementById(outputId);\n",
              "  // Cache steps on the outputElement to make it available for the next call\n",
              "  // to uploadFilesContinue from Python.\n",
              "  outputElement.steps = steps;\n",
              "\n",
              "  return _uploadFilesContinue(outputId);\n",
              "}\n",
              "\n",
              "// This is roughly an async generator (not supported in the browser yet),\n",
              "// where there are multiple asynchronous steps and the Python side is going\n",
              "// to poll for completion of each step.\n",
              "// This uses a Promise to block the python side on completion of each step,\n",
              "// then passes the result of the previous step as the input to the next step.\n",
              "function _uploadFilesContinue(outputId) {\n",
              "  const outputElement = document.getElementById(outputId);\n",
              "  const steps = outputElement.steps;\n",
              "\n",
              "  const next = steps.next(outputElement.lastPromiseValue);\n",
              "  return Promise.resolve(next.value.promise).then((value) => {\n",
              "    // Cache the last promise value to make it available to the next\n",
              "    // step of the generator.\n",
              "    outputElement.lastPromiseValue = value;\n",
              "    return next.value.response;\n",
              "  });\n",
              "}\n",
              "\n",
              "/**\n",
              " * Generator function which is called between each async step of the upload\n",
              " * process.\n",
              " * @param {string} inputId Element ID of the input file picker element.\n",
              " * @param {string} outputId Element ID of the output display.\n",
              " * @return {!Iterable<!Object>} Iterable of next steps.\n",
              " */\n",
              "function* uploadFilesStep(inputId, outputId) {\n",
              "  const inputElement = document.getElementById(inputId);\n",
              "  inputElement.disabled = false;\n",
              "\n",
              "  const outputElement = document.getElementById(outputId);\n",
              "  outputElement.innerHTML = '';\n",
              "\n",
              "  const pickedPromise = new Promise((resolve) => {\n",
              "    inputElement.addEventListener('change', (e) => {\n",
              "      resolve(e.target.files);\n",
              "    });\n",
              "  });\n",
              "\n",
              "  const cancel = document.createElement('button');\n",
              "  inputElement.parentElement.appendChild(cancel);\n",
              "  cancel.textContent = 'Cancel upload';\n",
              "  const cancelPromise = new Promise((resolve) => {\n",
              "    cancel.onclick = () => {\n",
              "      resolve(null);\n",
              "    };\n",
              "  });\n",
              "\n",
              "  // Wait for the user to pick the files.\n",
              "  const files = yield {\n",
              "    promise: Promise.race([pickedPromise, cancelPromise]),\n",
              "    response: {\n",
              "      action: 'starting',\n",
              "    }\n",
              "  };\n",
              "\n",
              "  cancel.remove();\n",
              "\n",
              "  // Disable the input element since further picks are not allowed.\n",
              "  inputElement.disabled = true;\n",
              "\n",
              "  if (!files) {\n",
              "    return {\n",
              "      response: {\n",
              "        action: 'complete',\n",
              "      }\n",
              "    };\n",
              "  }\n",
              "\n",
              "  for (const file of files) {\n",
              "    const li = document.createElement('li');\n",
              "    li.append(span(file.name, {fontWeight: 'bold'}));\n",
              "    li.append(span(\n",
              "        `(${file.type || 'n/a'}) - ${file.size} bytes, ` +\n",
              "        `last modified: ${\n",
              "            file.lastModifiedDate ? file.lastModifiedDate.toLocaleDateString() :\n",
              "                                    'n/a'} - `));\n",
              "    const percent = span('0% done');\n",
              "    li.appendChild(percent);\n",
              "\n",
              "    outputElement.appendChild(li);\n",
              "\n",
              "    const fileDataPromise = new Promise((resolve) => {\n",
              "      const reader = new FileReader();\n",
              "      reader.onload = (e) => {\n",
              "        resolve(e.target.result);\n",
              "      };\n",
              "      reader.readAsArrayBuffer(file);\n",
              "    });\n",
              "    // Wait for the data to be ready.\n",
              "    let fileData = yield {\n",
              "      promise: fileDataPromise,\n",
              "      response: {\n",
              "        action: 'continue',\n",
              "      }\n",
              "    };\n",
              "\n",
              "    // Use a chunked sending to avoid message size limits. See b/62115660.\n",
              "    let position = 0;\n",
              "    do {\n",
              "      const length = Math.min(fileData.byteLength - position, MAX_PAYLOAD_SIZE);\n",
              "      const chunk = new Uint8Array(fileData, position, length);\n",
              "      position += length;\n",
              "\n",
              "      const base64 = btoa(String.fromCharCode.apply(null, chunk));\n",
              "      yield {\n",
              "        response: {\n",
              "          action: 'append',\n",
              "          file: file.name,\n",
              "          data: base64,\n",
              "        },\n",
              "      };\n",
              "\n",
              "      let percentDone = fileData.byteLength === 0 ?\n",
              "          100 :\n",
              "          Math.round((position / fileData.byteLength) * 100);\n",
              "      percent.textContent = `${percentDone}% done`;\n",
              "\n",
              "    } while (position < fileData.byteLength);\n",
              "  }\n",
              "\n",
              "  // All done.\n",
              "  yield {\n",
              "    response: {\n",
              "      action: 'complete',\n",
              "    }\n",
              "  };\n",
              "}\n",
              "\n",
              "scope.google = scope.google || {};\n",
              "scope.google.colab = scope.google.colab || {};\n",
              "scope.google.colab._files = {\n",
              "  _uploadFiles,\n",
              "  _uploadFilesContinue,\n",
              "};\n",
              "})(self);\n",
              "</script> "
            ]
          },
          "metadata": {}
        },
        {
          "output_type": "stream",
          "name": "stdout",
          "text": [
            "Saving ugtests.csv to ugtests (1).csv\n"
          ]
        }
      ]
    },
    {
      "cell_type": "markdown",
      "id": "2a73dead-ab75-4523-944d-10542d427c54",
      "metadata": {
        "id": "2a73dead-ab75-4523-944d-10542d427c54"
      },
      "source": [
        "You are working as an analyst for the biology department of a large academic institution which offers a four-year undergraduate degree program. The academic leaders of the department are interested in understanding how student performance in the final-year examination of the degree program relates to performance in the prior three years.\n",
        "\n",
        "To help with this, you have been provided with data for 975 individuals graduating in the past three years, and you have been asked to create a model to explain each individual’s final examination score based on their examination scores for the first three years of their program. The Year 1 examination scores are awarded on a scale of 0–100, Years 2 and 3 on a scale of 0–200, and the Final year is awarded on a scale of 0–300.\n",
        "\n",
        "We will load the ugtests data set into our session and take a brief look at it.\n",
        "\n",
        "https://peopleanalytics-regression-book.org/linear-reg-ols.html\n"
      ]
    },
    {
      "cell_type": "code",
      "execution_count": 94,
      "id": "d60d4444-6a20-4e44-8593-9c94fb8c8de2",
      "metadata": {
        "id": "d60d4444-6a20-4e44-8593-9c94fb8c8de2"
      },
      "outputs": [],
      "source": [
        "# Data acquisition\n",
        "\n",
        "raw_dataset = pd.read_csv(\"ugtests.csv\")\n"
      ]
    },
    {
      "cell_type": "code",
      "execution_count": 95,
      "id": "cc628967-15fa-41d0-af71-f46703016a0e",
      "metadata": {
        "tags": [],
        "colab": {
          "base_uri": "https://localhost:8080/",
          "height": 206
        },
        "id": "cc628967-15fa-41d0-af71-f46703016a0e",
        "outputId": "ea1356f8-90e6-4494-ab93-de9993d15d4b"
      },
      "outputs": [
        {
          "output_type": "execute_result",
          "data": {
            "text/plain": [
              "     Yr1  Yr2  Yr3  Final\n",
              "970   78   68  166    176\n",
              "971   44   61  116    155\n",
              "972   80   97  121    148\n",
              "973   37   79  120    178\n",
              "974   58  135  125    172"
            ],
            "text/html": [
              "\n",
              "\n",
              "  <div id=\"df-540df22a-7a8c-4c6d-9bdd-70ab41cf4a5e\">\n",
              "    <div class=\"colab-df-container\">\n",
              "      <div>\n",
              "<style scoped>\n",
              "    .dataframe tbody tr th:only-of-type {\n",
              "        vertical-align: middle;\n",
              "    }\n",
              "\n",
              "    .dataframe tbody tr th {\n",
              "        vertical-align: top;\n",
              "    }\n",
              "\n",
              "    .dataframe thead th {\n",
              "        text-align: right;\n",
              "    }\n",
              "</style>\n",
              "<table border=\"1\" class=\"dataframe\">\n",
              "  <thead>\n",
              "    <tr style=\"text-align: right;\">\n",
              "      <th></th>\n",
              "      <th>Yr1</th>\n",
              "      <th>Yr2</th>\n",
              "      <th>Yr3</th>\n",
              "      <th>Final</th>\n",
              "    </tr>\n",
              "  </thead>\n",
              "  <tbody>\n",
              "    <tr>\n",
              "      <th>970</th>\n",
              "      <td>78</td>\n",
              "      <td>68</td>\n",
              "      <td>166</td>\n",
              "      <td>176</td>\n",
              "    </tr>\n",
              "    <tr>\n",
              "      <th>971</th>\n",
              "      <td>44</td>\n",
              "      <td>61</td>\n",
              "      <td>116</td>\n",
              "      <td>155</td>\n",
              "    </tr>\n",
              "    <tr>\n",
              "      <th>972</th>\n",
              "      <td>80</td>\n",
              "      <td>97</td>\n",
              "      <td>121</td>\n",
              "      <td>148</td>\n",
              "    </tr>\n",
              "    <tr>\n",
              "      <th>973</th>\n",
              "      <td>37</td>\n",
              "      <td>79</td>\n",
              "      <td>120</td>\n",
              "      <td>178</td>\n",
              "    </tr>\n",
              "    <tr>\n",
              "      <th>974</th>\n",
              "      <td>58</td>\n",
              "      <td>135</td>\n",
              "      <td>125</td>\n",
              "      <td>172</td>\n",
              "    </tr>\n",
              "  </tbody>\n",
              "</table>\n",
              "</div>\n",
              "      <button class=\"colab-df-convert\" onclick=\"convertToInteractive('df-540df22a-7a8c-4c6d-9bdd-70ab41cf4a5e')\"\n",
              "              title=\"Convert this dataframe to an interactive table.\"\n",
              "              style=\"display:none;\">\n",
              "\n",
              "  <svg xmlns=\"http://www.w3.org/2000/svg\" height=\"24px\"viewBox=\"0 0 24 24\"\n",
              "       width=\"24px\">\n",
              "    <path d=\"M0 0h24v24H0V0z\" fill=\"none\"/>\n",
              "    <path d=\"M18.56 5.44l.94 2.06.94-2.06 2.06-.94-2.06-.94-.94-2.06-.94 2.06-2.06.94zm-11 1L8.5 8.5l.94-2.06 2.06-.94-2.06-.94L8.5 2.5l-.94 2.06-2.06.94zm10 10l.94 2.06.94-2.06 2.06-.94-2.06-.94-.94-2.06-.94 2.06-2.06.94z\"/><path d=\"M17.41 7.96l-1.37-1.37c-.4-.4-.92-.59-1.43-.59-.52 0-1.04.2-1.43.59L10.3 9.45l-7.72 7.72c-.78.78-.78 2.05 0 2.83L4 21.41c.39.39.9.59 1.41.59.51 0 1.02-.2 1.41-.59l7.78-7.78 2.81-2.81c.8-.78.8-2.07 0-2.86zM5.41 20L4 18.59l7.72-7.72 1.47 1.35L5.41 20z\"/>\n",
              "  </svg>\n",
              "      </button>\n",
              "\n",
              "\n",
              "\n",
              "    <div id=\"df-4ea2f149-a857-4c34-b83f-1bb78ba068b9\">\n",
              "      <button class=\"colab-df-quickchart\" onclick=\"quickchart('df-4ea2f149-a857-4c34-b83f-1bb78ba068b9')\"\n",
              "              title=\"Suggest charts.\"\n",
              "              style=\"display:none;\">\n",
              "\n",
              "<svg xmlns=\"http://www.w3.org/2000/svg\" height=\"24px\"viewBox=\"0 0 24 24\"\n",
              "     width=\"24px\">\n",
              "    <g>\n",
              "        <path d=\"M19 3H5c-1.1 0-2 .9-2 2v14c0 1.1.9 2 2 2h14c1.1 0 2-.9 2-2V5c0-1.1-.9-2-2-2zM9 17H7v-7h2v7zm4 0h-2V7h2v10zm4 0h-2v-4h2v4z\"/>\n",
              "    </g>\n",
              "</svg>\n",
              "      </button>\n",
              "    </div>\n",
              "\n",
              "<style>\n",
              "  .colab-df-quickchart {\n",
              "    background-color: #E8F0FE;\n",
              "    border: none;\n",
              "    border-radius: 50%;\n",
              "    cursor: pointer;\n",
              "    display: none;\n",
              "    fill: #1967D2;\n",
              "    height: 32px;\n",
              "    padding: 0 0 0 0;\n",
              "    width: 32px;\n",
              "  }\n",
              "\n",
              "  .colab-df-quickchart:hover {\n",
              "    background-color: #E2EBFA;\n",
              "    box-shadow: 0px 1px 2px rgba(60, 64, 67, 0.3), 0px 1px 3px 1px rgba(60, 64, 67, 0.15);\n",
              "    fill: #174EA6;\n",
              "  }\n",
              "\n",
              "  [theme=dark] .colab-df-quickchart {\n",
              "    background-color: #3B4455;\n",
              "    fill: #D2E3FC;\n",
              "  }\n",
              "\n",
              "  [theme=dark] .colab-df-quickchart:hover {\n",
              "    background-color: #434B5C;\n",
              "    box-shadow: 0px 1px 3px 1px rgba(0, 0, 0, 0.15);\n",
              "    filter: drop-shadow(0px 1px 2px rgba(0, 0, 0, 0.3));\n",
              "    fill: #FFFFFF;\n",
              "  }\n",
              "</style>\n",
              "\n",
              "    <script>\n",
              "      async function quickchart(key) {\n",
              "        const containerElement = document.querySelector('#' + key);\n",
              "        const charts = await google.colab.kernel.invokeFunction(\n",
              "            'suggestCharts', [key], {});\n",
              "      }\n",
              "    </script>\n",
              "\n",
              "      <script>\n",
              "\n",
              "function displayQuickchartButton(domScope) {\n",
              "  let quickchartButtonEl =\n",
              "    domScope.querySelector('#df-4ea2f149-a857-4c34-b83f-1bb78ba068b9 button.colab-df-quickchart');\n",
              "  quickchartButtonEl.style.display =\n",
              "    google.colab.kernel.accessAllowed ? 'block' : 'none';\n",
              "}\n",
              "\n",
              "        displayQuickchartButton(document);\n",
              "      </script>\n",
              "      <style>\n",
              "    .colab-df-container {\n",
              "      display:flex;\n",
              "      flex-wrap:wrap;\n",
              "      gap: 12px;\n",
              "    }\n",
              "\n",
              "    .colab-df-convert {\n",
              "      background-color: #E8F0FE;\n",
              "      border: none;\n",
              "      border-radius: 50%;\n",
              "      cursor: pointer;\n",
              "      display: none;\n",
              "      fill: #1967D2;\n",
              "      height: 32px;\n",
              "      padding: 0 0 0 0;\n",
              "      width: 32px;\n",
              "    }\n",
              "\n",
              "    .colab-df-convert:hover {\n",
              "      background-color: #E2EBFA;\n",
              "      box-shadow: 0px 1px 2px rgba(60, 64, 67, 0.3), 0px 1px 3px 1px rgba(60, 64, 67, 0.15);\n",
              "      fill: #174EA6;\n",
              "    }\n",
              "\n",
              "    [theme=dark] .colab-df-convert {\n",
              "      background-color: #3B4455;\n",
              "      fill: #D2E3FC;\n",
              "    }\n",
              "\n",
              "    [theme=dark] .colab-df-convert:hover {\n",
              "      background-color: #434B5C;\n",
              "      box-shadow: 0px 1px 3px 1px rgba(0, 0, 0, 0.15);\n",
              "      filter: drop-shadow(0px 1px 2px rgba(0, 0, 0, 0.3));\n",
              "      fill: #FFFFFF;\n",
              "    }\n",
              "  </style>\n",
              "\n",
              "      <script>\n",
              "        const buttonEl =\n",
              "          document.querySelector('#df-540df22a-7a8c-4c6d-9bdd-70ab41cf4a5e button.colab-df-convert');\n",
              "        buttonEl.style.display =\n",
              "          google.colab.kernel.accessAllowed ? 'block' : 'none';\n",
              "\n",
              "        async function convertToInteractive(key) {\n",
              "          const element = document.querySelector('#df-540df22a-7a8c-4c6d-9bdd-70ab41cf4a5e');\n",
              "          const dataTable =\n",
              "            await google.colab.kernel.invokeFunction('convertToInteractive',\n",
              "                                                     [key], {});\n",
              "          if (!dataTable) return;\n",
              "\n",
              "          const docLinkHtml = 'Like what you see? Visit the ' +\n",
              "            '<a target=\"_blank\" href=https://colab.research.google.com/notebooks/data_table.ipynb>data table notebook</a>'\n",
              "            + ' to learn more about interactive tables.';\n",
              "          element.innerHTML = '';\n",
              "          dataTable['output_type'] = 'display_data';\n",
              "          await google.colab.output.renderOutput(dataTable, element);\n",
              "          const docLink = document.createElement('div');\n",
              "          docLink.innerHTML = docLinkHtml;\n",
              "          element.appendChild(docLink);\n",
              "        }\n",
              "      </script>\n",
              "    </div>\n",
              "  </div>\n"
            ]
          },
          "metadata": {},
          "execution_count": 95
        }
      ],
      "source": [
        "# see data\n",
        "dataset = raw_dataset.copy()\n",
        "dataset.tail() # looking last rows\n"
      ]
    },
    {
      "cell_type": "code",
      "execution_count": 96,
      "id": "d6dd107a-61e2-4373-8bee-3ea386a70a1a",
      "metadata": {
        "colab": {
          "base_uri": "https://localhost:8080/"
        },
        "id": "d6dd107a-61e2-4373-8bee-3ea386a70a1a",
        "outputId": "17922f05-a988-4300-93b8-8f90ee423efd"
      },
      "outputs": [
        {
          "output_type": "execute_result",
          "data": {
            "text/plain": [
              "975"
            ]
          },
          "metadata": {},
          "execution_count": 96
        }
      ],
      "source": [
        "# Number of rows in data set\n",
        "num_rows=len(dataset)\n",
        "num_rows"
      ]
    },
    {
      "cell_type": "code",
      "execution_count": 97,
      "id": "2d2c5042-81e1-44e6-a872-53422c91112a",
      "metadata": {
        "tags": [],
        "colab": {
          "base_uri": "https://localhost:8080/"
        },
        "id": "2d2c5042-81e1-44e6-a872-53422c91112a",
        "outputId": "c57f47f8-72fa-4086-c56f-3be538821012"
      },
      "outputs": [
        {
          "output_type": "execute_result",
          "data": {
            "text/plain": [
              "4"
            ]
          },
          "metadata": {},
          "execution_count": 97
        }
      ],
      "source": [
        "# Number of columns\n",
        "num_cols=len(dataset.columns)\n",
        "num_cols"
      ]
    },
    {
      "cell_type": "code",
      "execution_count": 98,
      "id": "e5a1c4c4-ea28-489e-b6dc-4e55eeabc555",
      "metadata": {
        "colab": {
          "base_uri": "https://localhost:8080/"
        },
        "id": "e5a1c4c4-ea28-489e-b6dc-4e55eeabc555",
        "outputId": "b54804e4-97de-4838-9205-4cfc398ee310"
      },
      "outputs": [
        {
          "output_type": "execute_result",
          "data": {
            "text/plain": [
              "Yr1      int64\n",
              "Yr2      int64\n",
              "Yr3      int64\n",
              "Final    int64\n",
              "dtype: object"
            ]
          },
          "metadata": {},
          "execution_count": 98
        }
      ],
      "source": [
        "# Types of columns\n",
        "types_cols=dataset.dtypes\n",
        "types_cols"
      ]
    },
    {
      "cell_type": "code",
      "execution_count": 99,
      "id": "6b613df4-120b-4009-856b-2117fcfc64a8",
      "metadata": {
        "colab": {
          "base_uri": "https://localhost:8080/"
        },
        "id": "6b613df4-120b-4009-856b-2117fcfc64a8",
        "outputId": "82d15896-7edb-43ec-da6e-693a64b93f33"
      },
      "outputs": [
        {
          "output_type": "execute_result",
          "data": {
            "text/plain": [
              "Yr1      0\n",
              "Yr2      0\n",
              "Yr3      0\n",
              "Final    0\n",
              "dtype: int64"
            ]
          },
          "metadata": {},
          "execution_count": 99
        }
      ],
      "source": [
        "# Clean data\n",
        "dataset.isna().sum() #add cells that have no data (NA)\n"
      ]
    },
    {
      "cell_type": "code",
      "execution_count": 100,
      "id": "2d9f5781-6b85-45ed-aa6b-c9adca8a430c",
      "metadata": {
        "colab": {
          "base_uri": "https://localhost:8080/",
          "height": 175
        },
        "id": "2d9f5781-6b85-45ed-aa6b-c9adca8a430c",
        "outputId": "034f0058-3a74-419d-e2ea-2f96739a5e1e"
      },
      "outputs": [
        {
          "output_type": "execute_result",
          "data": {
            "text/plain": [
              "       count        mean        std  min    25%    50%    75%    max\n",
              "Yr1    975.0   52.145641  14.924083  3.0   42.0   53.0   62.0   99.0\n",
              "Yr2    975.0   92.398974  30.038473  6.0   73.0   94.0  112.0  188.0\n",
              "Yr3    975.0  105.121026  33.507052  8.0   81.0  105.0  130.0  198.0\n",
              "Final  975.0  148.962051  44.339663  8.0  118.0  147.0  175.0  295.0"
            ],
            "text/html": [
              "\n",
              "\n",
              "  <div id=\"df-f501b2e4-202d-4b7b-bb7e-13ad137a8f80\">\n",
              "    <div class=\"colab-df-container\">\n",
              "      <div>\n",
              "<style scoped>\n",
              "    .dataframe tbody tr th:only-of-type {\n",
              "        vertical-align: middle;\n",
              "    }\n",
              "\n",
              "    .dataframe tbody tr th {\n",
              "        vertical-align: top;\n",
              "    }\n",
              "\n",
              "    .dataframe thead th {\n",
              "        text-align: right;\n",
              "    }\n",
              "</style>\n",
              "<table border=\"1\" class=\"dataframe\">\n",
              "  <thead>\n",
              "    <tr style=\"text-align: right;\">\n",
              "      <th></th>\n",
              "      <th>count</th>\n",
              "      <th>mean</th>\n",
              "      <th>std</th>\n",
              "      <th>min</th>\n",
              "      <th>25%</th>\n",
              "      <th>50%</th>\n",
              "      <th>75%</th>\n",
              "      <th>max</th>\n",
              "    </tr>\n",
              "  </thead>\n",
              "  <tbody>\n",
              "    <tr>\n",
              "      <th>Yr1</th>\n",
              "      <td>975.0</td>\n",
              "      <td>52.145641</td>\n",
              "      <td>14.924083</td>\n",
              "      <td>3.0</td>\n",
              "      <td>42.0</td>\n",
              "      <td>53.0</td>\n",
              "      <td>62.0</td>\n",
              "      <td>99.0</td>\n",
              "    </tr>\n",
              "    <tr>\n",
              "      <th>Yr2</th>\n",
              "      <td>975.0</td>\n",
              "      <td>92.398974</td>\n",
              "      <td>30.038473</td>\n",
              "      <td>6.0</td>\n",
              "      <td>73.0</td>\n",
              "      <td>94.0</td>\n",
              "      <td>112.0</td>\n",
              "      <td>188.0</td>\n",
              "    </tr>\n",
              "    <tr>\n",
              "      <th>Yr3</th>\n",
              "      <td>975.0</td>\n",
              "      <td>105.121026</td>\n",
              "      <td>33.507052</td>\n",
              "      <td>8.0</td>\n",
              "      <td>81.0</td>\n",
              "      <td>105.0</td>\n",
              "      <td>130.0</td>\n",
              "      <td>198.0</td>\n",
              "    </tr>\n",
              "    <tr>\n",
              "      <th>Final</th>\n",
              "      <td>975.0</td>\n",
              "      <td>148.962051</td>\n",
              "      <td>44.339663</td>\n",
              "      <td>8.0</td>\n",
              "      <td>118.0</td>\n",
              "      <td>147.0</td>\n",
              "      <td>175.0</td>\n",
              "      <td>295.0</td>\n",
              "    </tr>\n",
              "  </tbody>\n",
              "</table>\n",
              "</div>\n",
              "      <button class=\"colab-df-convert\" onclick=\"convertToInteractive('df-f501b2e4-202d-4b7b-bb7e-13ad137a8f80')\"\n",
              "              title=\"Convert this dataframe to an interactive table.\"\n",
              "              style=\"display:none;\">\n",
              "\n",
              "  <svg xmlns=\"http://www.w3.org/2000/svg\" height=\"24px\"viewBox=\"0 0 24 24\"\n",
              "       width=\"24px\">\n",
              "    <path d=\"M0 0h24v24H0V0z\" fill=\"none\"/>\n",
              "    <path d=\"M18.56 5.44l.94 2.06.94-2.06 2.06-.94-2.06-.94-.94-2.06-.94 2.06-2.06.94zm-11 1L8.5 8.5l.94-2.06 2.06-.94-2.06-.94L8.5 2.5l-.94 2.06-2.06.94zm10 10l.94 2.06.94-2.06 2.06-.94-2.06-.94-.94-2.06-.94 2.06-2.06.94z\"/><path d=\"M17.41 7.96l-1.37-1.37c-.4-.4-.92-.59-1.43-.59-.52 0-1.04.2-1.43.59L10.3 9.45l-7.72 7.72c-.78.78-.78 2.05 0 2.83L4 21.41c.39.39.9.59 1.41.59.51 0 1.02-.2 1.41-.59l7.78-7.78 2.81-2.81c.8-.78.8-2.07 0-2.86zM5.41 20L4 18.59l7.72-7.72 1.47 1.35L5.41 20z\"/>\n",
              "  </svg>\n",
              "      </button>\n",
              "\n",
              "\n",
              "\n",
              "    <div id=\"df-929bb6b7-4dad-407a-aeba-c43540b17653\">\n",
              "      <button class=\"colab-df-quickchart\" onclick=\"quickchart('df-929bb6b7-4dad-407a-aeba-c43540b17653')\"\n",
              "              title=\"Suggest charts.\"\n",
              "              style=\"display:none;\">\n",
              "\n",
              "<svg xmlns=\"http://www.w3.org/2000/svg\" height=\"24px\"viewBox=\"0 0 24 24\"\n",
              "     width=\"24px\">\n",
              "    <g>\n",
              "        <path d=\"M19 3H5c-1.1 0-2 .9-2 2v14c0 1.1.9 2 2 2h14c1.1 0 2-.9 2-2V5c0-1.1-.9-2-2-2zM9 17H7v-7h2v7zm4 0h-2V7h2v10zm4 0h-2v-4h2v4z\"/>\n",
              "    </g>\n",
              "</svg>\n",
              "      </button>\n",
              "    </div>\n",
              "\n",
              "<style>\n",
              "  .colab-df-quickchart {\n",
              "    background-color: #E8F0FE;\n",
              "    border: none;\n",
              "    border-radius: 50%;\n",
              "    cursor: pointer;\n",
              "    display: none;\n",
              "    fill: #1967D2;\n",
              "    height: 32px;\n",
              "    padding: 0 0 0 0;\n",
              "    width: 32px;\n",
              "  }\n",
              "\n",
              "  .colab-df-quickchart:hover {\n",
              "    background-color: #E2EBFA;\n",
              "    box-shadow: 0px 1px 2px rgba(60, 64, 67, 0.3), 0px 1px 3px 1px rgba(60, 64, 67, 0.15);\n",
              "    fill: #174EA6;\n",
              "  }\n",
              "\n",
              "  [theme=dark] .colab-df-quickchart {\n",
              "    background-color: #3B4455;\n",
              "    fill: #D2E3FC;\n",
              "  }\n",
              "\n",
              "  [theme=dark] .colab-df-quickchart:hover {\n",
              "    background-color: #434B5C;\n",
              "    box-shadow: 0px 1px 3px 1px rgba(0, 0, 0, 0.15);\n",
              "    filter: drop-shadow(0px 1px 2px rgba(0, 0, 0, 0.3));\n",
              "    fill: #FFFFFF;\n",
              "  }\n",
              "</style>\n",
              "\n",
              "    <script>\n",
              "      async function quickchart(key) {\n",
              "        const containerElement = document.querySelector('#' + key);\n",
              "        const charts = await google.colab.kernel.invokeFunction(\n",
              "            'suggestCharts', [key], {});\n",
              "      }\n",
              "    </script>\n",
              "\n",
              "      <script>\n",
              "\n",
              "function displayQuickchartButton(domScope) {\n",
              "  let quickchartButtonEl =\n",
              "    domScope.querySelector('#df-929bb6b7-4dad-407a-aeba-c43540b17653 button.colab-df-quickchart');\n",
              "  quickchartButtonEl.style.display =\n",
              "    google.colab.kernel.accessAllowed ? 'block' : 'none';\n",
              "}\n",
              "\n",
              "        displayQuickchartButton(document);\n",
              "      </script>\n",
              "      <style>\n",
              "    .colab-df-container {\n",
              "      display:flex;\n",
              "      flex-wrap:wrap;\n",
              "      gap: 12px;\n",
              "    }\n",
              "\n",
              "    .colab-df-convert {\n",
              "      background-color: #E8F0FE;\n",
              "      border: none;\n",
              "      border-radius: 50%;\n",
              "      cursor: pointer;\n",
              "      display: none;\n",
              "      fill: #1967D2;\n",
              "      height: 32px;\n",
              "      padding: 0 0 0 0;\n",
              "      width: 32px;\n",
              "    }\n",
              "\n",
              "    .colab-df-convert:hover {\n",
              "      background-color: #E2EBFA;\n",
              "      box-shadow: 0px 1px 2px rgba(60, 64, 67, 0.3), 0px 1px 3px 1px rgba(60, 64, 67, 0.15);\n",
              "      fill: #174EA6;\n",
              "    }\n",
              "\n",
              "    [theme=dark] .colab-df-convert {\n",
              "      background-color: #3B4455;\n",
              "      fill: #D2E3FC;\n",
              "    }\n",
              "\n",
              "    [theme=dark] .colab-df-convert:hover {\n",
              "      background-color: #434B5C;\n",
              "      box-shadow: 0px 1px 3px 1px rgba(0, 0, 0, 0.15);\n",
              "      filter: drop-shadow(0px 1px 2px rgba(0, 0, 0, 0.3));\n",
              "      fill: #FFFFFF;\n",
              "    }\n",
              "  </style>\n",
              "\n",
              "      <script>\n",
              "        const buttonEl =\n",
              "          document.querySelector('#df-f501b2e4-202d-4b7b-bb7e-13ad137a8f80 button.colab-df-convert');\n",
              "        buttonEl.style.display =\n",
              "          google.colab.kernel.accessAllowed ? 'block' : 'none';\n",
              "\n",
              "        async function convertToInteractive(key) {\n",
              "          const element = document.querySelector('#df-f501b2e4-202d-4b7b-bb7e-13ad137a8f80');\n",
              "          const dataTable =\n",
              "            await google.colab.kernel.invokeFunction('convertToInteractive',\n",
              "                                                     [key], {});\n",
              "          if (!dataTable) return;\n",
              "\n",
              "          const docLinkHtml = 'Like what you see? Visit the ' +\n",
              "            '<a target=\"_blank\" href=https://colab.research.google.com/notebooks/data_table.ipynb>data table notebook</a>'\n",
              "            + ' to learn more about interactive tables.';\n",
              "          element.innerHTML = '';\n",
              "          dataTable['output_type'] = 'display_data';\n",
              "          await google.colab.output.renderOutput(dataTable, element);\n",
              "          const docLink = document.createElement('div');\n",
              "          docLink.innerHTML = docLinkHtml;\n",
              "          element.appendChild(docLink);\n",
              "        }\n",
              "      </script>\n",
              "    </div>\n",
              "  </div>\n"
            ]
          },
          "metadata": {},
          "execution_count": 100
        }
      ],
      "source": [
        "dataset.describe().transpose()"
      ]
    },
    {
      "cell_type": "code",
      "execution_count": 101,
      "id": "76fd1c26-008e-4672-9ad9-8a42bde1639c",
      "metadata": {
        "tags": [],
        "colab": {
          "base_uri": "https://localhost:8080/",
          "height": 206
        },
        "id": "76fd1c26-008e-4672-9ad9-8a42bde1639c",
        "outputId": "e6705985-7ec2-4b4f-98d6-390d3d301735"
      },
      "outputs": [
        {
          "output_type": "execute_result",
          "data": {
            "text/plain": [
              "   Yr1  Yr2  Yr3\n",
              "0   27   50   52\n",
              "1   70  104  126\n",
              "2   27   36  148\n",
              "3   26   75  115\n",
              "4   46   77   75"
            ],
            "text/html": [
              "\n",
              "\n",
              "  <div id=\"df-4761e4bc-a642-45dc-bf2f-9d2aca02db4d\">\n",
              "    <div class=\"colab-df-container\">\n",
              "      <div>\n",
              "<style scoped>\n",
              "    .dataframe tbody tr th:only-of-type {\n",
              "        vertical-align: middle;\n",
              "    }\n",
              "\n",
              "    .dataframe tbody tr th {\n",
              "        vertical-align: top;\n",
              "    }\n",
              "\n",
              "    .dataframe thead th {\n",
              "        text-align: right;\n",
              "    }\n",
              "</style>\n",
              "<table border=\"1\" class=\"dataframe\">\n",
              "  <thead>\n",
              "    <tr style=\"text-align: right;\">\n",
              "      <th></th>\n",
              "      <th>Yr1</th>\n",
              "      <th>Yr2</th>\n",
              "      <th>Yr3</th>\n",
              "    </tr>\n",
              "  </thead>\n",
              "  <tbody>\n",
              "    <tr>\n",
              "      <th>0</th>\n",
              "      <td>27</td>\n",
              "      <td>50</td>\n",
              "      <td>52</td>\n",
              "    </tr>\n",
              "    <tr>\n",
              "      <th>1</th>\n",
              "      <td>70</td>\n",
              "      <td>104</td>\n",
              "      <td>126</td>\n",
              "    </tr>\n",
              "    <tr>\n",
              "      <th>2</th>\n",
              "      <td>27</td>\n",
              "      <td>36</td>\n",
              "      <td>148</td>\n",
              "    </tr>\n",
              "    <tr>\n",
              "      <th>3</th>\n",
              "      <td>26</td>\n",
              "      <td>75</td>\n",
              "      <td>115</td>\n",
              "    </tr>\n",
              "    <tr>\n",
              "      <th>4</th>\n",
              "      <td>46</td>\n",
              "      <td>77</td>\n",
              "      <td>75</td>\n",
              "    </tr>\n",
              "  </tbody>\n",
              "</table>\n",
              "</div>\n",
              "      <button class=\"colab-df-convert\" onclick=\"convertToInteractive('df-4761e4bc-a642-45dc-bf2f-9d2aca02db4d')\"\n",
              "              title=\"Convert this dataframe to an interactive table.\"\n",
              "              style=\"display:none;\">\n",
              "\n",
              "  <svg xmlns=\"http://www.w3.org/2000/svg\" height=\"24px\"viewBox=\"0 0 24 24\"\n",
              "       width=\"24px\">\n",
              "    <path d=\"M0 0h24v24H0V0z\" fill=\"none\"/>\n",
              "    <path d=\"M18.56 5.44l.94 2.06.94-2.06 2.06-.94-2.06-.94-.94-2.06-.94 2.06-2.06.94zm-11 1L8.5 8.5l.94-2.06 2.06-.94-2.06-.94L8.5 2.5l-.94 2.06-2.06.94zm10 10l.94 2.06.94-2.06 2.06-.94-2.06-.94-.94-2.06-.94 2.06-2.06.94z\"/><path d=\"M17.41 7.96l-1.37-1.37c-.4-.4-.92-.59-1.43-.59-.52 0-1.04.2-1.43.59L10.3 9.45l-7.72 7.72c-.78.78-.78 2.05 0 2.83L4 21.41c.39.39.9.59 1.41.59.51 0 1.02-.2 1.41-.59l7.78-7.78 2.81-2.81c.8-.78.8-2.07 0-2.86zM5.41 20L4 18.59l7.72-7.72 1.47 1.35L5.41 20z\"/>\n",
              "  </svg>\n",
              "      </button>\n",
              "\n",
              "\n",
              "\n",
              "    <div id=\"df-aa92d560-5f86-44fb-9feb-5b90077124ce\">\n",
              "      <button class=\"colab-df-quickchart\" onclick=\"quickchart('df-aa92d560-5f86-44fb-9feb-5b90077124ce')\"\n",
              "              title=\"Suggest charts.\"\n",
              "              style=\"display:none;\">\n",
              "\n",
              "<svg xmlns=\"http://www.w3.org/2000/svg\" height=\"24px\"viewBox=\"0 0 24 24\"\n",
              "     width=\"24px\">\n",
              "    <g>\n",
              "        <path d=\"M19 3H5c-1.1 0-2 .9-2 2v14c0 1.1.9 2 2 2h14c1.1 0 2-.9 2-2V5c0-1.1-.9-2-2-2zM9 17H7v-7h2v7zm4 0h-2V7h2v10zm4 0h-2v-4h2v4z\"/>\n",
              "    </g>\n",
              "</svg>\n",
              "      </button>\n",
              "    </div>\n",
              "\n",
              "<style>\n",
              "  .colab-df-quickchart {\n",
              "    background-color: #E8F0FE;\n",
              "    border: none;\n",
              "    border-radius: 50%;\n",
              "    cursor: pointer;\n",
              "    display: none;\n",
              "    fill: #1967D2;\n",
              "    height: 32px;\n",
              "    padding: 0 0 0 0;\n",
              "    width: 32px;\n",
              "  }\n",
              "\n",
              "  .colab-df-quickchart:hover {\n",
              "    background-color: #E2EBFA;\n",
              "    box-shadow: 0px 1px 2px rgba(60, 64, 67, 0.3), 0px 1px 3px 1px rgba(60, 64, 67, 0.15);\n",
              "    fill: #174EA6;\n",
              "  }\n",
              "\n",
              "  [theme=dark] .colab-df-quickchart {\n",
              "    background-color: #3B4455;\n",
              "    fill: #D2E3FC;\n",
              "  }\n",
              "\n",
              "  [theme=dark] .colab-df-quickchart:hover {\n",
              "    background-color: #434B5C;\n",
              "    box-shadow: 0px 1px 3px 1px rgba(0, 0, 0, 0.15);\n",
              "    filter: drop-shadow(0px 1px 2px rgba(0, 0, 0, 0.3));\n",
              "    fill: #FFFFFF;\n",
              "  }\n",
              "</style>\n",
              "\n",
              "    <script>\n",
              "      async function quickchart(key) {\n",
              "        const containerElement = document.querySelector('#' + key);\n",
              "        const charts = await google.colab.kernel.invokeFunction(\n",
              "            'suggestCharts', [key], {});\n",
              "      }\n",
              "    </script>\n",
              "\n",
              "      <script>\n",
              "\n",
              "function displayQuickchartButton(domScope) {\n",
              "  let quickchartButtonEl =\n",
              "    domScope.querySelector('#df-aa92d560-5f86-44fb-9feb-5b90077124ce button.colab-df-quickchart');\n",
              "  quickchartButtonEl.style.display =\n",
              "    google.colab.kernel.accessAllowed ? 'block' : 'none';\n",
              "}\n",
              "\n",
              "        displayQuickchartButton(document);\n",
              "      </script>\n",
              "      <style>\n",
              "    .colab-df-container {\n",
              "      display:flex;\n",
              "      flex-wrap:wrap;\n",
              "      gap: 12px;\n",
              "    }\n",
              "\n",
              "    .colab-df-convert {\n",
              "      background-color: #E8F0FE;\n",
              "      border: none;\n",
              "      border-radius: 50%;\n",
              "      cursor: pointer;\n",
              "      display: none;\n",
              "      fill: #1967D2;\n",
              "      height: 32px;\n",
              "      padding: 0 0 0 0;\n",
              "      width: 32px;\n",
              "    }\n",
              "\n",
              "    .colab-df-convert:hover {\n",
              "      background-color: #E2EBFA;\n",
              "      box-shadow: 0px 1px 2px rgba(60, 64, 67, 0.3), 0px 1px 3px 1px rgba(60, 64, 67, 0.15);\n",
              "      fill: #174EA6;\n",
              "    }\n",
              "\n",
              "    [theme=dark] .colab-df-convert {\n",
              "      background-color: #3B4455;\n",
              "      fill: #D2E3FC;\n",
              "    }\n",
              "\n",
              "    [theme=dark] .colab-df-convert:hover {\n",
              "      background-color: #434B5C;\n",
              "      box-shadow: 0px 1px 3px 1px rgba(0, 0, 0, 0.15);\n",
              "      filter: drop-shadow(0px 1px 2px rgba(0, 0, 0, 0.3));\n",
              "      fill: #FFFFFF;\n",
              "    }\n",
              "  </style>\n",
              "\n",
              "      <script>\n",
              "        const buttonEl =\n",
              "          document.querySelector('#df-4761e4bc-a642-45dc-bf2f-9d2aca02db4d button.colab-df-convert');\n",
              "        buttonEl.style.display =\n",
              "          google.colab.kernel.accessAllowed ? 'block' : 'none';\n",
              "\n",
              "        async function convertToInteractive(key) {\n",
              "          const element = document.querySelector('#df-4761e4bc-a642-45dc-bf2f-9d2aca02db4d');\n",
              "          const dataTable =\n",
              "            await google.colab.kernel.invokeFunction('convertToInteractive',\n",
              "                                                     [key], {});\n",
              "          if (!dataTable) return;\n",
              "\n",
              "          const docLinkHtml = 'Like what you see? Visit the ' +\n",
              "            '<a target=\"_blank\" href=https://colab.research.google.com/notebooks/data_table.ipynb>data table notebook</a>'\n",
              "            + ' to learn more about interactive tables.';\n",
              "          element.innerHTML = '';\n",
              "          dataTable['output_type'] = 'display_data';\n",
              "          await google.colab.output.renderOutput(dataTable, element);\n",
              "          const docLink = document.createElement('div');\n",
              "          docLink.innerHTML = docLinkHtml;\n",
              "          element.appendChild(docLink);\n",
              "        }\n",
              "      </script>\n",
              "    </div>\n",
              "  </div>\n"
            ]
          },
          "metadata": {},
          "execution_count": 101
        }
      ],
      "source": [
        "# Create training and test sets\n",
        "\n",
        "y=dataset.Final\n",
        "x=dataset.drop('Final', axis=1)\n",
        "x.head()"
      ]
    },
    {
      "cell_type": "code",
      "execution_count": 102,
      "id": "c380c443-c046-482b-a92a-ca2f0f9b621c",
      "metadata": {
        "colab": {
          "base_uri": "https://localhost:8080/"
        },
        "id": "c380c443-c046-482b-a92a-ca2f0f9b621c",
        "outputId": "e66b50fb-b360-4a02-ddc7-838825eccadd"
      },
      "outputs": [
        {
          "output_type": "execute_result",
          "data": {
            "text/plain": [
              "0     93\n",
              "1    207\n",
              "2    175\n",
              "3    125\n",
              "4    114\n",
              "Name: Final, dtype: int64"
            ]
          },
          "metadata": {},
          "execution_count": 102
        }
      ],
      "source": [
        "y.head()"
      ]
    },
    {
      "cell_type": "code",
      "execution_count": 103,
      "id": "db4e708b-49ef-4f7f-bb3d-0ad1a155f1dc",
      "metadata": {
        "id": "db4e708b-49ef-4f7f-bb3d-0ad1a155f1dc"
      },
      "outputs": [],
      "source": [
        "# Split train and test sets\n",
        "train_features, test_features, train_label, test_label=train_test_split(x,y,test_size=0.2, random_state=42)\n"
      ]
    },
    {
      "cell_type": "code",
      "execution_count": 104,
      "id": "33dcc925-2683-44c4-821f-6d973d348466",
      "metadata": {
        "colab": {
          "base_uri": "https://localhost:8080/"
        },
        "id": "33dcc925-2683-44c4-821f-6d973d348466",
        "outputId": "a8afd45d-4df6-4734-baae-db7861b398d5"
      },
      "outputs": [
        {
          "output_type": "execute_result",
          "data": {
            "text/plain": [
              "780"
            ]
          },
          "metadata": {},
          "execution_count": 104
        }
      ],
      "source": [
        "#number of rows train set\n",
        "train_rows=len(train_features)\n",
        "train_rows"
      ]
    },
    {
      "cell_type": "code",
      "execution_count": 105,
      "id": "f870bec3-5789-4207-b060-b0f3fdb0579b",
      "metadata": {
        "colab": {
          "base_uri": "https://localhost:8080/"
        },
        "id": "f870bec3-5789-4207-b060-b0f3fdb0579b",
        "outputId": "cc05d890-3dbc-489a-d9f7-71fed8a1ddfa"
      },
      "outputs": [
        {
          "output_type": "execute_result",
          "data": {
            "text/plain": [
              "195"
            ]
          },
          "metadata": {},
          "execution_count": 105
        }
      ],
      "source": [
        "#number of rows test set\n",
        "test_rows=len(test_features)\n",
        "test_rows"
      ]
    },
    {
      "cell_type": "code",
      "execution_count": 106,
      "id": "2c7a5280-f694-4291-849e-31aa366d3d36",
      "metadata": {
        "colab": {
          "base_uri": "https://localhost:8080/"
        },
        "id": "2c7a5280-f694-4291-849e-31aa366d3d36",
        "outputId": "f57df4df-bf80-41b0-87e2-6a393ffc8c63"
      },
      "outputs": [
        {
          "output_type": "execute_result",
          "data": {
            "text/plain": [
              "780"
            ]
          },
          "metadata": {},
          "execution_count": 106
        }
      ],
      "source": [
        "#number of rows train set\n",
        "y_train_rows=len(train_label)\n",
        "y_train_rows"
      ]
    },
    {
      "cell_type": "code",
      "execution_count": 107,
      "id": "63e9c4e9-fbab-4cba-8361-12bc10805aca",
      "metadata": {
        "colab": {
          "base_uri": "https://localhost:8080/"
        },
        "id": "63e9c4e9-fbab-4cba-8361-12bc10805aca",
        "outputId": "66f0483e-1116-41a8-ca7c-8dad29c425f3"
      },
      "outputs": [
        {
          "output_type": "execute_result",
          "data": {
            "text/plain": [
              "195"
            ]
          },
          "metadata": {},
          "execution_count": 107
        }
      ],
      "source": [
        "#number of rows train set\n",
        "y_test_rows=len(test_label)\n",
        "y_test_rows"
      ]
    },
    {
      "cell_type": "code",
      "execution_count": 108,
      "id": "f73a6fb6-9426-4f01-a550-f749140ec0bd",
      "metadata": {
        "colab": {
          "base_uri": "https://localhost:8080/",
          "height": 143
        },
        "id": "f73a6fb6-9426-4f01-a550-f749140ec0bd",
        "outputId": "6179d032-12de-493c-f13b-f44b7f74cae7"
      },
      "outputs": [
        {
          "output_type": "execute_result",
          "data": {
            "text/plain": [
              "           mean        std\n",
              "Yr1   52.105128  14.938100\n",
              "Yr2   93.406410  29.814578\n",
              "Yr3  104.551282  33.292514"
            ],
            "text/html": [
              "\n",
              "\n",
              "  <div id=\"df-cad27241-3960-44e5-b3ea-2d0989d87ca3\">\n",
              "    <div class=\"colab-df-container\">\n",
              "      <div>\n",
              "<style scoped>\n",
              "    .dataframe tbody tr th:only-of-type {\n",
              "        vertical-align: middle;\n",
              "    }\n",
              "\n",
              "    .dataframe tbody tr th {\n",
              "        vertical-align: top;\n",
              "    }\n",
              "\n",
              "    .dataframe thead th {\n",
              "        text-align: right;\n",
              "    }\n",
              "</style>\n",
              "<table border=\"1\" class=\"dataframe\">\n",
              "  <thead>\n",
              "    <tr style=\"text-align: right;\">\n",
              "      <th></th>\n",
              "      <th>mean</th>\n",
              "      <th>std</th>\n",
              "    </tr>\n",
              "  </thead>\n",
              "  <tbody>\n",
              "    <tr>\n",
              "      <th>Yr1</th>\n",
              "      <td>52.105128</td>\n",
              "      <td>14.938100</td>\n",
              "    </tr>\n",
              "    <tr>\n",
              "      <th>Yr2</th>\n",
              "      <td>93.406410</td>\n",
              "      <td>29.814578</td>\n",
              "    </tr>\n",
              "    <tr>\n",
              "      <th>Yr3</th>\n",
              "      <td>104.551282</td>\n",
              "      <td>33.292514</td>\n",
              "    </tr>\n",
              "  </tbody>\n",
              "</table>\n",
              "</div>\n",
              "      <button class=\"colab-df-convert\" onclick=\"convertToInteractive('df-cad27241-3960-44e5-b3ea-2d0989d87ca3')\"\n",
              "              title=\"Convert this dataframe to an interactive table.\"\n",
              "              style=\"display:none;\">\n",
              "\n",
              "  <svg xmlns=\"http://www.w3.org/2000/svg\" height=\"24px\"viewBox=\"0 0 24 24\"\n",
              "       width=\"24px\">\n",
              "    <path d=\"M0 0h24v24H0V0z\" fill=\"none\"/>\n",
              "    <path d=\"M18.56 5.44l.94 2.06.94-2.06 2.06-.94-2.06-.94-.94-2.06-.94 2.06-2.06.94zm-11 1L8.5 8.5l.94-2.06 2.06-.94-2.06-.94L8.5 2.5l-.94 2.06-2.06.94zm10 10l.94 2.06.94-2.06 2.06-.94-2.06-.94-.94-2.06-.94 2.06-2.06.94z\"/><path d=\"M17.41 7.96l-1.37-1.37c-.4-.4-.92-.59-1.43-.59-.52 0-1.04.2-1.43.59L10.3 9.45l-7.72 7.72c-.78.78-.78 2.05 0 2.83L4 21.41c.39.39.9.59 1.41.59.51 0 1.02-.2 1.41-.59l7.78-7.78 2.81-2.81c.8-.78.8-2.07 0-2.86zM5.41 20L4 18.59l7.72-7.72 1.47 1.35L5.41 20z\"/>\n",
              "  </svg>\n",
              "      </button>\n",
              "\n",
              "\n",
              "\n",
              "    <div id=\"df-ab7a0683-0e43-400b-b6ad-a543b746dec9\">\n",
              "      <button class=\"colab-df-quickchart\" onclick=\"quickchart('df-ab7a0683-0e43-400b-b6ad-a543b746dec9')\"\n",
              "              title=\"Suggest charts.\"\n",
              "              style=\"display:none;\">\n",
              "\n",
              "<svg xmlns=\"http://www.w3.org/2000/svg\" height=\"24px\"viewBox=\"0 0 24 24\"\n",
              "     width=\"24px\">\n",
              "    <g>\n",
              "        <path d=\"M19 3H5c-1.1 0-2 .9-2 2v14c0 1.1.9 2 2 2h14c1.1 0 2-.9 2-2V5c0-1.1-.9-2-2-2zM9 17H7v-7h2v7zm4 0h-2V7h2v10zm4 0h-2v-4h2v4z\"/>\n",
              "    </g>\n",
              "</svg>\n",
              "      </button>\n",
              "    </div>\n",
              "\n",
              "<style>\n",
              "  .colab-df-quickchart {\n",
              "    background-color: #E8F0FE;\n",
              "    border: none;\n",
              "    border-radius: 50%;\n",
              "    cursor: pointer;\n",
              "    display: none;\n",
              "    fill: #1967D2;\n",
              "    height: 32px;\n",
              "    padding: 0 0 0 0;\n",
              "    width: 32px;\n",
              "  }\n",
              "\n",
              "  .colab-df-quickchart:hover {\n",
              "    background-color: #E2EBFA;\n",
              "    box-shadow: 0px 1px 2px rgba(60, 64, 67, 0.3), 0px 1px 3px 1px rgba(60, 64, 67, 0.15);\n",
              "    fill: #174EA6;\n",
              "  }\n",
              "\n",
              "  [theme=dark] .colab-df-quickchart {\n",
              "    background-color: #3B4455;\n",
              "    fill: #D2E3FC;\n",
              "  }\n",
              "\n",
              "  [theme=dark] .colab-df-quickchart:hover {\n",
              "    background-color: #434B5C;\n",
              "    box-shadow: 0px 1px 3px 1px rgba(0, 0, 0, 0.15);\n",
              "    filter: drop-shadow(0px 1px 2px rgba(0, 0, 0, 0.3));\n",
              "    fill: #FFFFFF;\n",
              "  }\n",
              "</style>\n",
              "\n",
              "    <script>\n",
              "      async function quickchart(key) {\n",
              "        const containerElement = document.querySelector('#' + key);\n",
              "        const charts = await google.colab.kernel.invokeFunction(\n",
              "            'suggestCharts', [key], {});\n",
              "      }\n",
              "    </script>\n",
              "\n",
              "      <script>\n",
              "\n",
              "function displayQuickchartButton(domScope) {\n",
              "  let quickchartButtonEl =\n",
              "    domScope.querySelector('#df-ab7a0683-0e43-400b-b6ad-a543b746dec9 button.colab-df-quickchart');\n",
              "  quickchartButtonEl.style.display =\n",
              "    google.colab.kernel.accessAllowed ? 'block' : 'none';\n",
              "}\n",
              "\n",
              "        displayQuickchartButton(document);\n",
              "      </script>\n",
              "      <style>\n",
              "    .colab-df-container {\n",
              "      display:flex;\n",
              "      flex-wrap:wrap;\n",
              "      gap: 12px;\n",
              "    }\n",
              "\n",
              "    .colab-df-convert {\n",
              "      background-color: #E8F0FE;\n",
              "      border: none;\n",
              "      border-radius: 50%;\n",
              "      cursor: pointer;\n",
              "      display: none;\n",
              "      fill: #1967D2;\n",
              "      height: 32px;\n",
              "      padding: 0 0 0 0;\n",
              "      width: 32px;\n",
              "    }\n",
              "\n",
              "    .colab-df-convert:hover {\n",
              "      background-color: #E2EBFA;\n",
              "      box-shadow: 0px 1px 2px rgba(60, 64, 67, 0.3), 0px 1px 3px 1px rgba(60, 64, 67, 0.15);\n",
              "      fill: #174EA6;\n",
              "    }\n",
              "\n",
              "    [theme=dark] .colab-df-convert {\n",
              "      background-color: #3B4455;\n",
              "      fill: #D2E3FC;\n",
              "    }\n",
              "\n",
              "    [theme=dark] .colab-df-convert:hover {\n",
              "      background-color: #434B5C;\n",
              "      box-shadow: 0px 1px 3px 1px rgba(0, 0, 0, 0.15);\n",
              "      filter: drop-shadow(0px 1px 2px rgba(0, 0, 0, 0.3));\n",
              "      fill: #FFFFFF;\n",
              "    }\n",
              "  </style>\n",
              "\n",
              "      <script>\n",
              "        const buttonEl =\n",
              "          document.querySelector('#df-cad27241-3960-44e5-b3ea-2d0989d87ca3 button.colab-df-convert');\n",
              "        buttonEl.style.display =\n",
              "          google.colab.kernel.accessAllowed ? 'block' : 'none';\n",
              "\n",
              "        async function convertToInteractive(key) {\n",
              "          const element = document.querySelector('#df-cad27241-3960-44e5-b3ea-2d0989d87ca3');\n",
              "          const dataTable =\n",
              "            await google.colab.kernel.invokeFunction('convertToInteractive',\n",
              "                                                     [key], {});\n",
              "          if (!dataTable) return;\n",
              "\n",
              "          const docLinkHtml = 'Like what you see? Visit the ' +\n",
              "            '<a target=\"_blank\" href=https://colab.research.google.com/notebooks/data_table.ipynb>data table notebook</a>'\n",
              "            + ' to learn more about interactive tables.';\n",
              "          element.innerHTML = '';\n",
              "          dataTable['output_type'] = 'display_data';\n",
              "          await google.colab.output.renderOutput(dataTable, element);\n",
              "          const docLink = document.createElement('div');\n",
              "          docLink.innerHTML = docLinkHtml;\n",
              "          element.appendChild(docLink);\n",
              "        }\n",
              "      </script>\n",
              "    </div>\n",
              "  </div>\n"
            ]
          },
          "metadata": {},
          "execution_count": 108
        }
      ],
      "source": [
        "# Ranges of values in feature columns\n",
        "train_features.describe().transpose()[['mean', 'std']]"
      ]
    },
    {
      "cell_type": "code",
      "execution_count": 109,
      "id": "d1d728fe-288c-469d-b8ec-1bfe51197996",
      "metadata": {
        "tags": [],
        "colab": {
          "base_uri": "https://localhost:8080/"
        },
        "id": "d1d728fe-288c-469d-b8ec-1bfe51197996",
        "outputId": "e89adc8c-6154-4aa0-fa1a-324fb09318b1"
      },
      "outputs": [
        {
          "output_type": "stream",
          "name": "stdout",
          "text": [
            "[[ 52.105125  93.40641  104.551285]]\n"
          ]
        }
      ],
      "source": [
        "# Normalize variables via normalization layer in Keras:\n",
        "\n",
        "#Create normalization layer\n",
        "normalizer = tf.keras.layers.Normalization(axis=-1)\n",
        "\n",
        "#Fit state of preprocessing layer to the data\n",
        "normalizer.adapt(np.array(train_features))\n",
        "\n",
        "print(normalizer.mean.numpy())"
      ]
    },
    {
      "cell_type": "code",
      "execution_count": 110,
      "id": "2a03e916-b131-4bc1-82d7-73bdbe48aab7",
      "metadata": {
        "colab": {
          "base_uri": "https://localhost:8080/"
        },
        "id": "2a03e916-b131-4bc1-82d7-73bdbe48aab7",
        "outputId": "d59ff9bf-a2d3-49cc-8195-314955d23cc9"
      },
      "outputs": [
        {
          "output_type": "stream",
          "name": "stdout",
          "text": [
            "First example: [[ 49 129 109]]\n",
            "\n",
            "Normalized: [[-0.21  1.19  0.13]]\n"
          ]
        }
      ],
      "source": [
        "# Example normalizing the first row of features\n",
        "first = np.array(train_features[:1])\n",
        "\n",
        "with np.printoptions(precision=2, suppress=True):\n",
        "  print('First example:', first)\n",
        "  print()\n",
        "  print('Normalized:', normalizer(first).numpy())\n"
      ]
    },
    {
      "cell_type": "code",
      "execution_count": 111,
      "id": "b4014818-44e0-47f9-9498-c7ef540159c8",
      "metadata": {
        "colab": {
          "base_uri": "https://localhost:8080/",
          "height": 81
        },
        "id": "b4014818-44e0-47f9-9498-c7ef540159c8",
        "outputId": "686ee34f-1d38-481b-bb35-a7998838aa78"
      },
      "outputs": [
        {
          "output_type": "execute_result",
          "data": {
            "text/plain": [
              "     Yr1  Yr2  Yr3\n",
              "969   49  129  109"
            ],
            "text/html": [
              "\n",
              "\n",
              "  <div id=\"df-e9cd8dfc-0fb1-4704-aa2a-d6722430f8f1\">\n",
              "    <div class=\"colab-df-container\">\n",
              "      <div>\n",
              "<style scoped>\n",
              "    .dataframe tbody tr th:only-of-type {\n",
              "        vertical-align: middle;\n",
              "    }\n",
              "\n",
              "    .dataframe tbody tr th {\n",
              "        vertical-align: top;\n",
              "    }\n",
              "\n",
              "    .dataframe thead th {\n",
              "        text-align: right;\n",
              "    }\n",
              "</style>\n",
              "<table border=\"1\" class=\"dataframe\">\n",
              "  <thead>\n",
              "    <tr style=\"text-align: right;\">\n",
              "      <th></th>\n",
              "      <th>Yr1</th>\n",
              "      <th>Yr2</th>\n",
              "      <th>Yr3</th>\n",
              "    </tr>\n",
              "  </thead>\n",
              "  <tbody>\n",
              "    <tr>\n",
              "      <th>969</th>\n",
              "      <td>49</td>\n",
              "      <td>129</td>\n",
              "      <td>109</td>\n",
              "    </tr>\n",
              "  </tbody>\n",
              "</table>\n",
              "</div>\n",
              "      <button class=\"colab-df-convert\" onclick=\"convertToInteractive('df-e9cd8dfc-0fb1-4704-aa2a-d6722430f8f1')\"\n",
              "              title=\"Convert this dataframe to an interactive table.\"\n",
              "              style=\"display:none;\">\n",
              "\n",
              "  <svg xmlns=\"http://www.w3.org/2000/svg\" height=\"24px\"viewBox=\"0 0 24 24\"\n",
              "       width=\"24px\">\n",
              "    <path d=\"M0 0h24v24H0V0z\" fill=\"none\"/>\n",
              "    <path d=\"M18.56 5.44l.94 2.06.94-2.06 2.06-.94-2.06-.94-.94-2.06-.94 2.06-2.06.94zm-11 1L8.5 8.5l.94-2.06 2.06-.94-2.06-.94L8.5 2.5l-.94 2.06-2.06.94zm10 10l.94 2.06.94-2.06 2.06-.94-2.06-.94-.94-2.06-.94 2.06-2.06.94z\"/><path d=\"M17.41 7.96l-1.37-1.37c-.4-.4-.92-.59-1.43-.59-.52 0-1.04.2-1.43.59L10.3 9.45l-7.72 7.72c-.78.78-.78 2.05 0 2.83L4 21.41c.39.39.9.59 1.41.59.51 0 1.02-.2 1.41-.59l7.78-7.78 2.81-2.81c.8-.78.8-2.07 0-2.86zM5.41 20L4 18.59l7.72-7.72 1.47 1.35L5.41 20z\"/>\n",
              "  </svg>\n",
              "      </button>\n",
              "\n",
              "\n",
              "\n",
              "    <div id=\"df-59082fb3-5ea9-4c75-ab55-32b29296a5de\">\n",
              "      <button class=\"colab-df-quickchart\" onclick=\"quickchart('df-59082fb3-5ea9-4c75-ab55-32b29296a5de')\"\n",
              "              title=\"Suggest charts.\"\n",
              "              style=\"display:none;\">\n",
              "\n",
              "<svg xmlns=\"http://www.w3.org/2000/svg\" height=\"24px\"viewBox=\"0 0 24 24\"\n",
              "     width=\"24px\">\n",
              "    <g>\n",
              "        <path d=\"M19 3H5c-1.1 0-2 .9-2 2v14c0 1.1.9 2 2 2h14c1.1 0 2-.9 2-2V5c0-1.1-.9-2-2-2zM9 17H7v-7h2v7zm4 0h-2V7h2v10zm4 0h-2v-4h2v4z\"/>\n",
              "    </g>\n",
              "</svg>\n",
              "      </button>\n",
              "    </div>\n",
              "\n",
              "<style>\n",
              "  .colab-df-quickchart {\n",
              "    background-color: #E8F0FE;\n",
              "    border: none;\n",
              "    border-radius: 50%;\n",
              "    cursor: pointer;\n",
              "    display: none;\n",
              "    fill: #1967D2;\n",
              "    height: 32px;\n",
              "    padding: 0 0 0 0;\n",
              "    width: 32px;\n",
              "  }\n",
              "\n",
              "  .colab-df-quickchart:hover {\n",
              "    background-color: #E2EBFA;\n",
              "    box-shadow: 0px 1px 2px rgba(60, 64, 67, 0.3), 0px 1px 3px 1px rgba(60, 64, 67, 0.15);\n",
              "    fill: #174EA6;\n",
              "  }\n",
              "\n",
              "  [theme=dark] .colab-df-quickchart {\n",
              "    background-color: #3B4455;\n",
              "    fill: #D2E3FC;\n",
              "  }\n",
              "\n",
              "  [theme=dark] .colab-df-quickchart:hover {\n",
              "    background-color: #434B5C;\n",
              "    box-shadow: 0px 1px 3px 1px rgba(0, 0, 0, 0.15);\n",
              "    filter: drop-shadow(0px 1px 2px rgba(0, 0, 0, 0.3));\n",
              "    fill: #FFFFFF;\n",
              "  }\n",
              "</style>\n",
              "\n",
              "    <script>\n",
              "      async function quickchart(key) {\n",
              "        const containerElement = document.querySelector('#' + key);\n",
              "        const charts = await google.colab.kernel.invokeFunction(\n",
              "            'suggestCharts', [key], {});\n",
              "      }\n",
              "    </script>\n",
              "\n",
              "      <script>\n",
              "\n",
              "function displayQuickchartButton(domScope) {\n",
              "  let quickchartButtonEl =\n",
              "    domScope.querySelector('#df-59082fb3-5ea9-4c75-ab55-32b29296a5de button.colab-df-quickchart');\n",
              "  quickchartButtonEl.style.display =\n",
              "    google.colab.kernel.accessAllowed ? 'block' : 'none';\n",
              "}\n",
              "\n",
              "        displayQuickchartButton(document);\n",
              "      </script>\n",
              "      <style>\n",
              "    .colab-df-container {\n",
              "      display:flex;\n",
              "      flex-wrap:wrap;\n",
              "      gap: 12px;\n",
              "    }\n",
              "\n",
              "    .colab-df-convert {\n",
              "      background-color: #E8F0FE;\n",
              "      border: none;\n",
              "      border-radius: 50%;\n",
              "      cursor: pointer;\n",
              "      display: none;\n",
              "      fill: #1967D2;\n",
              "      height: 32px;\n",
              "      padding: 0 0 0 0;\n",
              "      width: 32px;\n",
              "    }\n",
              "\n",
              "    .colab-df-convert:hover {\n",
              "      background-color: #E2EBFA;\n",
              "      box-shadow: 0px 1px 2px rgba(60, 64, 67, 0.3), 0px 1px 3px 1px rgba(60, 64, 67, 0.15);\n",
              "      fill: #174EA6;\n",
              "    }\n",
              "\n",
              "    [theme=dark] .colab-df-convert {\n",
              "      background-color: #3B4455;\n",
              "      fill: #D2E3FC;\n",
              "    }\n",
              "\n",
              "    [theme=dark] .colab-df-convert:hover {\n",
              "      background-color: #434B5C;\n",
              "      box-shadow: 0px 1px 3px 1px rgba(0, 0, 0, 0.15);\n",
              "      filter: drop-shadow(0px 1px 2px rgba(0, 0, 0, 0.3));\n",
              "      fill: #FFFFFF;\n",
              "    }\n",
              "  </style>\n",
              "\n",
              "      <script>\n",
              "        const buttonEl =\n",
              "          document.querySelector('#df-e9cd8dfc-0fb1-4704-aa2a-d6722430f8f1 button.colab-df-convert');\n",
              "        buttonEl.style.display =\n",
              "          google.colab.kernel.accessAllowed ? 'block' : 'none';\n",
              "\n",
              "        async function convertToInteractive(key) {\n",
              "          const element = document.querySelector('#df-e9cd8dfc-0fb1-4704-aa2a-d6722430f8f1');\n",
              "          const dataTable =\n",
              "            await google.colab.kernel.invokeFunction('convertToInteractive',\n",
              "                                                     [key], {});\n",
              "          if (!dataTable) return;\n",
              "\n",
              "          const docLinkHtml = 'Like what you see? Visit the ' +\n",
              "            '<a target=\"_blank\" href=https://colab.research.google.com/notebooks/data_table.ipynb>data table notebook</a>'\n",
              "            + ' to learn more about interactive tables.';\n",
              "          element.innerHTML = '';\n",
              "          dataTable['output_type'] = 'display_data';\n",
              "          await google.colab.output.renderOutput(dataTable, element);\n",
              "          const docLink = document.createElement('div');\n",
              "          docLink.innerHTML = docLinkHtml;\n",
              "          element.appendChild(docLink);\n",
              "        }\n",
              "      </script>\n",
              "    </div>\n",
              "  </div>\n"
            ]
          },
          "metadata": {},
          "execution_count": 111
        }
      ],
      "source": [
        "train_features.head(1)"
      ]
    },
    {
      "cell_type": "code",
      "execution_count": 112,
      "id": "dc84bff1-84bd-41c5-a829-f12a513d4cb5",
      "metadata": {
        "id": "dc84bff1-84bd-41c5-a829-f12a513d4cb5"
      },
      "outputs": [],
      "source": [
        "# Linear regression with multiple inputs (X's)\n",
        "# y=mx+b and m is a matrix, b is a vector\n",
        "\n",
        "#Creating a two-step sequential model with first layer being normalizer\n",
        "linear_model = tf.keras.Sequential([\n",
        "    normalizer,\n",
        "    layers.Dense(units=1)\n",
        "])\n"
      ]
    },
    {
      "cell_type": "code",
      "execution_count": 113,
      "id": "90e1ad03-14cd-42ed-bdc3-69eae2d77b22",
      "metadata": {
        "id": "90e1ad03-14cd-42ed-bdc3-69eae2d77b22"
      },
      "outputs": [],
      "source": [
        "# Configure model wit Keras\n",
        "linear_model.compile(\n",
        "    optimizer=tf.keras.optimizers.Adam(learning_rate=0.1),\n",
        "    loss='mean_squared_error')"
      ]
    },
    {
      "cell_type": "code",
      "execution_count": 114,
      "id": "4e18685b-5a3f-46ce-9669-a50d8fbbf1e7",
      "metadata": {
        "colab": {
          "base_uri": "https://localhost:8080/"
        },
        "id": "4e18685b-5a3f-46ce-9669-a50d8fbbf1e7",
        "outputId": "c66a5d94-ec67-4a06-e52f-7c8cf82460e9"
      },
      "outputs": [
        {
          "output_type": "stream",
          "name": "stdout",
          "text": [
            "CPU times: user 9.26 s, sys: 609 ms, total: 9.87 s\n",
            "Wall time: 9.09 s\n"
          ]
        }
      ],
      "source": [
        "%%time\n",
        "# Model fit for 100 epochs  (complete pass of the training dataset through the algorithm)\n",
        "\n",
        "history = linear_model.fit(\n",
        "    train_features,\n",
        "    train_label,\n",
        "    epochs=100,\n",
        "    # Suppress logging.\n",
        "    verbose=0,\n",
        "    # Calculate validation results on 20% of the training data.\n",
        "    validation_split = 0.2)\n",
        "\n"
      ]
    },
    {
      "cell_type": "code",
      "execution_count": 115,
      "id": "2acc9b16-5f0f-4c8d-838a-8bf589465c6f",
      "metadata": {
        "tags": [],
        "id": "2acc9b16-5f0f-4c8d-838a-8bf589465c6f"
      },
      "outputs": [],
      "source": [
        "def plot_loss(history):\n",
        "  plt.plot(history.history['loss'], label='loss')\n",
        "  plt.plot(history.history['val_loss'], label='val_loss')\n",
        "  #plt.ylim([0, 1])\n",
        "  plt.xlabel('Epoch')\n",
        "  plt.ylabel('MSE')\n",
        "  plt.legend()\n",
        "  plt.grid(True)\n"
      ]
    },
    {
      "cell_type": "code",
      "execution_count": 116,
      "id": "92acec29-4c1d-4172-ab82-575c76e8c1e3",
      "metadata": {
        "tags": [],
        "colab": {
          "base_uri": "https://localhost:8080/",
          "height": 449
        },
        "id": "92acec29-4c1d-4172-ab82-575c76e8c1e3",
        "outputId": "3be434ee-b5a2-4df5-d018-668944f0e71e"
      },
      "outputs": [
        {
          "output_type": "display_data",
          "data": {
            "text/plain": [
              "<Figure size 640x480 with 1 Axes>"
            ],
            "image/png": "[encoded data removed]"
          },
          "metadata": {}
        }
      ],
      "source": [
        "plot_loss(history)\n"
      ]
    },
    {
      "cell_type": "code",
      "execution_count": 117,
      "id": "c8dcf15f-9847-45ba-8981-4efeba9c3459",
      "metadata": {
        "id": "c8dcf15f-9847-45ba-8981-4efeba9c3459"
      },
      "outputs": [],
      "source": [
        "# Collect result for test set\n",
        "test_results={}\n",
        "test_results['linear_model'] = linear_model.evaluate(\n",
        "    test_features, test_label, verbose=0)\n"
      ]
    },
    {
      "cell_type": "code",
      "execution_count": 118,
      "id": "a33ec699-5c53-43eb-b939-c9eb1e946fd9",
      "metadata": {
        "tags": [],
        "colab": {
          "base_uri": "https://localhost:8080/",
          "height": 472
        },
        "id": "a33ec699-5c53-43eb-b939-c9eb1e946fd9",
        "outputId": "d2621322-8347-4990-cf73-1322164e8808"
      },
      "outputs": [
        {
          "output_type": "stream",
          "name": "stdout",
          "text": [
            "7/7 [==============================] - 0s 2ms/step\n"
          ]
        },
        {
          "output_type": "display_data",
          "data": {
            "text/plain": [
              "<Figure size 640x480 with 1 Axes>"
            ],
            "image/png": "[encoded data removed]"
          },
          "metadata": {}
        }
      ],
      "source": [
        "test_predictions = linear_model.predict(test_features).flatten()\n",
        "\n",
        "a = plt.axes(aspect='equal')\n",
        "plt.scatter(test_label, test_predictions)\n",
        "plt.xlabel('True Values')\n",
        "plt.ylabel('Predictions')\n",
        "lims = [0, 300]\n",
        "plt.xlim(lims)\n",
        "plt.ylim(lims)\n",
        "_ = plt.plot(lims, lims)\n"
      ]
    },
    {
      "cell_type": "markdown",
      "id": "ac4d84af-1220-41b7-97b7-545bdabf4815",
      "metadata": {
        "id": "ac4d84af-1220-41b7-97b7-545bdabf4815"
      },
      "source": [
        "### Regression using a DNN: Single and and Multiple inputs\n",
        "\n",
        "Repeating the previous process using all the inputs. The model's performance slightly improves on the validation dataset.\n"
      ]
    },
    {
      "cell_type": "markdown",
      "source": [
        "Neural network: ![NN.png](data:image/png;base64,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)"
      ],
      "metadata": {
        "id": "zf091KVqLkcw"
      },
      "id": "zf091KVqLkcw"
    },
    {
      "cell_type": "code",
      "execution_count": 119,
      "id": "33e29e1f-74c1-4194-a5cb-06519d48be06",
      "metadata": {
        "id": "33e29e1f-74c1-4194-a5cb-06519d48be06"
      },
      "outputs": [],
      "source": [
        "# Creating build and compile function with 2 inner layers\n",
        "def build_and_compile_model(norm):\n",
        "  model = keras.Sequential([\n",
        "      norm,\n",
        "      layers.Dense(64, activation='relu'),\n",
        "      layers.Dense(64, activation='relu'),\n",
        "      layers.Dense(1)\n",
        "  ])\n",
        "\n",
        "  model.compile(loss='mean_squared_error',\n",
        "                optimizer=tf.keras.optimizers.Adam(0.001))\n",
        "  return model\n"
      ]
    },
    {
      "cell_type": "markdown",
      "id": "c20769e5-569d-4145-baba-b2fda27281b5",
      "metadata": {
        "id": "c20769e5-569d-4145-baba-b2fda27281b5"
      },
      "source": [
        "The first parameter, norm, is a normalization layer. This layer normalizes the input data, which can help to improve the performance of the model.\n",
        "\n",
        "The next three parameters are all Dense layers. These layers are fully connected layers, which means that each neuron in a layer is connected to every neuron in the next layer. The 64 parameter specifies the number of neurons in each Dense layer.\n",
        "\n",
        "The final parameter, 1, specifies the number of neurons in the output layer. The output layer is responsible for generating the predictions of the model.\n",
        "\n",
        "The activation function for each Dense layer is relu. This function is a non-linear function that helps the model to learn more complex relationships between the input and output data.\n",
        "\n",
        "The code provided creates a simple neural network with three hidden layers. The number of neurons in each hidden layer can be changed to experiment with different model architectures. The activation function can also be changed to try different non-linearities."
      ]
    },
    {
      "cell_type": "code",
      "execution_count": 120,
      "id": "904c3937-2624-4469-b7e6-57f1d4ba3974",
      "metadata": {
        "colab": {
          "base_uri": "https://localhost:8080/"
        },
        "id": "904c3937-2624-4469-b7e6-57f1d4ba3974",
        "outputId": "980bb930-7a0e-4755-ebc9-5d21260e6dbb"
      },
      "outputs": [
        {
          "output_type": "stream",
          "name": "stdout",
          "text": [
            "Model: \"sequential_5\"\n",
            "_________________________________________________________________\n",
            " Layer (type)                Output Shape              Param #   \n",
            "=================================================================\n",
            " normalization (Normalizatio  (None, 3)                7         \n",
            " n)                                                              \n",
            "                                                                 \n",
            " dense_17 (Dense)            (None, 64)                256       \n",
            "                                                                 \n",
            " dense_18 (Dense)            (None, 64)                4160      \n",
            "                                                                 \n",
            " dense_19 (Dense)            (None, 1)                 65        \n",
            "                                                                 \n",
            "=================================================================\n",
            "Total params: 4,488\n",
            "Trainable params: 4,481\n",
            "Non-trainable params: 7\n",
            "_________________________________________________________________\n"
          ]
        }
      ],
      "source": [
        "# Regression using a DNN and a single input\n",
        "dnn_model = build_and_compile_model(normalizer)\n",
        "dnn_model.summary()\n"
      ]
    },
    {
      "cell_type": "code",
      "execution_count": 121,
      "id": "6db283d7-330a-4376-a6e6-65f5a245949b",
      "metadata": {
        "colab": {
          "base_uri": "https://localhost:8080/"
        },
        "id": "6db283d7-330a-4376-a6e6-65f5a245949b",
        "outputId": "8190dc32-3718-4556-f56c-826d926575bd"
      },
      "outputs": [
        {
          "output_type": "stream",
          "name": "stdout",
          "text": [
            "CPU times: user 10.9 s, sys: 699 ms, total: 11.6 s\n",
            "Wall time: 10.4 s\n"
          ]
        }
      ],
      "source": [
        "%%time\n",
        "# Train the model\n",
        "\n",
        "history = dnn_model.fit(\n",
        "    train_features,\n",
        "    train_label,\n",
        "    validation_split=0.2,\n",
        "    verbose=0, epochs=100)\n"
      ]
    },
    {
      "cell_type": "code",
      "execution_count": 122,
      "id": "96b126f3-c376-4c68-bee9-3dffb575d34a",
      "metadata": {
        "colab": {
          "base_uri": "https://localhost:8080/",
          "height": 484
        },
        "id": "96b126f3-c376-4c68-bee9-3dffb575d34a",
        "outputId": "11790856-1af1-44e4-af86-f1371b20c3e4"
      },
      "outputs": [
        {
          "output_type": "stream",
          "name": "stdout",
          "text": [
            "CPU times: user 22.2 ms, sys: 3.02 ms, total: 25.2 ms\n",
            "Wall time: 25.5 ms\n"
          ]
        },
        {
          "output_type": "display_data",
          "data": {
            "text/plain": [
              "<Figure size 640x480 with 1 Axes>"
            ],
            "image/png": "[encoded data removed]"
          },
          "metadata": {}
        }
      ],
      "source": [
        "%%time\n",
        "plot_loss(history)\n"
      ]
    },
    {
      "cell_type": "code",
      "execution_count": 123,
      "id": "f788974d-a015-452b-a398-a6d38ba43419",
      "metadata": {
        "tags": [],
        "colab": {
          "base_uri": "https://localhost:8080/",
          "height": 472
        },
        "id": "f788974d-a015-452b-a398-a6d38ba43419",
        "outputId": "76eff5cb-16f8-4712-e6c2-2263f4498308"
      },
      "outputs": [
        {
          "output_type": "stream",
          "name": "stdout",
          "text": [
            "7/7 [==============================] - 0s 3ms/step\n"
          ]
        },
        {
          "output_type": "display_data",
          "data": {
            "text/plain": [
              "<Figure size 640x480 with 1 Axes>"
            ],
            "image/png": "[encoded data removed]"
          },
          "metadata": {}
        }
      ],
      "source": [
        "test_predictions = dnn_model.predict(test_features).flatten()\n",
        "\n",
        "a = plt.axes(aspect='equal')\n",
        "plt.scatter(test_label, test_predictions)\n",
        "plt.xlabel('True Values')\n",
        "plt.ylabel('Predictions')\n",
        "lims = [0, 300]\n",
        "plt.xlim(lims)\n",
        "plt.ylim(lims)\n",
        "_ = plt.plot(lims, lims)\n",
        "\n"
      ]
    },
    {
      "cell_type": "code",
      "execution_count": 124,
      "id": "196300a2-d28c-4d22-981e-121194b78252",
      "metadata": {
        "id": "196300a2-d28c-4d22-981e-121194b78252"
      },
      "outputs": [],
      "source": [
        "# Collect results of test for later\n",
        "test_results['dnn_model'] = dnn_model.evaluate(\n",
        "    test_features, test_label,\n",
        "    verbose=0)\n"
      ]
    },
    {
      "cell_type": "markdown",
      "id": "0d35398e-eee7-44d6-a5cd-b31280569b93",
      "metadata": {
        "tags": [],
        "id": "0d35398e-eee7-44d6-a5cd-b31280569b93"
      },
      "source": [
        "## Performance"
      ]
    },
    {
      "cell_type": "code",
      "execution_count": 125,
      "id": "83ede7af-2450-434b-b550-9d462e81d881",
      "metadata": {
        "tags": [],
        "colab": {
          "base_uri": "https://localhost:8080/",
          "height": 112
        },
        "id": "83ede7af-2450-434b-b550-9d462e81d881",
        "outputId": "04939c0a-2246-4cb8-e34c-0d5cdff28414"
      },
      "outputs": [
        {
          "output_type": "execute_result",
          "data": {
            "text/plain": [
              "                      MSE\n",
              "linear_model  1271.927368\n",
              "dnn_model     1001.845093"
            ],
            "text/html": [
              "\n",
              "\n",
              "  <div id=\"df-70e99f41-f56c-431d-867d-61fb3d987cb8\">\n",
              "    <div class=\"colab-df-container\">\n",
              "      <div>\n",
              "<style scoped>\n",
              "    .dataframe tbody tr th:only-of-type {\n",
              "        vertical-align: middle;\n",
              "    }\n",
              "\n",
              "    .dataframe tbody tr th {\n",
              "        vertical-align: top;\n",
              "    }\n",
              "\n",
              "    .dataframe thead th {\n",
              "        text-align: right;\n",
              "    }\n",
              "</style>\n",
              "<table border=\"1\" class=\"dataframe\">\n",
              "  <thead>\n",
              "    <tr style=\"text-align: right;\">\n",
              "      <th></th>\n",
              "      <th>MSE</th>\n",
              "    </tr>\n",
              "  </thead>\n",
              "  <tbody>\n",
              "    <tr>\n",
              "      <th>linear_model</th>\n",
              "      <td>1271.927368</td>\n",
              "    </tr>\n",
              "    <tr>\n",
              "      <th>dnn_model</th>\n",
              "      <td>1001.845093</td>\n",
              "    </tr>\n",
              "  </tbody>\n",
              "</table>\n",
              "</div>\n",
              "      <button class=\"colab-df-convert\" onclick=\"convertToInteractive('df-70e99f41-f56c-431d-867d-61fb3d987cb8')\"\n",
              "              title=\"Convert this dataframe to an interactive table.\"\n",
              "              style=\"display:none;\">\n",
              "\n",
              "  <svg xmlns=\"http://www.w3.org/2000/svg\" height=\"24px\"viewBox=\"0 0 24 24\"\n",
              "       width=\"24px\">\n",
              "    <path d=\"M0 0h24v24H0V0z\" fill=\"none\"/>\n",
              "    <path d=\"M18.56 5.44l.94 2.06.94-2.06 2.06-.94-2.06-.94-.94-2.06-.94 2.06-2.06.94zm-11 1L8.5 8.5l.94-2.06 2.06-.94-2.06-.94L8.5 2.5l-.94 2.06-2.06.94zm10 10l.94 2.06.94-2.06 2.06-.94-2.06-.94-.94-2.06-.94 2.06-2.06.94z\"/><path d=\"M17.41 7.96l-1.37-1.37c-.4-.4-.92-.59-1.43-.59-.52 0-1.04.2-1.43.59L10.3 9.45l-7.72 7.72c-.78.78-.78 2.05 0 2.83L4 21.41c.39.39.9.59 1.41.59.51 0 1.02-.2 1.41-.59l7.78-7.78 2.81-2.81c.8-.78.8-2.07 0-2.86zM5.41 20L4 18.59l7.72-7.72 1.47 1.35L5.41 20z\"/>\n",
              "  </svg>\n",
              "      </button>\n",
              "\n",
              "\n",
              "\n",
              "    <div id=\"df-9a9ee03e-a87a-4ef7-b207-b1fbed728011\">\n",
              "      <button class=\"colab-df-quickchart\" onclick=\"quickchart('df-9a9ee03e-a87a-4ef7-b207-b1fbed728011')\"\n",
              "              title=\"Suggest charts.\"\n",
              "              style=\"display:none;\">\n",
              "\n",
              "<svg xmlns=\"http://www.w3.org/2000/svg\" height=\"24px\"viewBox=\"0 0 24 24\"\n",
              "     width=\"24px\">\n",
              "    <g>\n",
              "        <path d=\"M19 3H5c-1.1 0-2 .9-2 2v14c0 1.1.9 2 2 2h14c1.1 0 2-.9 2-2V5c0-1.1-.9-2-2-2zM9 17H7v-7h2v7zm4 0h-2V7h2v10zm4 0h-2v-4h2v4z\"/>\n",
              "    </g>\n",
              "</svg>\n",
              "      </button>\n",
              "    </div>\n",
              "\n",
              "<style>\n",
              "  .colab-df-quickchart {\n",
              "    background-color: #E8F0FE;\n",
              "    border: none;\n",
              "    border-radius: 50%;\n",
              "    cursor: pointer;\n",
              "    display: none;\n",
              "    fill: #1967D2;\n",
              "    height: 32px;\n",
              "    padding: 0 0 0 0;\n",
              "    width: 32px;\n",
              "  }\n",
              "\n",
              "  .colab-df-quickchart:hover {\n",
              "    background-color: #E2EBFA;\n",
              "    box-shadow: 0px 1px 2px rgba(60, 64, 67, 0.3), 0px 1px 3px 1px rgba(60, 64, 67, 0.15);\n",
              "    fill: #174EA6;\n",
              "  }\n",
              "\n",
              "  [theme=dark] .colab-df-quickchart {\n",
              "    background-color: #3B4455;\n",
              "    fill: #D2E3FC;\n",
              "  }\n",
              "\n",
              "  [theme=dark] .colab-df-quickchart:hover {\n",
              "    background-color: #434B5C;\n",
              "    box-shadow: 0px 1px 3px 1px rgba(0, 0, 0, 0.15);\n",
              "    filter: drop-shadow(0px 1px 2px rgba(0, 0, 0, 0.3));\n",
              "    fill: #FFFFFF;\n",
              "  }\n",
              "</style>\n",
              "\n",
              "    <script>\n",
              "      async function quickchart(key) {\n",
              "        const containerElement = document.querySelector('#' + key);\n",
              "        const charts = await google.colab.kernel.invokeFunction(\n",
              "            'suggestCharts', [key], {});\n",
              "      }\n",
              "    </script>\n",
              "\n",
              "      <script>\n",
              "\n",
              "function displayQuickchartButton(domScope) {\n",
              "  let quickchartButtonEl =\n",
              "    domScope.querySelector('#df-9a9ee03e-a87a-4ef7-b207-b1fbed728011 button.colab-df-quickchart');\n",
              "  quickchartButtonEl.style.display =\n",
              "    google.colab.kernel.accessAllowed ? 'block' : 'none';\n",
              "}\n",
              "\n",
              "        displayQuickchartButton(document);\n",
              "      </script>\n",
              "      <style>\n",
              "    .colab-df-container {\n",
              "      display:flex;\n",
              "      flex-wrap:wrap;\n",
              "      gap: 12px;\n",
              "    }\n",
              "\n",
              "    .colab-df-convert {\n",
              "      background-color: #E8F0FE;\n",
              "      border: none;\n",
              "      border-radius: 50%;\n",
              "      cursor: pointer;\n",
              "      display: none;\n",
              "      fill: #1967D2;\n",
              "      height: 32px;\n",
              "      padding: 0 0 0 0;\n",
              "      width: 32px;\n",
              "    }\n",
              "\n",
              "    .colab-df-convert:hover {\n",
              "      background-color: #E2EBFA;\n",
              "      box-shadow: 0px 1px 2px rgba(60, 64, 67, 0.3), 0px 1px 3px 1px rgba(60, 64, 67, 0.15);\n",
              "      fill: #174EA6;\n",
              "    }\n",
              "\n",
              "    [theme=dark] .colab-df-convert {\n",
              "      background-color: #3B4455;\n",
              "      fill: #D2E3FC;\n",
              "    }\n",
              "\n",
              "    [theme=dark] .colab-df-convert:hover {\n",
              "      background-color: #434B5C;\n",
              "      box-shadow: 0px 1px 3px 1px rgba(0, 0, 0, 0.15);\n",
              "      filter: drop-shadow(0px 1px 2px rgba(0, 0, 0, 0.3));\n",
              "      fill: #FFFFFF;\n",
              "    }\n",
              "  </style>\n",
              "\n",
              "      <script>\n",
              "        const buttonEl =\n",
              "          document.querySelector('#df-70e99f41-f56c-431d-867d-61fb3d987cb8 button.colab-df-convert');\n",
              "        buttonEl.style.display =\n",
              "          google.colab.kernel.accessAllowed ? 'block' : 'none';\n",
              "\n",
              "        async function convertToInteractive(key) {\n",
              "          const element = document.querySelector('#df-70e99f41-f56c-431d-867d-61fb3d987cb8');\n",
              "          const dataTable =\n",
              "            await google.colab.kernel.invokeFunction('convertToInteractive',\n",
              "                                                     [key], {});\n",
              "          if (!dataTable) return;\n",
              "\n",
              "          const docLinkHtml = 'Like what you see? Visit the ' +\n",
              "            '<a target=\"_blank\" href=https://colab.research.google.com/notebooks/data_table.ipynb>data table notebook</a>'\n",
              "            + ' to learn more about interactive tables.';\n",
              "          element.innerHTML = '';\n",
              "          dataTable['output_type'] = 'display_data';\n",
              "          await google.colab.output.renderOutput(dataTable, element);\n",
              "          const docLink = document.createElement('div');\n",
              "          docLink.innerHTML = docLinkHtml;\n",
              "          element.appendChild(docLink);\n",
              "        }\n",
              "      </script>\n",
              "    </div>\n",
              "  </div>\n"
            ]
          },
          "metadata": {},
          "execution_count": 125
        }
      ],
      "source": [
        "pd.DataFrame(test_results, index=['MSE']).T\n"
      ]
    },
    {
      "cell_type": "code",
      "execution_count": 126,
      "id": "57f9c715-74bf-41e1-bdeb-1120f3398624",
      "metadata": {
        "tags": [],
        "colab": {
          "base_uri": "https://localhost:8080/",
          "height": 449
        },
        "id": "57f9c715-74bf-41e1-bdeb-1120f3398624",
        "outputId": "4ff339f8-00b4-4d38-90b9-a21c1abdf9c5"
      },
      "outputs": [
        {
          "output_type": "display_data",
          "data": {
            "text/plain": [
              "<Figure size 640x480 with 1 Axes>"
            ],
            "image/png": "[encoded data removed]"
          },
          "metadata": {}
        }
      ],
      "source": [
        "# Error distribution\n",
        "error = test_predictions - test_label\n",
        "plt.hist(error, bins=25)\n",
        "plt.xlabel('Prediction Error')\n",
        "_ = plt.ylabel('Count')\n"
      ]
    },
    {
      "cell_type": "markdown",
      "id": "fe7f2312-0c2d-4457-a39f-9fcd19c5d25c",
      "metadata": {
        "id": "fe7f2312-0c2d-4457-a39f-9fcd19c5d25c"
      },
      "source": [
        "### Hyperparameter Optimization"
      ]
    },
    {
      "cell_type": "markdown",
      "id": "ade7dec6-7ba3-4e14-a2b6-b2b3826a7898",
      "metadata": {
        "id": "ade7dec6-7ba3-4e14-a2b6-b2b3826a7898"
      },
      "source": [
        "The Keras Tuner is a library that helps you pick the optimal set of hyperparameters for your TensorFlow program. The process of selecting the right set of hyperparameters for your machine learning (ML) application is called hyperparameter tuning or hypertuning.\n",
        "\n",
        "Hyperparameters are the variables that govern the training process and the topology of an ML model. These variables remain constant over the training process and directly impact the performance of your ML program. Hyperparameters are of two types:\n",
        "\n",
        "1. Model hyperparameters which influence model selection such as the number and width of hidden layers\n",
        "2. Algorithm hyperparameters which influence the speed and quality of the learning algorithm such as the learning rate for Stochastic Gradient Descent (SGD) and the number of nearest neighbors for a k Nearest Neighbors (KNN) classifier\n"
      ]
    },
    {
      "cell_type": "code",
      "execution_count": 127,
      "id": "71a0b829-163f-446c-bcaf-d906d88885a0",
      "metadata": {
        "id": "71a0b829-163f-446c-bcaf-d906d88885a0"
      },
      "outputs": [],
      "source": [
        "import keras_tuner as kt\n",
        "from numpy.random import seed"
      ]
    },
    {
      "cell_type": "code",
      "execution_count": 128,
      "id": "ad9820a0-423f-4762-9bc8-f2347ae8874d",
      "metadata": {
        "id": "ad9820a0-423f-4762-9bc8-f2347ae8874d"
      },
      "outputs": [],
      "source": [
        "#Function that return Keras model\n",
        "\n",
        "def build_hp_model(hp):\n",
        "    model = keras.Sequential([normalizer])\n",
        "    model.add(keras.layers.Dense(\n",
        "        hp.Choice('units',[8,16,32,64]), hp.Choice('activation',['relu', 'sigmoid', 'selu', 'elu'])))\n",
        "    model.add(keras.layers.Dense(\n",
        "        hp.Choice('units',[8,16,32,64]), activation='relu'))\n",
        "    model.add(keras.layers.Dense(\n",
        "        hp.Choice('units',[8,16,32,64]), activation='relu'))\n",
        "    model.add(keras.layers.Dense(1))\n",
        "    hp_learning_rate=hp.Choice('learning_rate', values=[0.001, 0.003, 0.005, 0.01, 0.2, 0.3, 0.05])\n",
        "    model.compile(loss='mse', metrics=['mse'],\n",
        "                  optimizer=tf.keras.optimizers.Adam(hp_learning_rate))\n",
        "    return model"
      ]
    },
    {
      "cell_type": "code",
      "execution_count": 129,
      "id": "aeaee1d8-d33d-4402-9a49-3d595063e238",
      "metadata": {
        "id": "aeaee1d8-d33d-4402-9a49-3d595063e238"
      },
      "outputs": [],
      "source": [
        "tuner_rs=kt.RandomSearch(\n",
        "    build_hp_model,\n",
        "    objective='val_loss',\n",
        "    seed=42,\n",
        "    max_trials=10,\n",
        "    overwrite=True)\n",
        "    #project_name=\"SWB_one\"\n",
        "    #directory='random_search')\n",
        "\n"
      ]
    },
    {
      "cell_type": "code",
      "execution_count": 130,
      "id": "d1c9db7d-7040-4d4d-a08d-28b65d8ee13d",
      "metadata": {
        "colab": {
          "base_uri": "https://localhost:8080/"
        },
        "id": "d1c9db7d-7040-4d4d-a08d-28b65d8ee13d",
        "outputId": "04ba5f34-ef20-4d20-b659-522773eff5dc"
      },
      "outputs": [
        {
          "output_type": "stream",
          "name": "stdout",
          "text": [
            "CPU times: user 1min 24s, sys: 4.45 s, total: 1min 29s\n",
            "Wall time: 1min 35s\n"
          ]
        }
      ],
      "source": [
        "%%time\n",
        "# Run Random search\n",
        "tuner_rs.search(train_features, train_label, epochs=50, validation_split=0.2, verbose=0)"
      ]
    },
    {
      "cell_type": "code",
      "execution_count": 131,
      "id": "21e46f68-896d-41a3-ae47-1fee1e13b028",
      "metadata": {
        "tags": [],
        "colab": {
          "base_uri": "https://localhost:8080/"
        },
        "id": "21e46f68-896d-41a3-ae47-1fee1e13b028",
        "outputId": "975e1831-5172-4f56-fbd6-fe02587ed9a9"
      },
      "outputs": [
        {
          "output_type": "stream",
          "name": "stdout",
          "text": [
            "Model: \"sequential_1\"\n",
            "_________________________________________________________________\n",
            " Layer (type)                Output Shape              Param #   \n",
            "=================================================================\n",
            " normalization (Normalizatio  (None, 3)                7         \n",
            " n)                                                              \n",
            "                                                                 \n",
            " dense_4 (Dense)             (None, 8)                 32        \n",
            "                                                                 \n",
            " dense_5 (Dense)             (None, 8)                 72        \n",
            "                                                                 \n",
            " dense_6 (Dense)             (None, 8)                 72        \n",
            "                                                                 \n",
            " dense_7 (Dense)             (None, 1)                 9         \n",
            "                                                                 \n",
            "=================================================================\n",
            "Total params: 192\n",
            "Trainable params: 185\n",
            "Non-trainable params: 7\n",
            "_________________________________________________________________\n",
            "CPU times: user 87 ms, sys: 3.14 ms, total: 90.1 ms\n",
            "Wall time: 97.5 ms\n"
          ]
        },
        {
          "output_type": "execute_result",
          "data": {
            "text/plain": [
              "{'units': 8, 'activation': 'elu', 'learning_rate': 0.2}"
            ]
          },
          "metadata": {},
          "execution_count": 131
        }
      ],
      "source": [
        "%%time\n",
        "#Save best hyperparameters\n",
        "best_rs=tuner_rs.get_best_hyperparameters()[0]\n",
        "# Build model with best parameters\n",
        "hrs_model = tuner_rs.hypermodel.build(best_rs)\n",
        "hrs_model.summary()\n",
        "best_rs.values\n"
      ]
    },
    {
      "cell_type": "code",
      "execution_count": 132,
      "id": "e354a314-42ed-45e5-bb5c-1ada2596484c",
      "metadata": {
        "colab": {
          "base_uri": "https://localhost:8080/",
          "height": 484
        },
        "id": "e354a314-42ed-45e5-bb5c-1ada2596484c",
        "outputId": "d1900b5f-17c2-44e6-825f-52c85d9f3aed"
      },
      "outputs": [
        {
          "output_type": "stream",
          "name": "stdout",
          "text": [
            "CPU times: user 12.1 s, sys: 718 ms, total: 12.8 s\n",
            "Wall time: 21.2 s\n"
          ]
        },
        {
          "output_type": "display_data",
          "data": {
            "text/plain": [
              "<Figure size 640x480 with 1 Axes>"
            ],
            "image/png": "[encoded data removed]"
          },
          "metadata": {}
        }
      ],
      "source": [
        "%%time\n",
        "#hrs_model.fit(train_features, train_label, epochs=100, validation_split=0.2, verbose=0)\n",
        "\n",
        "plot_loss(hrs_model.fit(train_features, train_label, epochs=100, validation_split=0.2, verbose=0))"
      ]
    },
    {
      "cell_type": "code",
      "execution_count": 133,
      "id": "93e83f0a-28e9-42a6-86ad-cfa1435b470d",
      "metadata": {
        "colab": {
          "base_uri": "https://localhost:8080/",
          "height": 472
        },
        "id": "93e83f0a-28e9-42a6-86ad-cfa1435b470d",
        "outputId": "5df5de83-502f-489a-ac8f-4ba17e9c9627"
      },
      "outputs": [
        {
          "output_type": "stream",
          "name": "stdout",
          "text": [
            "7/7 [==============================] - 0s 2ms/step\n"
          ]
        },
        {
          "output_type": "display_data",
          "data": {
            "text/plain": [
              "<Figure size 640x480 with 1 Axes>"
            ],
            "image/png": "[encoded data removed]"
          },
          "metadata": {}
        }
      ],
      "source": [
        "test_predictions = hrs_model.predict(test_features).flatten()\n",
        "\n",
        "a = plt.axes(aspect='equal')\n",
        "plt.scatter(test_label, test_predictions)\n",
        "plt.xlabel('True Values')\n",
        "plt.ylabel('Predictions')\n",
        "lims = [0, 300]\n",
        "plt.xlim(lims)\n",
        "plt.ylim(lims)\n",
        "_ = plt.plot(lims, lims)"
      ]
    },
    {
      "cell_type": "code",
      "execution_count": 134,
      "id": "3543e2f0-96c0-4044-b108-9cb9cf860b09",
      "metadata": {
        "tags": [],
        "colab": {
          "base_uri": "https://localhost:8080/"
        },
        "id": "3543e2f0-96c0-4044-b108-9cb9cf860b09",
        "outputId": "fbc141da-670c-47db-d99d-eb1eaef53c34"
      },
      "outputs": [
        {
          "output_type": "stream",
          "name": "stdout",
          "text": [
            "CPU times: user 54 ms, sys: 3.05 ms, total: 57.1 ms\n",
            "Wall time: 57 ms\n"
          ]
        }
      ],
      "source": [
        "%%time\n",
        "tuner_hBand = kt.Hyperband(\n",
        "    build_hp_model,\n",
        "    objective='val_loss',\n",
        "    max_epochs=10,\n",
        "    hyperband_iterations=2,\n",
        "    overwrite=True)"
      ]
    },
    {
      "cell_type": "code",
      "execution_count": 135,
      "id": "77eafd0d-366e-448c-930e-6b968f2756bc",
      "metadata": {
        "colab": {
          "base_uri": "https://localhost:8080/"
        },
        "id": "77eafd0d-366e-448c-930e-6b968f2756bc",
        "outputId": "79fb0fb0-f85a-4f0e-9733-51315d8aa485"
      },
      "outputs": [
        {
          "output_type": "stream",
          "name": "stdout",
          "text": [
            "CPU times: user 2min 47s, sys: 3.88 s, total: 2min 51s\n",
            "Wall time: 2min 56s\n"
          ]
        }
      ],
      "source": [
        "%%time\n",
        "#Perform Tuning with Hyperband\n",
        "stop_early = tf.keras.callbacks.EarlyStopping(monitor='val_loss', patience=3)\n",
        "tuner_hBand.search(train_features, train_label, epochs=100, validation_split=0.2, verbose=0,\n",
        "                  callbacks=[stop_early])"
      ]
    },
    {
      "cell_type": "code",
      "execution_count": 136,
      "id": "3fbb47e9-7366-4011-8ba4-87a95f58cd22",
      "metadata": {
        "colab": {
          "base_uri": "https://localhost:8080/"
        },
        "id": "3fbb47e9-7366-4011-8ba4-87a95f58cd22",
        "outputId": "2332626d-ecd4-406e-806e-b2b7b62442f0"
      },
      "outputs": [
        {
          "output_type": "execute_result",
          "data": {
            "text/plain": [
              "{'units': 32,\n",
              " 'activation': 'elu',\n",
              " 'learning_rate': 0.05,\n",
              " 'tuner/epochs': 10,\n",
              " 'tuner/initial_epoch': 4,\n",
              " 'tuner/bracket': 2,\n",
              " 'tuner/round': 2,\n",
              " 'tuner/trial_id': '0042'}"
            ]
          },
          "metadata": {},
          "execution_count": 136
        }
      ],
      "source": [
        "#Save best hyperparameters\n",
        "best_hBand=tuner_hBand.get_best_hyperparameters()[0]\n",
        "best_hBand.values\n",
        "\n"
      ]
    },
    {
      "cell_type": "code",
      "execution_count": 137,
      "id": "8a23eae5-8166-43db-83d7-335bc571994d",
      "metadata": {
        "colab": {
          "base_uri": "https://localhost:8080/",
          "height": 833
        },
        "id": "8a23eae5-8166-43db-83d7-335bc571994d",
        "outputId": "2e75c717-bbce-487c-f439-08006094645e"
      },
      "outputs": [
        {
          "output_type": "stream",
          "name": "stdout",
          "text": [
            "Model: \"sequential_1\"\n",
            "_________________________________________________________________\n",
            " Layer (type)                Output Shape              Param #   \n",
            "=================================================================\n",
            " normalization (Normalizatio  (None, 3)                7         \n",
            " n)                                                              \n",
            "                                                                 \n",
            " dense_4 (Dense)             (None, 32)                128       \n",
            "                                                                 \n",
            " dense_5 (Dense)             (None, 32)                1056      \n",
            "                                                                 \n",
            " dense_6 (Dense)             (None, 32)                1056      \n",
            "                                                                 \n",
            " dense_7 (Dense)             (None, 1)                 33        \n",
            "                                                                 \n",
            "=================================================================\n",
            "Total params: 2,280\n",
            "Trainable params: 2,273\n",
            "Non-trainable params: 7\n",
            "_________________________________________________________________\n",
            "CPU times: user 12.9 s, sys: 753 ms, total: 13.7 s\n",
            "Wall time: 12.3 s\n"
          ]
        },
        {
          "output_type": "display_data",
          "data": {
            "text/plain": [
              "<Figure size 640x480 with 1 Axes>"
            ],
            "image/png": "[encoded data removed]"
          },
          "metadata": {}
        }
      ],
      "source": [
        "%%time\n",
        "# Build model with best parameters\n",
        "hBand_model = tuner_hBand.hypermodel.build(best_hBand)\n",
        "hBand_model.summary()\n",
        "plot_loss(hBand_model.fit(train_features, train_label, epochs=100, validation_split=0.2, verbose=0))"
      ]
    },
    {
      "cell_type": "code",
      "execution_count": 138,
      "id": "78e50a21-9417-4175-bdbb-028220212d6f",
      "metadata": {
        "colab": {
          "base_uri": "https://localhost:8080/",
          "height": 472
        },
        "id": "78e50a21-9417-4175-bdbb-028220212d6f",
        "outputId": "8fc70c1d-fb7c-40b1-819d-b8373f5ddb69"
      },
      "outputs": [
        {
          "output_type": "stream",
          "name": "stdout",
          "text": [
            "7/7 [==============================] - 0s 4ms/step\n"
          ]
        },
        {
          "output_type": "display_data",
          "data": {
            "text/plain": [
              "<Figure size 640x480 with 1 Axes>"
            ],
            "image/png": "[encoded data removed]"
          },
          "metadata": {}
        }
      ],
      "source": [
        "test_predictions = hBand_model.predict(test_features).flatten()\n",
        "\n",
        "a = plt.axes(aspect='equal')\n",
        "plt.scatter(test_label, test_predictions)\n",
        "plt.xlabel('True Values')\n",
        "plt.ylabel('Predictions')\n",
        "lims = [0, 300]\n",
        "plt.xlim(lims)\n",
        "plt.ylim(lims)\n",
        "_ = plt.plot(lims, lims)"
      ]
    },
    {
      "cell_type": "code",
      "execution_count": 139,
      "id": "0bba49d3-e128-4d3e-8266-8b4e33a9e9bf",
      "metadata": {
        "colab": {
          "base_uri": "https://localhost:8080/"
        },
        "id": "0bba49d3-e128-4d3e-8266-8b4e33a9e9bf",
        "outputId": "53dde802-bec1-45f6-9b5e-b7ea89d96ef8"
      },
      "outputs": [
        {
          "output_type": "stream",
          "name": "stdout",
          "text": [
            "CPU times: user 62.7 ms, sys: 13 ms, total: 75.7 ms\n",
            "Wall time: 76.2 ms\n"
          ]
        }
      ],
      "source": [
        "%%time\n",
        "tuner_Bayes = kt.BayesianOptimization(\n",
        "    hypermodel=build_hp_model,\n",
        "    objective='val_loss',\n",
        "    max_trials=10,\n",
        "    num_initial_points=None,\n",
        "    alpha=0.0001,\n",
        "    beta=2.6,\n",
        "    seed=42,\n",
        "    hyperparameters=None,\n",
        "    tune_new_entries=True,\n",
        "    allow_new_entries=True,\n",
        "    max_retries_per_trial=0,\n",
        "    max_consecutive_failed_trials=3,\n",
        "    overwrite=True\n",
        ")"
      ]
    },
    {
      "cell_type": "code",
      "execution_count": 140,
      "id": "28064ce7-2260-47d3-ab3b-3cbea060c981",
      "metadata": {
        "tags": [],
        "colab": {
          "base_uri": "https://localhost:8080/"
        },
        "id": "28064ce7-2260-47d3-ab3b-3cbea060c981",
        "outputId": "f463d399-6762-4418-eb0b-a4cb8016370c"
      },
      "outputs": [
        {
          "output_type": "stream",
          "name": "stderr",
          "text": [
            "/usr/local/lib/python3.10/dist-packages/sklearn/gaussian_process/kernels.py:420: ConvergenceWarning: The optimal value found for dimension 0 of parameter length_scale is close to the specified lower bound 1e-05. Decreasing the bound and calling fit again may find a better value.\n",
            "  warnings.warn(\n"
          ]
        },
        {
          "output_type": "stream",
          "name": "stdout",
          "text": [
            "CPU times: user 44.6 s, sys: 1.7 s, total: 46.3 s\n",
            "Wall time: 50.3 s\n"
          ]
        }
      ],
      "source": [
        "%%time\n",
        "tuner_Bayes.search(train_features, train_label, epochs=50, validation_split=0.2, verbose=0,\n",
        "                  callbacks=[stop_early])"
      ]
    },
    {
      "cell_type": "code",
      "execution_count": 141,
      "id": "e5a4ea3d-54ee-49a4-ace7-d8d68faa86a3",
      "metadata": {
        "colab": {
          "base_uri": "https://localhost:8080/"
        },
        "id": "e5a4ea3d-54ee-49a4-ace7-d8d68faa86a3",
        "outputId": "2e96d6be-5927-4aef-97e9-f467dfac5422"
      },
      "outputs": [
        {
          "output_type": "execute_result",
          "data": {
            "text/plain": [
              "{'units': 8, 'activation': 'elu', 'learning_rate': 0.2}"
            ]
          },
          "metadata": {},
          "execution_count": 141
        }
      ],
      "source": [
        "#Save best hyperparameters\n",
        "best_Bayes=tuner_Bayes.get_best_hyperparameters()[0]\n",
        "best_Bayes.values"
      ]
    },
    {
      "cell_type": "code",
      "execution_count": 142,
      "id": "224744ac-5626-4d32-9605-ab300107ad1b",
      "metadata": {
        "colab": {
          "base_uri": "https://localhost:8080/",
          "height": 796
        },
        "id": "224744ac-5626-4d32-9605-ab300107ad1b",
        "outputId": "9b4a98ff-d3fa-4c86-9530-790f3eebaf36"
      },
      "outputs": [
        {
          "output_type": "stream",
          "name": "stdout",
          "text": [
            "Model: \"sequential_1\"\n",
            "_________________________________________________________________\n",
            " Layer (type)                Output Shape              Param #   \n",
            "=================================================================\n",
            " normalization (Normalizatio  (None, 3)                7         \n",
            " n)                                                              \n",
            "                                                                 \n",
            " dense_4 (Dense)             (None, 8)                 32        \n",
            "                                                                 \n",
            " dense_5 (Dense)             (None, 8)                 72        \n",
            "                                                                 \n",
            " dense_6 (Dense)             (None, 8)                 72        \n",
            "                                                                 \n",
            " dense_7 (Dense)             (None, 1)                 9         \n",
            "                                                                 \n",
            "=================================================================\n",
            "Total params: 192\n",
            "Trainable params: 185\n",
            "Non-trainable params: 7\n",
            "_________________________________________________________________\n"
          ]
        },
        {
          "output_type": "display_data",
          "data": {
            "text/plain": [
              "<Figure size 640x480 with 1 Axes>"
            ],
            "image/png": "[encoded data removed]"
          },
          "metadata": {}
        }
      ],
      "source": [
        "# Build model with best parameters\n",
        "hBayes_model = tuner_Bayes.hypermodel.build(best_Bayes)\n",
        "hBayes_model.summary()\n",
        "plot_loss(hBayes_model.fit(train_features, train_label, epochs=100, validation_split=0.2, verbose=0))"
      ]
    },
    {
      "cell_type": "code",
      "execution_count": 143,
      "id": "11887c05-f753-4bea-a45d-64ca1d8828a5",
      "metadata": {
        "colab": {
          "base_uri": "https://localhost:8080/",
          "height": 472
        },
        "id": "11887c05-f753-4bea-a45d-64ca1d8828a5",
        "outputId": "568077b4-04c8-48ae-a3e1-c3a8b7074b5b"
      },
      "outputs": [
        {
          "output_type": "stream",
          "name": "stdout",
          "text": [
            "7/7 [==============================] - 0s 2ms/step\n"
          ]
        },
        {
          "output_type": "display_data",
          "data": {
            "text/plain": [
              "<Figure size 640x480 with 1 Axes>"
            ],
            "image/png": "[encoded data removed]"
          },
          "metadata": {}
        }
      ],
      "source": [
        "test_predictions = hBayes_model.predict(test_features).flatten()\n",
        "a = plt.axes(aspect='equal')\n",
        "plt.scatter(test_label, test_predictions)\n",
        "plt.xlabel('True Values')\n",
        "plt.ylabel('Predictions')\n",
        "lims = [0, 300]\n",
        "plt.xlim(lims)\n",
        "plt.ylim(lims)\n",
        "_ = plt.plot(lims, lims)"
      ]
    },
    {
      "cell_type": "code",
      "execution_count": 143,
      "id": "588769a4-2f7a-4002-b5be-becbae0ff0db",
      "metadata": {
        "id": "588769a4-2f7a-4002-b5be-becbae0ff0db"
      },
      "outputs": [],
      "source": []
    }
  ],
  "metadata": {
    "kernelspec": {
      "display_name": "Python 3",
      "name": "python3"
    },
    "language_info": {
      "codemirror_mode": {
        "name": "ipython",
        "version": 3
      },
      "file_extension": ".py",
      "mimetype": "text/x-python",
      "name": "python",
      "nbconvert_exporter": "python",
      "pygments_lexer": "ipython3",
      "version": "3.10.9"
    },
    "colab": {
      "provenance": [],
      "gpuType": "T4",
      "include_colab_link": true
    },
    "accelerator": "GPU"
  },
  "nbformat": 4,
  "nbformat_minor": 5
}